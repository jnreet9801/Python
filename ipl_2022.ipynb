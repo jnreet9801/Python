{
 "cells": [
  {
   "cell_type": "code",
   "execution_count": 1,
   "id": "c3c7ba09",
   "metadata": {},
   "outputs": [],
   "source": [
    "import numpy as np\n",
    "import pandas as pd\n",
    "import matplotlib.pyplot as plt\n",
    "import seaborn as sns\n",
    "\n",
    "%matplotlib inline\n",
    "import warnings \n",
    "warnings.filterwarnings('ignore')"
   ]
  },
  {
   "cell_type": "code",
   "execution_count": 5,
   "id": "a52817d3",
   "metadata": {},
   "outputs": [],
   "source": [
    "path='C:/py/'\n",
    "ipl=pd.read_csv(path+'ipl_2022.csv')"
   ]
  },
  {
   "cell_type": "code",
   "execution_count": 6,
   "id": "9e30c8ab",
   "metadata": {},
   "outputs": [
    {
     "data": {
      "text/html": [
       "<div>\n",
       "<style scoped>\n",
       "    .dataframe tbody tr th:only-of-type {\n",
       "        vertical-align: middle;\n",
       "    }\n",
       "\n",
       "    .dataframe tbody tr th {\n",
       "        vertical-align: top;\n",
       "    }\n",
       "\n",
       "    .dataframe thead th {\n",
       "        text-align: right;\n",
       "    }\n",
       "</style>\n",
       "<table border=\"1\" class=\"dataframe\">\n",
       "  <thead>\n",
       "    <tr style=\"text-align: right;\">\n",
       "      <th></th>\n",
       "      <th>Unnamed: 0</th>\n",
       "      <th>Player</th>\n",
       "      <th>Base Price</th>\n",
       "      <th>TYPE</th>\n",
       "      <th>COST IN ₹ (CR.)</th>\n",
       "      <th>Cost IN $ (000)</th>\n",
       "      <th>2021 Squad</th>\n",
       "      <th>Team</th>\n",
       "    </tr>\n",
       "  </thead>\n",
       "  <tbody>\n",
       "    <tr>\n",
       "      <th>0</th>\n",
       "      <td>0</td>\n",
       "      <td>Rashid Khan</td>\n",
       "      <td>Draft Pick</td>\n",
       "      <td>BOWLER</td>\n",
       "      <td>15.0</td>\n",
       "      <td>1950.0</td>\n",
       "      <td>SRH</td>\n",
       "      <td>Gujarat Titans</td>\n",
       "    </tr>\n",
       "    <tr>\n",
       "      <th>1</th>\n",
       "      <td>1</td>\n",
       "      <td>Hardik Pandya</td>\n",
       "      <td>Draft Pick</td>\n",
       "      <td>ALL-ROUNDER</td>\n",
       "      <td>15.0</td>\n",
       "      <td>1950.0</td>\n",
       "      <td>MI</td>\n",
       "      <td>Gujarat Titans</td>\n",
       "    </tr>\n",
       "    <tr>\n",
       "      <th>2</th>\n",
       "      <td>2</td>\n",
       "      <td>Lockie Ferguson</td>\n",
       "      <td>2 Cr</td>\n",
       "      <td>BOWLER</td>\n",
       "      <td>10.0</td>\n",
       "      <td>1300.0</td>\n",
       "      <td>KKR</td>\n",
       "      <td>Gujarat Titans</td>\n",
       "    </tr>\n",
       "    <tr>\n",
       "      <th>3</th>\n",
       "      <td>3</td>\n",
       "      <td>Rahul Tewatia</td>\n",
       "      <td>40 Lakh</td>\n",
       "      <td>ALL-ROUNDER</td>\n",
       "      <td>9.0</td>\n",
       "      <td>1170.0</td>\n",
       "      <td>RR</td>\n",
       "      <td>Gujarat Titans</td>\n",
       "    </tr>\n",
       "    <tr>\n",
       "      <th>4</th>\n",
       "      <td>4</td>\n",
       "      <td>Shubman Gill</td>\n",
       "      <td>Draft Pick</td>\n",
       "      <td>BATTER</td>\n",
       "      <td>8.0</td>\n",
       "      <td>1040.0</td>\n",
       "      <td>KKR</td>\n",
       "      <td>Gujarat Titans</td>\n",
       "    </tr>\n",
       "  </tbody>\n",
       "</table>\n",
       "</div>"
      ],
      "text/plain": [
       "   Unnamed: 0           Player  Base Price         TYPE  COST IN ₹ (CR.)  \\\n",
       "0           0      Rashid Khan  Draft Pick       BOWLER             15.0   \n",
       "1           1    Hardik Pandya  Draft Pick  ALL-ROUNDER             15.0   \n",
       "2           2  Lockie Ferguson        2 Cr       BOWLER             10.0   \n",
       "3           3    Rahul Tewatia     40 Lakh  ALL-ROUNDER              9.0   \n",
       "4           4     Shubman Gill  Draft Pick       BATTER              8.0   \n",
       "\n",
       "   Cost IN $ (000) 2021 Squad            Team  \n",
       "0           1950.0        SRH  Gujarat Titans  \n",
       "1           1950.0         MI  Gujarat Titans  \n",
       "2           1300.0        KKR  Gujarat Titans  \n",
       "3           1170.0         RR  Gujarat Titans  \n",
       "4           1040.0        KKR  Gujarat Titans  "
      ]
     },
     "execution_count": 6,
     "metadata": {},
     "output_type": "execute_result"
    }
   ],
   "source": [
    "ipl.head()"
   ]
  },
  {
   "cell_type": "code",
   "execution_count": 7,
   "id": "a4208aa3",
   "metadata": {},
   "outputs": [
    {
     "data": {
      "text/plain": [
       "(633, 8)"
      ]
     },
     "execution_count": 7,
     "metadata": {},
     "output_type": "execute_result"
    }
   ],
   "source": [
    "ipl.shape"
   ]
  },
  {
   "cell_type": "code",
   "execution_count": 8,
   "id": "d36a7d20",
   "metadata": {},
   "outputs": [
    {
     "name": "stdout",
     "output_type": "stream",
     "text": [
      "<class 'pandas.core.frame.DataFrame'>\n",
      "RangeIndex: 633 entries, 0 to 632\n",
      "Data columns (total 8 columns):\n",
      " #   Column           Non-Null Count  Dtype  \n",
      "---  ------           --------------  -----  \n",
      " 0   Unnamed: 0       633 non-null    int64  \n",
      " 1   Player           633 non-null    object \n",
      " 2   Base Price       633 non-null    object \n",
      " 3   TYPE             633 non-null    object \n",
      " 4   COST IN ₹ (CR.)  237 non-null    float64\n",
      " 5   Cost IN $ (000)  237 non-null    float64\n",
      " 6   2021 Squad       199 non-null    object \n",
      " 7   Team             633 non-null    object \n",
      "dtypes: float64(2), int64(1), object(5)\n",
      "memory usage: 39.7+ KB\n"
     ]
    }
   ],
   "source": [
    "ipl.info()"
   ]
  },
  {
   "cell_type": "code",
   "execution_count": 9,
   "id": "9790eb0c",
   "metadata": {},
   "outputs": [
    {
     "data": {
      "text/plain": [
       "Index(['Unnamed: 0', 'Player', 'Base Price', 'TYPE', 'COST IN ₹ (CR.)',\n",
       "       'Cost IN $ (000)', '2021 Squad', 'Team'],\n",
       "      dtype='object')"
      ]
     },
     "execution_count": 9,
     "metadata": {},
     "output_type": "execute_result"
    }
   ],
   "source": [
    "ipl.columns"
   ]
  },
  {
   "cell_type": "code",
   "execution_count": 11,
   "id": "56f0a982",
   "metadata": {},
   "outputs": [],
   "source": [
    "ipl.drop('Unnamed: 0',axis=1, inplace=True)"
   ]
  },
  {
   "cell_type": "code",
   "execution_count": 12,
   "id": "d6422338",
   "metadata": {},
   "outputs": [
    {
     "name": "stdout",
     "output_type": "stream",
     "text": [
      "<class 'pandas.core.frame.DataFrame'>\n",
      "RangeIndex: 633 entries, 0 to 632\n",
      "Data columns (total 7 columns):\n",
      " #   Column           Non-Null Count  Dtype  \n",
      "---  ------           --------------  -----  \n",
      " 0   Player           633 non-null    object \n",
      " 1   Base Price       633 non-null    object \n",
      " 2   TYPE             633 non-null    object \n",
      " 3   COST IN ₹ (CR.)  237 non-null    float64\n",
      " 4   Cost IN $ (000)  237 non-null    float64\n",
      " 5   2021 Squad       199 non-null    object \n",
      " 6   Team             633 non-null    object \n",
      "dtypes: float64(2), object(5)\n",
      "memory usage: 34.7+ KB\n"
     ]
    }
   ],
   "source": [
    "ipl.info()"
   ]
  },
  {
   "cell_type": "code",
   "execution_count": 13,
   "id": "c7d44adb",
   "metadata": {},
   "outputs": [
    {
     "data": {
      "text/plain": [
       "Player               0\n",
       "Base Price           0\n",
       "TYPE                 0\n",
       "COST IN ₹ (CR.)    396\n",
       "Cost IN $ (000)    396\n",
       "2021 Squad         434\n",
       "Team                 0\n",
       "dtype: int64"
      ]
     },
     "execution_count": 13,
     "metadata": {},
     "output_type": "execute_result"
    }
   ],
   "source": [
    "ipl.isnull().sum()"
   ]
  },
  {
   "cell_type": "code",
   "execution_count": 18,
   "id": "93795064",
   "metadata": {},
   "outputs": [
    {
     "data": {
      "text/html": [
       "<div>\n",
       "<style scoped>\n",
       "    .dataframe tbody tr th:only-of-type {\n",
       "        vertical-align: middle;\n",
       "    }\n",
       "\n",
       "    .dataframe tbody tr th {\n",
       "        vertical-align: top;\n",
       "    }\n",
       "\n",
       "    .dataframe thead th {\n",
       "        text-align: right;\n",
       "    }\n",
       "</style>\n",
       "<table border=\"1\" class=\"dataframe\">\n",
       "  <thead>\n",
       "    <tr style=\"text-align: right;\">\n",
       "      <th></th>\n",
       "      <th>Player</th>\n",
       "      <th>Base Price</th>\n",
       "      <th>TYPE</th>\n",
       "      <th>COST IN ₹ (CR.)</th>\n",
       "      <th>Cost IN $ (000)</th>\n",
       "      <th>2021 Squad</th>\n",
       "      <th>Team</th>\n",
       "    </tr>\n",
       "  </thead>\n",
       "  <tbody>\n",
       "  </tbody>\n",
       "</table>\n",
       "</div>"
      ],
      "text/plain": [
       "Empty DataFrame\n",
       "Columns: [Player, Base Price, TYPE, COST IN ₹ (CR.), Cost IN $ (000), 2021 Squad, Team]\n",
       "Index: []"
      ]
     },
     "execution_count": 18,
     "metadata": {},
     "output_type": "execute_result"
    }
   ],
   "source": [
    "ipl[ipl['Cost IN $ (000)'].isnull()]"
   ]
  },
  {
   "cell_type": "code",
   "execution_count": 17,
   "id": "862d5d38",
   "metadata": {},
   "outputs": [],
   "source": [
    "ipl['COST IN ₹ (CR.)']= ipl['COST IN ₹ (CR.)'].fillna(0)\n",
    "ipl['Cost IN $ (000)']= ipl['Cost IN $ (000)'].fillna(0)"
   ]
  },
  {
   "cell_type": "code",
   "execution_count": 23,
   "id": "f9d71b94",
   "metadata": {},
   "outputs": [
    {
     "data": {
      "text/html": [
       "<div>\n",
       "<style scoped>\n",
       "    .dataframe tbody tr th:only-of-type {\n",
       "        vertical-align: middle;\n",
       "    }\n",
       "\n",
       "    .dataframe tbody tr th {\n",
       "        vertical-align: top;\n",
       "    }\n",
       "\n",
       "    .dataframe thead th {\n",
       "        text-align: right;\n",
       "    }\n",
       "</style>\n",
       "<table border=\"1\" class=\"dataframe\">\n",
       "  <thead>\n",
       "    <tr style=\"text-align: right;\">\n",
       "      <th></th>\n",
       "      <th>Player</th>\n",
       "      <th>Base Price</th>\n",
       "      <th>TYPE</th>\n",
       "      <th>COST IN ₹ (CR.)</th>\n",
       "      <th>Cost IN $ (000)</th>\n",
       "      <th>2021 Squad</th>\n",
       "      <th>Team</th>\n",
       "    </tr>\n",
       "  </thead>\n",
       "  <tbody>\n",
       "  </tbody>\n",
       "</table>\n",
       "</div>"
      ],
      "text/plain": [
       "Empty DataFrame\n",
       "Columns: [Player, Base Price, TYPE, COST IN ₹ (CR.), Cost IN $ (000), 2021 Squad, Team]\n",
       "Index: []"
      ]
     },
     "execution_count": 23,
     "metadata": {},
     "output_type": "execute_result"
    }
   ],
   "source": [
    "ipl[ipl['2021 Squad'].isnull()]"
   ]
  },
  {
   "cell_type": "code",
   "execution_count": 22,
   "id": "0be70782",
   "metadata": {},
   "outputs": [],
   "source": [
    "ipl['2021 Squad']=ipl['2021 Squad'].fillna('Not Participated')"
   ]
  },
  {
   "cell_type": "code",
   "execution_count": 24,
   "id": "2e5c9edb",
   "metadata": {},
   "outputs": [
    {
     "data": {
      "text/plain": [
       "Player             0\n",
       "Base Price         0\n",
       "TYPE               0\n",
       "COST IN ₹ (CR.)    0\n",
       "Cost IN $ (000)    0\n",
       "2021 Squad         0\n",
       "Team               0\n",
       "dtype: int64"
      ]
     },
     "execution_count": 24,
     "metadata": {},
     "output_type": "execute_result"
    }
   ],
   "source": [
    "ipl.isnull().sum()"
   ]
  },
  {
   "cell_type": "code",
   "execution_count": 25,
   "id": "38af90e9",
   "metadata": {},
   "outputs": [],
   "source": [
    "teams=ipl[ipl['COST IN ₹ (CR.)']>0]['Team'].unique()"
   ]
  },
  {
   "cell_type": "code",
   "execution_count": 26,
   "id": "014e171d",
   "metadata": {},
   "outputs": [
    {
     "data": {
      "text/plain": [
       "array(['Gujarat Titans', 'Chennai Super Kings', 'Delhi Capitals',\n",
       "       'Kolkata Knight Riders', 'Punjab Kings', 'Lucknow Super Giants',\n",
       "       'Mumbai Indians', 'Royal Challengers Bangalore',\n",
       "       'Rajasthan Royals', 'Sunrisers Hyderabad'], dtype=object)"
      ]
     },
     "execution_count": 26,
     "metadata": {},
     "output_type": "execute_result"
    }
   ],
   "source": [
    "teams"
   ]
  },
  {
   "cell_type": "code",
   "execution_count": 28,
   "id": "548186ea",
   "metadata": {},
   "outputs": [],
   "source": [
    "ipl['status']=ipl['Team'].replace(teams,'sold')"
   ]
  },
  {
   "cell_type": "code",
   "execution_count": 29,
   "id": "70ea417f",
   "metadata": {},
   "outputs": [
    {
     "data": {
      "text/html": [
       "<div>\n",
       "<style scoped>\n",
       "    .dataframe tbody tr th:only-of-type {\n",
       "        vertical-align: middle;\n",
       "    }\n",
       "\n",
       "    .dataframe tbody tr th {\n",
       "        vertical-align: top;\n",
       "    }\n",
       "\n",
       "    .dataframe thead th {\n",
       "        text-align: right;\n",
       "    }\n",
       "</style>\n",
       "<table border=\"1\" class=\"dataframe\">\n",
       "  <thead>\n",
       "    <tr style=\"text-align: right;\">\n",
       "      <th></th>\n",
       "      <th>Player</th>\n",
       "      <th>Base Price</th>\n",
       "      <th>TYPE</th>\n",
       "      <th>COST IN ₹ (CR.)</th>\n",
       "      <th>Cost IN $ (000)</th>\n",
       "      <th>2021 Squad</th>\n",
       "      <th>Team</th>\n",
       "      <th>status</th>\n",
       "    </tr>\n",
       "  </thead>\n",
       "  <tbody>\n",
       "    <tr>\n",
       "      <th>0</th>\n",
       "      <td>Rashid Khan</td>\n",
       "      <td>Draft Pick</td>\n",
       "      <td>BOWLER</td>\n",
       "      <td>15.0</td>\n",
       "      <td>1950.0</td>\n",
       "      <td>SRH</td>\n",
       "      <td>Gujarat Titans</td>\n",
       "      <td>sold</td>\n",
       "    </tr>\n",
       "    <tr>\n",
       "      <th>1</th>\n",
       "      <td>Hardik Pandya</td>\n",
       "      <td>Draft Pick</td>\n",
       "      <td>ALL-ROUNDER</td>\n",
       "      <td>15.0</td>\n",
       "      <td>1950.0</td>\n",
       "      <td>MI</td>\n",
       "      <td>Gujarat Titans</td>\n",
       "      <td>sold</td>\n",
       "    </tr>\n",
       "    <tr>\n",
       "      <th>2</th>\n",
       "      <td>Lockie Ferguson</td>\n",
       "      <td>2 Cr</td>\n",
       "      <td>BOWLER</td>\n",
       "      <td>10.0</td>\n",
       "      <td>1300.0</td>\n",
       "      <td>KKR</td>\n",
       "      <td>Gujarat Titans</td>\n",
       "      <td>sold</td>\n",
       "    </tr>\n",
       "    <tr>\n",
       "      <th>3</th>\n",
       "      <td>Rahul Tewatia</td>\n",
       "      <td>40 Lakh</td>\n",
       "      <td>ALL-ROUNDER</td>\n",
       "      <td>9.0</td>\n",
       "      <td>1170.0</td>\n",
       "      <td>RR</td>\n",
       "      <td>Gujarat Titans</td>\n",
       "      <td>sold</td>\n",
       "    </tr>\n",
       "    <tr>\n",
       "      <th>4</th>\n",
       "      <td>Shubman Gill</td>\n",
       "      <td>Draft Pick</td>\n",
       "      <td>BATTER</td>\n",
       "      <td>8.0</td>\n",
       "      <td>1040.0</td>\n",
       "      <td>KKR</td>\n",
       "      <td>Gujarat Titans</td>\n",
       "      <td>sold</td>\n",
       "    </tr>\n",
       "  </tbody>\n",
       "</table>\n",
       "</div>"
      ],
      "text/plain": [
       "            Player  Base Price         TYPE  COST IN ₹ (CR.)  Cost IN $ (000)  \\\n",
       "0      Rashid Khan  Draft Pick       BOWLER             15.0           1950.0   \n",
       "1    Hardik Pandya  Draft Pick  ALL-ROUNDER             15.0           1950.0   \n",
       "2  Lockie Ferguson        2 Cr       BOWLER             10.0           1300.0   \n",
       "3    Rahul Tewatia     40 Lakh  ALL-ROUNDER              9.0           1170.0   \n",
       "4     Shubman Gill  Draft Pick       BATTER              8.0           1040.0   \n",
       "\n",
       "  2021 Squad            Team status  \n",
       "0        SRH  Gujarat Titans   sold  \n",
       "1         MI  Gujarat Titans   sold  \n",
       "2        KKR  Gujarat Titans   sold  \n",
       "3         RR  Gujarat Titans   sold  \n",
       "4        KKR  Gujarat Titans   sold  "
      ]
     },
     "execution_count": 29,
     "metadata": {},
     "output_type": "execute_result"
    }
   ],
   "source": [
    "ipl.head()"
   ]
  },
  {
   "cell_type": "code",
   "execution_count": 31,
   "id": "0f61815c",
   "metadata": {},
   "outputs": [
    {
     "data": {
      "text/html": [
       "<div>\n",
       "<style scoped>\n",
       "    .dataframe tbody tr th:only-of-type {\n",
       "        vertical-align: middle;\n",
       "    }\n",
       "\n",
       "    .dataframe tbody tr th {\n",
       "        vertical-align: top;\n",
       "    }\n",
       "\n",
       "    .dataframe thead th {\n",
       "        text-align: right;\n",
       "    }\n",
       "</style>\n",
       "<table border=\"1\" class=\"dataframe\">\n",
       "  <thead>\n",
       "    <tr style=\"text-align: right;\">\n",
       "      <th></th>\n",
       "      <th>Player</th>\n",
       "      <th>Base Price</th>\n",
       "      <th>TYPE</th>\n",
       "      <th>COST IN ₹ (CR.)</th>\n",
       "      <th>Cost IN $ (000)</th>\n",
       "      <th>2021 Squad</th>\n",
       "      <th>Team</th>\n",
       "      <th>status</th>\n",
       "    </tr>\n",
       "  </thead>\n",
       "  <tbody>\n",
       "    <tr>\n",
       "      <th>62</th>\n",
       "      <td>Lalit Yadav</td>\n",
       "      <td>20 Lakh</td>\n",
       "      <td>ALL-ROUNDER</td>\n",
       "      <td>0.65</td>\n",
       "      <td>84.5</td>\n",
       "      <td>DC</td>\n",
       "      <td>Delhi Capitals</td>\n",
       "      <td>sold</td>\n",
       "    </tr>\n",
       "    <tr>\n",
       "      <th>240</th>\n",
       "      <td>Amit Mishra</td>\n",
       "      <td>1.5 Cr</td>\n",
       "      <td>BOWLER</td>\n",
       "      <td>0.00</td>\n",
       "      <td>0.0</td>\n",
       "      <td>DC</td>\n",
       "      <td>Unsold</td>\n",
       "      <td>Unsold</td>\n",
       "    </tr>\n",
       "    <tr>\n",
       "      <th>499</th>\n",
       "      <td>Amit Mishra</td>\n",
       "      <td>20 Lakh</td>\n",
       "      <td>BOWLER</td>\n",
       "      <td>0.00</td>\n",
       "      <td>0.0</td>\n",
       "      <td>Not Participated</td>\n",
       "      <td>Unsold</td>\n",
       "      <td>Unsold</td>\n",
       "    </tr>\n",
       "    <tr>\n",
       "      <th>518</th>\n",
       "      <td>Shivam Sharma</td>\n",
       "      <td>20 Lakh</td>\n",
       "      <td>ALL-ROUNDER</td>\n",
       "      <td>0.00</td>\n",
       "      <td>0.0</td>\n",
       "      <td>Not Participated</td>\n",
       "      <td>Unsold</td>\n",
       "      <td>Unsold</td>\n",
       "    </tr>\n",
       "    <tr>\n",
       "      <th>530</th>\n",
       "      <td>Lalit Yadav</td>\n",
       "      <td>20 Lakh</td>\n",
       "      <td>BOWLER</td>\n",
       "      <td>0.00</td>\n",
       "      <td>0.0</td>\n",
       "      <td>Not Participated</td>\n",
       "      <td>Unsold</td>\n",
       "      <td>Unsold</td>\n",
       "    </tr>\n",
       "    <tr>\n",
       "      <th>537</th>\n",
       "      <td>Shubham Singh</td>\n",
       "      <td>20 Lakh</td>\n",
       "      <td>ALL-ROUNDER</td>\n",
       "      <td>0.00</td>\n",
       "      <td>0.0</td>\n",
       "      <td>Not Participated</td>\n",
       "      <td>Unsold</td>\n",
       "      <td>Unsold</td>\n",
       "    </tr>\n",
       "    <tr>\n",
       "      <th>544</th>\n",
       "      <td>Shubham Singh</td>\n",
       "      <td>20 Lakh</td>\n",
       "      <td>BOWLER</td>\n",
       "      <td>0.00</td>\n",
       "      <td>0.0</td>\n",
       "      <td>Not Participated</td>\n",
       "      <td>Unsold</td>\n",
       "      <td>Unsold</td>\n",
       "    </tr>\n",
       "    <tr>\n",
       "      <th>569</th>\n",
       "      <td>Shivam Sharma</td>\n",
       "      <td>20 Lakh</td>\n",
       "      <td>ALL-ROUNDER</td>\n",
       "      <td>0.00</td>\n",
       "      <td>0.0</td>\n",
       "      <td>Not Participated</td>\n",
       "      <td>Unsold</td>\n",
       "      <td>Unsold</td>\n",
       "    </tr>\n",
       "  </tbody>\n",
       "</table>\n",
       "</div>"
      ],
      "text/plain": [
       "            Player Base Price         TYPE  COST IN ₹ (CR.)  Cost IN $ (000)  \\\n",
       "62     Lalit Yadav    20 Lakh  ALL-ROUNDER             0.65             84.5   \n",
       "240    Amit Mishra     1.5 Cr       BOWLER             0.00              0.0   \n",
       "499    Amit Mishra    20 Lakh       BOWLER             0.00              0.0   \n",
       "518  Shivam Sharma    20 Lakh  ALL-ROUNDER             0.00              0.0   \n",
       "530    Lalit Yadav    20 Lakh       BOWLER             0.00              0.0   \n",
       "537  Shubham Singh    20 Lakh  ALL-ROUNDER             0.00              0.0   \n",
       "544  Shubham Singh    20 Lakh       BOWLER             0.00              0.0   \n",
       "569  Shivam Sharma    20 Lakh  ALL-ROUNDER             0.00              0.0   \n",
       "\n",
       "           2021 Squad            Team  status  \n",
       "62                 DC  Delhi Capitals    sold  \n",
       "240                DC          Unsold  Unsold  \n",
       "499  Not Participated          Unsold  Unsold  \n",
       "518  Not Participated          Unsold  Unsold  \n",
       "530  Not Participated          Unsold  Unsold  \n",
       "537  Not Participated          Unsold  Unsold  \n",
       "544  Not Participated          Unsold  Unsold  \n",
       "569  Not Participated          Unsold  Unsold  "
      ]
     },
     "execution_count": 31,
     "metadata": {},
     "output_type": "execute_result"
    }
   ],
   "source": [
    "ipl[ipl['Player'].duplicated(keep=False)]"
   ]
  },
  {
   "cell_type": "code",
   "execution_count": 32,
   "id": "03441e79",
   "metadata": {},
   "outputs": [
    {
     "data": {
      "text/plain": [
       "633"
      ]
     },
     "execution_count": 32,
     "metadata": {},
     "output_type": "execute_result"
    }
   ],
   "source": [
    "ipl.shape[0]"
   ]
  },
  {
   "cell_type": "code",
   "execution_count": 35,
   "id": "318f34e3",
   "metadata": {},
   "outputs": [
    {
     "data": {
      "text/html": [
       "<div>\n",
       "<style scoped>\n",
       "    .dataframe tbody tr th:only-of-type {\n",
       "        vertical-align: middle;\n",
       "    }\n",
       "\n",
       "    .dataframe tbody tr th {\n",
       "        vertical-align: top;\n",
       "    }\n",
       "\n",
       "    .dataframe thead th {\n",
       "        text-align: right;\n",
       "    }\n",
       "</style>\n",
       "<table border=\"1\" class=\"dataframe\">\n",
       "  <thead>\n",
       "    <tr style=\"text-align: right;\">\n",
       "      <th></th>\n",
       "      <th>index</th>\n",
       "      <th>TYPE</th>\n",
       "    </tr>\n",
       "  </thead>\n",
       "  <tbody>\n",
       "    <tr>\n",
       "      <th>0</th>\n",
       "      <td>ALL-ROUNDER</td>\n",
       "      <td>242</td>\n",
       "    </tr>\n",
       "    <tr>\n",
       "      <th>1</th>\n",
       "      <td>BOWLER</td>\n",
       "      <td>215</td>\n",
       "    </tr>\n",
       "    <tr>\n",
       "      <th>2</th>\n",
       "      <td>BATTER</td>\n",
       "      <td>112</td>\n",
       "    </tr>\n",
       "    <tr>\n",
       "      <th>3</th>\n",
       "      <td>WICKETKEEPER</td>\n",
       "      <td>64</td>\n",
       "    </tr>\n",
       "  </tbody>\n",
       "</table>\n",
       "</div>"
      ],
      "text/plain": [
       "          index  TYPE\n",
       "0   ALL-ROUNDER   242\n",
       "1        BOWLER   215\n",
       "2        BATTER   112\n",
       "3  WICKETKEEPER    64"
      ]
     },
     "execution_count": 35,
     "metadata": {},
     "output_type": "execute_result"
    }
   ],
   "source": [
    "types=ipl['TYPE'].value_counts()\n",
    "types.reset_index()"
   ]
  },
  {
   "cell_type": "code",
   "execution_count": 39,
   "id": "26ebdb14",
   "metadata": {},
   "outputs": [
    {
     "data": {
      "image/png": "[encoded data removed]",
      "text/plain": [
       "<Figure size 640x480 with 1 Axes>"
      ]
     },
     "metadata": {},
     "output_type": "display_data"
    }
   ],
   "source": [
    "plt.pie(types.values,labels=types.index,autopct='%1.2f%%',startangle=90)\n",
    "plt.title('Role of Players Participated',fontsize=20)\n",
    "plt.show()"
   ]
  },
  {
   "cell_type": "code",
   "execution_count": 40,
   "id": "c5f7fae6",
   "metadata": {},
   "outputs": [
    {
     "data": {
      "image/png": "[encoded data removed]",
      "text/plain": [
       "<Figure size 1000x500 with 1 Axes>"
      ]
     },
     "metadata": {},
     "output_type": "display_data"
    }
   ],
   "source": [
    "plt.figure(figsize=(10,5))\n",
    "fig=sns.countplot(ipl['status'],palette=['Orange','Pink'])\n",
    "plt.title('Sold or Unsold')\n",
    "plt.xlabel('Number of players')\n",
    "plt.ylabel('sold vs unsold',fontsize=20)\n",
    "plt.show()\n"
   ]
  },
  {
   "cell_type": "code",
   "execution_count": 44,
   "id": "26482555",
   "metadata": {},
   "outputs": [
    {
     "data": {
      "text/plain": [
       "status\n",
       "Unsold    396\n",
       "sold      237\n",
       "Name: Player, dtype: int64"
      ]
     },
     "execution_count": 44,
     "metadata": {},
     "output_type": "execute_result"
    }
   ],
   "source": [
    "ipl.groupby('status')['Player'].count()"
   ]
  },
  {
   "cell_type": "code",
   "execution_count": 51,
   "id": "a7201190",
   "metadata": {},
   "outputs": [
    {
     "data": {
      "image/png": "[encoded data removed]",
      "text/plain": [
       "<Figure size 1000x500 with 1 Axes>"
      ]
     },
     "metadata": {},
     "output_type": "display_data"
    }
   ],
   "source": [
    "plt.figure(figsize=(10,5))\n",
    "fig=sns.countplot(ipl[ipl['Team']!='Unsold']['Team'])\n",
    "plt.title('Team Names')\n",
    "plt.xlabel('Number of players')\n",
    "plt.ylabel('Players bought by each team',fontsize=20)\n",
    "plt.xticks(rotation=70)\n",
    "plt.yticks(rotation=70)\n",
    "plt.show()\n"
   ]
  },
  {
   "cell_type": "code",
   "execution_count": 57,
   "id": "6344bffa",
   "metadata": {},
   "outputs": [
    {
     "data": {
      "text/plain": [
       "array(['Draft Pick', '2 Cr', '40 Lakh', '20 Lakh', '1 Cr', '75 Lakh',\n",
       "       '50 Lakh', '30 Lakh', 'Retained', '1.5 Cr'], dtype=object)"
      ]
     },
     "execution_count": 57,
     "metadata": {},
     "output_type": "execute_result"
    }
   ],
   "source": [
    "ipl['Base Price'].unique()"
   ]
  },
  {
   "cell_type": "code",
   "execution_count": 52,
   "id": "4d44b0ff",
   "metadata": {},
   "outputs": [],
   "source": [
    "ipl['retention']=ipl['Base Price']"
   ]
  },
  {
   "cell_type": "code",
   "execution_count": 58,
   "id": "f5fc877e",
   "metadata": {},
   "outputs": [],
   "source": [
    "ipl['retention'].replace(['2 Cr', '40 Lakh', '20 Lakh', '1 Cr', '75 Lakh',\n",
    "       '50 Lakh', '30 Lakh', '1.5 Cr'],'From Auction',inplace=True)"
   ]
  },
  {
   "cell_type": "code",
   "execution_count": 60,
   "id": "42986a72",
   "metadata": {},
   "outputs": [
    {
     "data": {
      "text/plain": [
       "array(['Draft Pick', 'Draft Pick', 'From Auction', 'From Auction',\n",
       "       'Draft Pick', 'From Auction', 'From Auction', 'From Auction',\n",
       "       'From Auction', 'From Auction', 'From Auction', 'From Auction',\n",
       "       'From Auction', 'From Auction', 'From Auction', 'From Auction',\n",
       "       'From Auction', 'From Auction', 'From Auction', 'From Auction',\n",
       "       'From Auction', 'From Auction', 'Retained', 'From Auction',\n",
       "       'Retained', 'Retained', 'From Auction', 'Retained', 'From Auction',\n",
       "       'From Auction', 'From Auction', 'From Auction', 'From Auction',\n",
       "       'From Auction', 'From Auction', 'From Auction', 'From Auction',\n",
       "       'From Auction', 'From Auction', 'From Auction', 'From Auction',\n",
       "       'From Auction', 'From Auction', 'From Auction', 'From Auction',\n",
       "       'From Auction', 'From Auction', 'Retained', 'From Auction',\n",
       "       'Retained', 'Retained', 'From Auction', 'Retained', 'From Auction',\n",
       "       'From Auction', 'From Auction', 'From Auction', 'From Auction',\n",
       "       'From Auction', 'From Auction', 'From Auction', 'From Auction',\n",
       "       'From Auction', 'From Auction', 'From Auction', 'From Auction',\n",
       "       'From Auction', 'From Auction', 'From Auction', 'From Auction',\n",
       "       'From Auction', 'From Auction', 'Retained', 'From Auction',\n",
       "       'Retained', 'Retained', 'From Auction', 'From Auction', 'Retained',\n",
       "       'From Auction', 'From Auction', 'From Auction', 'From Auction',\n",
       "       'From Auction', 'From Auction', 'From Auction', 'From Auction',\n",
       "       'From Auction', 'From Auction', 'From Auction', 'From Auction',\n",
       "       'From Auction', 'From Auction', 'From Auction', 'From Auction',\n",
       "       'From Auction', 'Retained', 'From Auction', 'From Auction',\n",
       "       'From Auction', 'From Auction', 'From Auction', 'From Auction',\n",
       "       'From Auction', 'Retained', 'From Auction', 'From Auction',\n",
       "       'From Auction', 'From Auction', 'From Auction', 'From Auction',\n",
       "       'From Auction', 'From Auction', 'From Auction', 'From Auction',\n",
       "       'From Auction', 'From Auction', 'From Auction', 'From Auction',\n",
       "       'From Auction', 'From Auction', 'Draft Pick', 'From Auction',\n",
       "       'Draft Pick', 'From Auction', 'From Auction', 'From Auction',\n",
       "       'From Auction', 'From Auction', 'From Auction', 'Draft Pick',\n",
       "       'From Auction', 'From Auction', 'From Auction', 'From Auction',\n",
       "       'From Auction', 'From Auction', 'From Auction', 'From Auction',\n",
       "       'From Auction', 'From Auction', 'From Auction', 'From Auction',\n",
       "       'Retained', 'From Auction', 'Retained', 'From Auction',\n",
       "       'From Auction', 'Retained', 'Retained', 'From Auction',\n",
       "       'From Auction', 'From Auction', 'From Auction', 'From Auction',\n",
       "       'From Auction', 'From Auction', 'From Auction', 'From Auction',\n",
       "       'From Auction', 'From Auction', 'From Auction', 'From Auction',\n",
       "       'From Auction', 'From Auction', 'From Auction', 'From Auction',\n",
       "       'From Auction', 'Retained', 'Retained', 'From Auction',\n",
       "       'From Auction', 'From Auction', 'From Auction', 'Retained',\n",
       "       'From Auction', 'From Auction', 'From Auction', 'From Auction',\n",
       "       'From Auction', 'From Auction', 'From Auction', 'From Auction',\n",
       "       'From Auction', 'From Auction', 'From Auction', 'From Auction',\n",
       "       'From Auction', 'From Auction', 'From Auction', 'Retained',\n",
       "       'Retained', 'From Auction', 'From Auction', 'From Auction',\n",
       "       'From Auction', 'From Auction', 'From Auction', 'Retained',\n",
       "       'From Auction', 'From Auction', 'From Auction', 'From Auction',\n",
       "       'From Auction', 'From Auction', 'From Auction', 'From Auction',\n",
       "       'From Auction', 'From Auction', 'From Auction', 'From Auction',\n",
       "       'From Auction', 'From Auction', 'From Auction', 'Retained',\n",
       "       'From Auction', 'From Auction', 'From Auction', 'From Auction',\n",
       "       'From Auction', 'From Auction', 'From Auction', 'From Auction',\n",
       "       'Retained', 'Retained', 'From Auction', 'From Auction',\n",
       "       'From Auction', 'From Auction', 'From Auction', 'From Auction',\n",
       "       'From Auction', 'From Auction', 'From Auction', 'From Auction',\n",
       "       'From Auction', 'From Auction', 'From Auction', 'From Auction',\n",
       "       'From Auction', 'From Auction', 'From Auction', 'From Auction',\n",
       "       'From Auction', 'From Auction', 'From Auction', 'From Auction',\n",
       "       'From Auction', 'From Auction', 'From Auction', 'From Auction',\n",
       "       'From Auction', 'From Auction', 'From Auction', 'From Auction',\n",
       "       'From Auction', 'From Auction', 'From Auction', 'From Auction',\n",
       "       'From Auction', 'From Auction', 'From Auction', 'From Auction',\n",
       "       'From Auction', 'From Auction', 'From Auction', 'From Auction',\n",
       "       'From Auction', 'From Auction', 'From Auction', 'From Auction',\n",
       "       'From Auction', 'From Auction', 'From Auction', 'From Auction',\n",
       "       'From Auction', 'From Auction', 'From Auction', 'From Auction',\n",
       "       'From Auction', 'From Auction', 'From Auction', 'From Auction',\n",
       "       'From Auction', 'From Auction', 'From Auction', 'From Auction',\n",
       "       'From Auction', 'From Auction', 'From Auction', 'From Auction',\n",
       "       'From Auction', 'From Auction', 'From Auction', 'From Auction',\n",
       "       'From Auction', 'From Auction', 'From Auction', 'From Auction',\n",
       "       'From Auction', 'From Auction', 'From Auction', 'From Auction',\n",
       "       'From Auction', 'From Auction', 'From Auction', 'From Auction',\n",
       "       'From Auction', 'From Auction', 'From Auction', 'From Auction',\n",
       "       'From Auction', 'From Auction', 'From Auction', 'From Auction',\n",
       "       'From Auction', 'From Auction', 'From Auction', 'From Auction',\n",
       "       'From Auction', 'From Auction', 'From Auction', 'From Auction',\n",
       "       'From Auction', 'From Auction', 'From Auction', 'From Auction',\n",
       "       'From Auction', 'From Auction', 'From Auction', 'From Auction',\n",
       "       'From Auction', 'From Auction', 'From Auction', 'From Auction',\n",
       "       'From Auction', 'From Auction', 'From Auction', 'From Auction',\n",
       "       'From Auction', 'From Auction', 'From Auction', 'From Auction',\n",
       "       'From Auction', 'From Auction', 'From Auction', 'From Auction',\n",
       "       'From Auction', 'From Auction', 'From Auction', 'From Auction',\n",
       "       'From Auction', 'From Auction', 'From Auction', 'From Auction',\n",
       "       'From Auction', 'From Auction', 'From Auction', 'From Auction',\n",
       "       'From Auction', 'From Auction', 'From Auction', 'From Auction',\n",
       "       'From Auction', 'From Auction', 'From Auction', 'From Auction',\n",
       "       'From Auction', 'From Auction', 'From Auction', 'From Auction',\n",
       "       'From Auction', 'From Auction', 'From Auction', 'From Auction',\n",
       "       'From Auction', 'From Auction', 'From Auction', 'From Auction',\n",
       "       'From Auction', 'From Auction', 'From Auction', 'From Auction',\n",
       "       'From Auction', 'From Auction', 'From Auction', 'From Auction',\n",
       "       'From Auction', 'From Auction', 'From Auction', 'From Auction',\n",
       "       'From Auction', 'From Auction', 'From Auction', 'From Auction',\n",
       "       'From Auction', 'From Auction', 'From Auction', 'From Auction',\n",
       "       'From Auction', 'From Auction', 'From Auction', 'From Auction',\n",
       "       'From Auction', 'From Auction', 'From Auction', 'From Auction',\n",
       "       'From Auction', 'From Auction', 'From Auction', 'From Auction',\n",
       "       'From Auction', 'From Auction', 'From Auction', 'From Auction',\n",
       "       'From Auction', 'From Auction', 'From Auction', 'From Auction',\n",
       "       'From Auction', 'From Auction', 'From Auction', 'From Auction',\n",
       "       'From Auction', 'From Auction', 'From Auction', 'From Auction',\n",
       "       'From Auction', 'From Auction', 'From Auction', 'From Auction',\n",
       "       'From Auction', 'From Auction', 'From Auction', 'From Auction',\n",
       "       'From Auction', 'From Auction', 'From Auction', 'From Auction',\n",
       "       'From Auction', 'From Auction', 'From Auction', 'From Auction',\n",
       "       'From Auction', 'From Auction', 'From Auction', 'From Auction',\n",
       "       'From Auction', 'From Auction', 'From Auction', 'From Auction',\n",
       "       'From Auction', 'From Auction', 'From Auction', 'From Auction',\n",
       "       'From Auction', 'From Auction', 'From Auction', 'From Auction',\n",
       "       'From Auction', 'From Auction', 'From Auction', 'From Auction',\n",
       "       'From Auction', 'From Auction', 'From Auction', 'From Auction',\n",
       "       'From Auction', 'From Auction', 'From Auction', 'From Auction',\n",
       "       'From Auction', 'From Auction', 'From Auction', 'From Auction',\n",
       "       'From Auction', 'From Auction', 'From Auction', 'From Auction',\n",
       "       'From Auction', 'From Auction', 'From Auction', 'From Auction',\n",
       "       'From Auction', 'From Auction', 'From Auction', 'From Auction',\n",
       "       'From Auction', 'From Auction', 'From Auction', 'From Auction',\n",
       "       'From Auction', 'From Auction', 'From Auction', 'From Auction',\n",
       "       'From Auction', 'From Auction', 'From Auction', 'From Auction',\n",
       "       'From Auction', 'From Auction', 'From Auction', 'From Auction',\n",
       "       'From Auction', 'From Auction', 'From Auction', 'From Auction',\n",
       "       'From Auction', 'From Auction', 'From Auction', 'From Auction',\n",
       "       'From Auction', 'From Auction', 'From Auction', 'From Auction',\n",
       "       'From Auction', 'From Auction', 'From Auction', 'From Auction',\n",
       "       'From Auction', 'From Auction', 'From Auction', 'From Auction',\n",
       "       'From Auction', 'From Auction', 'From Auction', 'From Auction',\n",
       "       'From Auction', 'From Auction', 'From Auction', 'From Auction',\n",
       "       'From Auction', 'From Auction', 'From Auction', 'From Auction',\n",
       "       'From Auction', 'From Auction', 'From Auction', 'From Auction',\n",
       "       'From Auction', 'From Auction', 'From Auction', 'From Auction',\n",
       "       'From Auction', 'From Auction', 'From Auction', 'From Auction',\n",
       "       'From Auction', 'From Auction', 'From Auction', 'From Auction',\n",
       "       'From Auction', 'From Auction', 'From Auction', 'From Auction',\n",
       "       'From Auction', 'From Auction', 'From Auction', 'From Auction',\n",
       "       'From Auction', 'From Auction', 'From Auction', 'From Auction',\n",
       "       'From Auction', 'From Auction', 'From Auction', 'From Auction',\n",
       "       'From Auction', 'From Auction', 'From Auction', 'From Auction',\n",
       "       'From Auction', 'From Auction', 'From Auction', 'From Auction',\n",
       "       'From Auction', 'From Auction', 'From Auction', 'From Auction',\n",
       "       'From Auction', 'From Auction', 'From Auction', 'From Auction',\n",
       "       'From Auction', 'From Auction', 'From Auction', 'From Auction',\n",
       "       'From Auction', 'From Auction', 'From Auction', 'From Auction',\n",
       "       'From Auction', 'From Auction', 'From Auction', 'From Auction',\n",
       "       'From Auction', 'From Auction', 'From Auction', 'From Auction',\n",
       "       'From Auction', 'From Auction', 'From Auction', 'From Auction',\n",
       "       'From Auction', 'From Auction', 'From Auction', 'From Auction',\n",
       "       'From Auction', 'From Auction', 'From Auction', 'From Auction',\n",
       "       'From Auction', 'From Auction', 'From Auction', 'From Auction',\n",
       "       'From Auction', 'From Auction', 'From Auction', 'From Auction',\n",
       "       'From Auction', 'From Auction', 'From Auction', 'From Auction',\n",
       "       'From Auction', 'From Auction', 'From Auction', 'From Auction',\n",
       "       'From Auction', 'From Auction', 'From Auction', 'From Auction',\n",
       "       'From Auction', 'From Auction'], dtype=object)"
      ]
     },
     "execution_count": 60,
     "metadata": {},
     "output_type": "execute_result"
    }
   ],
   "source": [
    "ipl['retention'].values"
   ]
  },
  {
   "cell_type": "code",
   "execution_count": 61,
   "id": "9554e90a",
   "metadata": {},
   "outputs": [
    {
     "data": {
      "text/html": [
       "<div>\n",
       "<style scoped>\n",
       "    .dataframe tbody tr th:only-of-type {\n",
       "        vertical-align: middle;\n",
       "    }\n",
       "\n",
       "    .dataframe tbody tr th {\n",
       "        vertical-align: top;\n",
       "    }\n",
       "\n",
       "    .dataframe thead th {\n",
       "        text-align: right;\n",
       "    }\n",
       "</style>\n",
       "<table border=\"1\" class=\"dataframe\">\n",
       "  <thead>\n",
       "    <tr style=\"text-align: right;\">\n",
       "      <th></th>\n",
       "      <th>Player</th>\n",
       "      <th>Base Price</th>\n",
       "      <th>TYPE</th>\n",
       "      <th>COST IN ₹ (CR.)</th>\n",
       "      <th>Cost IN $ (000)</th>\n",
       "      <th>2021 Squad</th>\n",
       "      <th>Team</th>\n",
       "      <th>status</th>\n",
       "      <th>retention</th>\n",
       "    </tr>\n",
       "  </thead>\n",
       "  <tbody>\n",
       "    <tr>\n",
       "      <th>0</th>\n",
       "      <td>Rashid Khan</td>\n",
       "      <td>Draft Pick</td>\n",
       "      <td>BOWLER</td>\n",
       "      <td>15.0</td>\n",
       "      <td>1950.0</td>\n",
       "      <td>SRH</td>\n",
       "      <td>Gujarat Titans</td>\n",
       "      <td>sold</td>\n",
       "      <td>Draft Pick</td>\n",
       "    </tr>\n",
       "    <tr>\n",
       "      <th>1</th>\n",
       "      <td>Hardik Pandya</td>\n",
       "      <td>Draft Pick</td>\n",
       "      <td>ALL-ROUNDER</td>\n",
       "      <td>15.0</td>\n",
       "      <td>1950.0</td>\n",
       "      <td>MI</td>\n",
       "      <td>Gujarat Titans</td>\n",
       "      <td>sold</td>\n",
       "      <td>Draft Pick</td>\n",
       "    </tr>\n",
       "    <tr>\n",
       "      <th>2</th>\n",
       "      <td>Lockie Ferguson</td>\n",
       "      <td>2 Cr</td>\n",
       "      <td>BOWLER</td>\n",
       "      <td>10.0</td>\n",
       "      <td>1300.0</td>\n",
       "      <td>KKR</td>\n",
       "      <td>Gujarat Titans</td>\n",
       "      <td>sold</td>\n",
       "      <td>From Auction</td>\n",
       "    </tr>\n",
       "    <tr>\n",
       "      <th>3</th>\n",
       "      <td>Rahul Tewatia</td>\n",
       "      <td>40 Lakh</td>\n",
       "      <td>ALL-ROUNDER</td>\n",
       "      <td>9.0</td>\n",
       "      <td>1170.0</td>\n",
       "      <td>RR</td>\n",
       "      <td>Gujarat Titans</td>\n",
       "      <td>sold</td>\n",
       "      <td>From Auction</td>\n",
       "    </tr>\n",
       "    <tr>\n",
       "      <th>4</th>\n",
       "      <td>Shubman Gill</td>\n",
       "      <td>Draft Pick</td>\n",
       "      <td>BATTER</td>\n",
       "      <td>8.0</td>\n",
       "      <td>1040.0</td>\n",
       "      <td>KKR</td>\n",
       "      <td>Gujarat Titans</td>\n",
       "      <td>sold</td>\n",
       "      <td>Draft Pick</td>\n",
       "    </tr>\n",
       "    <tr>\n",
       "      <th>...</th>\n",
       "      <td>...</td>\n",
       "      <td>...</td>\n",
       "      <td>...</td>\n",
       "      <td>...</td>\n",
       "      <td>...</td>\n",
       "      <td>...</td>\n",
       "      <td>...</td>\n",
       "      <td>...</td>\n",
       "      <td>...</td>\n",
       "    </tr>\n",
       "    <tr>\n",
       "      <th>628</th>\n",
       "      <td>Sairaj Patil</td>\n",
       "      <td>20 Lakh</td>\n",
       "      <td>BATTER</td>\n",
       "      <td>0.0</td>\n",
       "      <td>0.0</td>\n",
       "      <td>Not Participated</td>\n",
       "      <td>Unsold</td>\n",
       "      <td>Unsold</td>\n",
       "      <td>From Auction</td>\n",
       "    </tr>\n",
       "    <tr>\n",
       "      <th>629</th>\n",
       "      <td>Monu Singh</td>\n",
       "      <td>20 Lakh</td>\n",
       "      <td>BOWLER</td>\n",
       "      <td>0.0</td>\n",
       "      <td>0.0</td>\n",
       "      <td>Not Participated</td>\n",
       "      <td>Unsold</td>\n",
       "      <td>Unsold</td>\n",
       "      <td>From Auction</td>\n",
       "    </tr>\n",
       "    <tr>\n",
       "      <th>630</th>\n",
       "      <td>Nivethan Radhakrishnan</td>\n",
       "      <td>20 Lakh</td>\n",
       "      <td>BOWLER</td>\n",
       "      <td>0.0</td>\n",
       "      <td>0.0</td>\n",
       "      <td>Not Participated</td>\n",
       "      <td>Unsold</td>\n",
       "      <td>Unsold</td>\n",
       "      <td>From Auction</td>\n",
       "    </tr>\n",
       "    <tr>\n",
       "      <th>631</th>\n",
       "      <td>Lance Morris</td>\n",
       "      <td>20 Lakh</td>\n",
       "      <td>BOWLER</td>\n",
       "      <td>0.0</td>\n",
       "      <td>0.0</td>\n",
       "      <td>Not Participated</td>\n",
       "      <td>Unsold</td>\n",
       "      <td>Unsold</td>\n",
       "      <td>From Auction</td>\n",
       "    </tr>\n",
       "    <tr>\n",
       "      <th>632</th>\n",
       "      <td>Aaron Hardie</td>\n",
       "      <td>20 Lakh</td>\n",
       "      <td>ALL-ROUNDER</td>\n",
       "      <td>0.0</td>\n",
       "      <td>0.0</td>\n",
       "      <td>Not Participated</td>\n",
       "      <td>Unsold</td>\n",
       "      <td>Unsold</td>\n",
       "      <td>From Auction</td>\n",
       "    </tr>\n",
       "  </tbody>\n",
       "</table>\n",
       "<p>633 rows × 9 columns</p>\n",
       "</div>"
      ],
      "text/plain": [
       "                     Player  Base Price         TYPE  COST IN ₹ (CR.)  \\\n",
       "0               Rashid Khan  Draft Pick       BOWLER             15.0   \n",
       "1             Hardik Pandya  Draft Pick  ALL-ROUNDER             15.0   \n",
       "2           Lockie Ferguson        2 Cr       BOWLER             10.0   \n",
       "3             Rahul Tewatia     40 Lakh  ALL-ROUNDER              9.0   \n",
       "4              Shubman Gill  Draft Pick       BATTER              8.0   \n",
       "..                      ...         ...          ...              ...   \n",
       "628            Sairaj Patil     20 Lakh       BATTER              0.0   \n",
       "629              Monu Singh     20 Lakh       BOWLER              0.0   \n",
       "630  Nivethan Radhakrishnan     20 Lakh       BOWLER              0.0   \n",
       "631            Lance Morris     20 Lakh       BOWLER              0.0   \n",
       "632            Aaron Hardie     20 Lakh  ALL-ROUNDER              0.0   \n",
       "\n",
       "     Cost IN $ (000)        2021 Squad            Team  status     retention  \n",
       "0             1950.0               SRH  Gujarat Titans    sold    Draft Pick  \n",
       "1             1950.0                MI  Gujarat Titans    sold    Draft Pick  \n",
       "2             1300.0               KKR  Gujarat Titans    sold  From Auction  \n",
       "3             1170.0                RR  Gujarat Titans    sold  From Auction  \n",
       "4             1040.0               KKR  Gujarat Titans    sold    Draft Pick  \n",
       "..               ...               ...             ...     ...           ...  \n",
       "628              0.0  Not Participated          Unsold  Unsold  From Auction  \n",
       "629              0.0  Not Participated          Unsold  Unsold  From Auction  \n",
       "630              0.0  Not Participated          Unsold  Unsold  From Auction  \n",
       "631              0.0  Not Participated          Unsold  Unsold  From Auction  \n",
       "632              0.0  Not Participated          Unsold  Unsold  From Auction  \n",
       "\n",
       "[633 rows x 9 columns]"
      ]
     },
     "execution_count": 61,
     "metadata": {},
     "output_type": "execute_result"
    }
   ],
   "source": [
    "ipl"
   ]
  },
  {
   "cell_type": "code",
   "execution_count": 62,
   "id": "4b8dd755",
   "metadata": {},
   "outputs": [],
   "source": [
    "ipl['base_price_unit']=ipl['Base Price'].apply(lambda x: str(x).split(' ')[-1])\n",
    "ipl['base_price']=ipl['Base Price'].apply(lambda x: str(x).split(' ')[0])"
   ]
  },
  {
   "cell_type": "code",
   "execution_count": 63,
   "id": "80d6347b",
   "metadata": {},
   "outputs": [
    {
     "data": {
      "text/plain": [
       "0      Draft\n",
       "1      Draft\n",
       "2          2\n",
       "3         40\n",
       "4      Draft\n",
       "       ...  \n",
       "628       20\n",
       "629       20\n",
       "630       20\n",
       "631       20\n",
       "632       20\n",
       "Name: base_price, Length: 633, dtype: object"
      ]
     },
     "execution_count": 63,
     "metadata": {},
     "output_type": "execute_result"
    }
   ],
   "source": [
    "ipl['base_price']"
   ]
  },
  {
   "cell_type": "code",
   "execution_count": 64,
   "id": "92add445",
   "metadata": {},
   "outputs": [
    {
     "data": {
      "text/plain": [
       "0      Pick\n",
       "1      Pick\n",
       "2        Cr\n",
       "3      Lakh\n",
       "4      Pick\n",
       "       ... \n",
       "628    Lakh\n",
       "629    Lakh\n",
       "630    Lakh\n",
       "631    Lakh\n",
       "632    Lakh\n",
       "Name: base_price_unit, Length: 633, dtype: object"
      ]
     },
     "execution_count": 64,
     "metadata": {},
     "output_type": "execute_result"
    }
   ],
   "source": [
    "ipl['base_price_unit']"
   ]
  },
  {
   "cell_type": "code",
   "execution_count": 65,
   "id": "9c149cfd",
   "metadata": {},
   "outputs": [
    {
     "data": {
      "text/html": [
       "<div>\n",
       "<style scoped>\n",
       "    .dataframe tbody tr th:only-of-type {\n",
       "        vertical-align: middle;\n",
       "    }\n",
       "\n",
       "    .dataframe tbody tr th {\n",
       "        vertical-align: top;\n",
       "    }\n",
       "\n",
       "    .dataframe thead th {\n",
       "        text-align: right;\n",
       "    }\n",
       "</style>\n",
       "<table border=\"1\" class=\"dataframe\">\n",
       "  <thead>\n",
       "    <tr style=\"text-align: right;\">\n",
       "      <th></th>\n",
       "      <th>Player</th>\n",
       "      <th>Base Price</th>\n",
       "      <th>TYPE</th>\n",
       "      <th>COST IN ₹ (CR.)</th>\n",
       "      <th>Cost IN $ (000)</th>\n",
       "      <th>2021 Squad</th>\n",
       "      <th>Team</th>\n",
       "      <th>status</th>\n",
       "      <th>retention</th>\n",
       "      <th>base_price_unit</th>\n",
       "      <th>base_price</th>\n",
       "    </tr>\n",
       "  </thead>\n",
       "  <tbody>\n",
       "    <tr>\n",
       "      <th>0</th>\n",
       "      <td>Rashid Khan</td>\n",
       "      <td>Draft Pick</td>\n",
       "      <td>BOWLER</td>\n",
       "      <td>15.0</td>\n",
       "      <td>1950.0</td>\n",
       "      <td>SRH</td>\n",
       "      <td>Gujarat Titans</td>\n",
       "      <td>sold</td>\n",
       "      <td>Draft Pick</td>\n",
       "      <td>Pick</td>\n",
       "      <td>Draft</td>\n",
       "    </tr>\n",
       "    <tr>\n",
       "      <th>1</th>\n",
       "      <td>Hardik Pandya</td>\n",
       "      <td>Draft Pick</td>\n",
       "      <td>ALL-ROUNDER</td>\n",
       "      <td>15.0</td>\n",
       "      <td>1950.0</td>\n",
       "      <td>MI</td>\n",
       "      <td>Gujarat Titans</td>\n",
       "      <td>sold</td>\n",
       "      <td>Draft Pick</td>\n",
       "      <td>Pick</td>\n",
       "      <td>Draft</td>\n",
       "    </tr>\n",
       "    <tr>\n",
       "      <th>2</th>\n",
       "      <td>Lockie Ferguson</td>\n",
       "      <td>2 Cr</td>\n",
       "      <td>BOWLER</td>\n",
       "      <td>10.0</td>\n",
       "      <td>1300.0</td>\n",
       "      <td>KKR</td>\n",
       "      <td>Gujarat Titans</td>\n",
       "      <td>sold</td>\n",
       "      <td>From Auction</td>\n",
       "      <td>Cr</td>\n",
       "      <td>2</td>\n",
       "    </tr>\n",
       "    <tr>\n",
       "      <th>3</th>\n",
       "      <td>Rahul Tewatia</td>\n",
       "      <td>40 Lakh</td>\n",
       "      <td>ALL-ROUNDER</td>\n",
       "      <td>9.0</td>\n",
       "      <td>1170.0</td>\n",
       "      <td>RR</td>\n",
       "      <td>Gujarat Titans</td>\n",
       "      <td>sold</td>\n",
       "      <td>From Auction</td>\n",
       "      <td>Lakh</td>\n",
       "      <td>40</td>\n",
       "    </tr>\n",
       "    <tr>\n",
       "      <th>4</th>\n",
       "      <td>Shubman Gill</td>\n",
       "      <td>Draft Pick</td>\n",
       "      <td>BATTER</td>\n",
       "      <td>8.0</td>\n",
       "      <td>1040.0</td>\n",
       "      <td>KKR</td>\n",
       "      <td>Gujarat Titans</td>\n",
       "      <td>sold</td>\n",
       "      <td>Draft Pick</td>\n",
       "      <td>Pick</td>\n",
       "      <td>Draft</td>\n",
       "    </tr>\n",
       "  </tbody>\n",
       "</table>\n",
       "</div>"
      ],
      "text/plain": [
       "            Player  Base Price         TYPE  COST IN ₹ (CR.)  Cost IN $ (000)  \\\n",
       "0      Rashid Khan  Draft Pick       BOWLER             15.0           1950.0   \n",
       "1    Hardik Pandya  Draft Pick  ALL-ROUNDER             15.0           1950.0   \n",
       "2  Lockie Ferguson        2 Cr       BOWLER             10.0           1300.0   \n",
       "3    Rahul Tewatia     40 Lakh  ALL-ROUNDER              9.0           1170.0   \n",
       "4     Shubman Gill  Draft Pick       BATTER              8.0           1040.0   \n",
       "\n",
       "  2021 Squad            Team status     retention base_price_unit base_price  \n",
       "0        SRH  Gujarat Titans   sold    Draft Pick            Pick      Draft  \n",
       "1         MI  Gujarat Titans   sold    Draft Pick            Pick      Draft  \n",
       "2        KKR  Gujarat Titans   sold  From Auction              Cr          2  \n",
       "3         RR  Gujarat Titans   sold  From Auction            Lakh         40  \n",
       "4        KKR  Gujarat Titans   sold    Draft Pick            Pick      Draft  "
      ]
     },
     "execution_count": 65,
     "metadata": {},
     "output_type": "execute_result"
    }
   ],
   "source": [
    "ipl.head()"
   ]
  },
  {
   "cell_type": "code",
   "execution_count": 66,
   "id": "0b1fc469",
   "metadata": {},
   "outputs": [],
   "source": [
    "ipl['base_price'].replace('Retained',0,inplace=True)"
   ]
  },
  {
   "cell_type": "code",
   "execution_count": 67,
   "id": "d6d81caf",
   "metadata": {},
   "outputs": [
    {
     "data": {
      "text/plain": [
       "Team                         retention   \n",
       "Chennai Super Kings          From Auction    21\n",
       "                             Retained         4\n",
       "Delhi Capitals               From Auction    20\n",
       "                             Retained         4\n",
       "Gujarat Titans               Draft Pick       3\n",
       "                             From Auction    19\n",
       "Kolkata Knight Riders        From Auction    21\n",
       "                             Retained         4\n",
       "Lucknow Super Giants         Draft Pick       3\n",
       "                             From Auction    19\n",
       "Mumbai Indians               From Auction    21\n",
       "                             Retained         4\n",
       "Punjab Kings                 From Auction    23\n",
       "                             Retained         2\n",
       "Rajasthan Royals             From Auction    21\n",
       "                             Retained         3\n",
       "Royal Challengers Bangalore  From Auction    19\n",
       "                             Retained         3\n",
       "Sunrisers Hyderabad          From Auction    20\n",
       "                             Retained         3\n",
       "Name: retention, dtype: int64"
      ]
     },
     "execution_count": 67,
     "metadata": {},
     "output_type": "execute_result"
    }
   ],
   "source": [
    "ipl.groupby(['Team','retention'])['retention'].count()[:-1]"
   ]
  },
  {
   "cell_type": "code",
   "execution_count": 74,
   "id": "2d098e94",
   "metadata": {},
   "outputs": [
    {
     "data": {
      "image/png": "[encoded data removed]",
      "text/plain": [
       "<Figure size 2000x1000 with 1 Axes>"
      ]
     },
     "metadata": {},
     "output_type": "display_data"
    }
   ],
   "source": [
    "plt.figure(figsize=(20,10))\n",
    "fig=sns.countplot(ipl[ipl['Team']!='Unsold']['Team'],hue=ipl['TYPE'])\n",
    "plt.title('Players in Each Teams')\n",
    "plt.xlabel('Teams Names')\n",
    "plt.ylabel('Number of Players')\n",
    "plt.xticks(rotation=90)\n",
    "plt.show()"
   ]
  },
  {
   "cell_type": "code",
   "execution_count": 75,
   "id": "1d39bbf3",
   "metadata": {},
   "outputs": [
    {
     "data": {
      "text/plain": [
       "Team\n",
       "Mumbai Indians                 15.25\n",
       "Chennai Super Kings            14.00\n",
       "Kolkata Knight Riders          12.25\n",
       "Punjab Kings                   11.50\n",
       "Delhi Capitals                 10.75\n",
       "Royal Challengers Bangalore    10.75\n",
       "Sunrisers Hyderabad            10.75\n",
       "Gujarat Titans                 10.00\n",
       "Lucknow Super Giants           10.00\n",
       "Rajasthan Royals               10.00\n",
       "Name: COST IN ₹ (CR.), dtype: float64"
      ]
     },
     "execution_count": 75,
     "metadata": {},
     "output_type": "execute_result"
    }
   ],
   "source": [
    "ipl[ipl['retention']=='From Auction'].groupby(['Team'])['COST IN ₹ (CR.)'].max()[:-1].sort_values(ascending=False)"
   ]
  },
  {
   "cell_type": "code",
   "execution_count": 78,
   "id": "c561cb78",
   "metadata": {},
   "outputs": [
    {
     "data": {
      "text/html": [
       "<div>\n",
       "<style scoped>\n",
       "    .dataframe tbody tr th:only-of-type {\n",
       "        vertical-align: middle;\n",
       "    }\n",
       "\n",
       "    .dataframe tbody tr th {\n",
       "        vertical-align: top;\n",
       "    }\n",
       "\n",
       "    .dataframe thead th {\n",
       "        text-align: right;\n",
       "    }\n",
       "</style>\n",
       "<table border=\"1\" class=\"dataframe\">\n",
       "  <thead>\n",
       "    <tr style=\"text-align: right;\">\n",
       "      <th></th>\n",
       "      <th>Player</th>\n",
       "      <th>Base Price</th>\n",
       "      <th>TYPE</th>\n",
       "      <th>COST IN ₹ (CR.)</th>\n",
       "      <th>Cost IN $ (000)</th>\n",
       "      <th>2021 Squad</th>\n",
       "      <th>Team</th>\n",
       "      <th>status</th>\n",
       "      <th>retention</th>\n",
       "      <th>base_price_unit</th>\n",
       "      <th>base_price</th>\n",
       "    </tr>\n",
       "  </thead>\n",
       "  <tbody>\n",
       "    <tr>\n",
       "      <th>22</th>\n",
       "      <td>Ravindra Jadeja</td>\n",
       "      <td>Retained</td>\n",
       "      <td>ALL-ROUNDER</td>\n",
       "      <td>16.0</td>\n",
       "      <td>2080.0</td>\n",
       "      <td>CSK</td>\n",
       "      <td>Chennai Super Kings</td>\n",
       "      <td>sold</td>\n",
       "      <td>Retained</td>\n",
       "      <td>Retained</td>\n",
       "      <td>0</td>\n",
       "    </tr>\n",
       "  </tbody>\n",
       "</table>\n",
       "</div>"
      ],
      "text/plain": [
       "             Player Base Price         TYPE  COST IN ₹ (CR.)  Cost IN $ (000)  \\\n",
       "22  Ravindra Jadeja   Retained  ALL-ROUNDER             16.0           2080.0   \n",
       "\n",
       "   2021 Squad                 Team status retention base_price_unit base_price  \n",
       "22        CSK  Chennai Super Kings   sold  Retained        Retained          0  "
      ]
     },
     "execution_count": 78,
     "metadata": {},
     "output_type": "execute_result"
    }
   ],
   "source": [
    "ipl[ipl['retention']=='Retained'].sort_values(by='COST IN ₹ (CR.)',ascending=False).head(1)"
   ]
  },
  {
   "cell_type": "code",
   "execution_count": 82,
   "id": "97e6b3fd",
   "metadata": {},
   "outputs": [
    {
     "data": {
      "text/html": [
       "<div>\n",
       "<style scoped>\n",
       "    .dataframe tbody tr th:only-of-type {\n",
       "        vertical-align: middle;\n",
       "    }\n",
       "\n",
       "    .dataframe tbody tr th {\n",
       "        vertical-align: top;\n",
       "    }\n",
       "\n",
       "    .dataframe thead th {\n",
       "        text-align: right;\n",
       "    }\n",
       "</style>\n",
       "<table border=\"1\" class=\"dataframe\">\n",
       "  <thead>\n",
       "    <tr style=\"text-align: right;\">\n",
       "      <th></th>\n",
       "      <th>Player</th>\n",
       "      <th>Base Price</th>\n",
       "      <th>TYPE</th>\n",
       "      <th>COST IN ₹ (CR.)</th>\n",
       "      <th>Cost IN $ (000)</th>\n",
       "      <th>2021 Squad</th>\n",
       "      <th>Team</th>\n",
       "      <th>status</th>\n",
       "      <th>retention</th>\n",
       "      <th>base_price_unit</th>\n",
       "      <th>base_price</th>\n",
       "    </tr>\n",
       "  </thead>\n",
       "  <tbody>\n",
       "  </tbody>\n",
       "</table>\n",
       "</div>"
      ],
      "text/plain": [
       "Empty DataFrame\n",
       "Columns: [Player, Base Price, TYPE, COST IN ₹ (CR.), Cost IN $ (000), 2021 Squad, Team, status, retention, base_price_unit, base_price]\n",
       "Index: []"
      ]
     },
     "execution_count": 82,
     "metadata": {},
     "output_type": "execute_result"
    }
   ],
   "source": [
    "ipl[(ipl['retention']=='From Auction') & (ipl['TYPE']=='ALL ROUNDER')].sort_values(by='COST IN ₹ (CR.)', ascending =False)"
   ]
  },
  {
   "cell_type": "code",
   "execution_count": 85,
   "id": "00b40024",
   "metadata": {},
   "outputs": [],
   "source": [
    "ipl=ipl.rename(columns={'2021 Squad':'Previous Team'})"
   ]
  },
  {
   "cell_type": "code",
   "execution_count": 86,
   "id": "2732dced",
   "metadata": {},
   "outputs": [
    {
     "data": {
      "text/html": [
       "<div>\n",
       "<style scoped>\n",
       "    .dataframe tbody tr th:only-of-type {\n",
       "        vertical-align: middle;\n",
       "    }\n",
       "\n",
       "    .dataframe tbody tr th {\n",
       "        vertical-align: top;\n",
       "    }\n",
       "\n",
       "    .dataframe thead th {\n",
       "        text-align: right;\n",
       "    }\n",
       "</style>\n",
       "<table border=\"1\" class=\"dataframe\">\n",
       "  <thead>\n",
       "    <tr style=\"text-align: right;\">\n",
       "      <th></th>\n",
       "      <th>Player</th>\n",
       "      <th>Base Price</th>\n",
       "      <th>TYPE</th>\n",
       "      <th>COST IN ₹ (CR.)</th>\n",
       "      <th>Cost IN $ (000)</th>\n",
       "      <th>Previous Team</th>\n",
       "      <th>Team</th>\n",
       "      <th>status</th>\n",
       "      <th>retention</th>\n",
       "      <th>base_price_unit</th>\n",
       "      <th>base_price</th>\n",
       "    </tr>\n",
       "  </thead>\n",
       "  <tbody>\n",
       "    <tr>\n",
       "      <th>0</th>\n",
       "      <td>Rashid Khan</td>\n",
       "      <td>Draft Pick</td>\n",
       "      <td>BOWLER</td>\n",
       "      <td>15.0</td>\n",
       "      <td>1950.0</td>\n",
       "      <td>SRH</td>\n",
       "      <td>Gujarat Titans</td>\n",
       "      <td>sold</td>\n",
       "      <td>Draft Pick</td>\n",
       "      <td>Pick</td>\n",
       "      <td>Draft</td>\n",
       "    </tr>\n",
       "    <tr>\n",
       "      <th>1</th>\n",
       "      <td>Hardik Pandya</td>\n",
       "      <td>Draft Pick</td>\n",
       "      <td>ALL-ROUNDER</td>\n",
       "      <td>15.0</td>\n",
       "      <td>1950.0</td>\n",
       "      <td>MI</td>\n",
       "      <td>Gujarat Titans</td>\n",
       "      <td>sold</td>\n",
       "      <td>Draft Pick</td>\n",
       "      <td>Pick</td>\n",
       "      <td>Draft</td>\n",
       "    </tr>\n",
       "    <tr>\n",
       "      <th>2</th>\n",
       "      <td>Lockie Ferguson</td>\n",
       "      <td>2 Cr</td>\n",
       "      <td>BOWLER</td>\n",
       "      <td>10.0</td>\n",
       "      <td>1300.0</td>\n",
       "      <td>KKR</td>\n",
       "      <td>Gujarat Titans</td>\n",
       "      <td>sold</td>\n",
       "      <td>From Auction</td>\n",
       "      <td>Cr</td>\n",
       "      <td>2</td>\n",
       "    </tr>\n",
       "    <tr>\n",
       "      <th>3</th>\n",
       "      <td>Rahul Tewatia</td>\n",
       "      <td>40 Lakh</td>\n",
       "      <td>ALL-ROUNDER</td>\n",
       "      <td>9.0</td>\n",
       "      <td>1170.0</td>\n",
       "      <td>RR</td>\n",
       "      <td>Gujarat Titans</td>\n",
       "      <td>sold</td>\n",
       "      <td>From Auction</td>\n",
       "      <td>Lakh</td>\n",
       "      <td>40</td>\n",
       "    </tr>\n",
       "    <tr>\n",
       "      <th>4</th>\n",
       "      <td>Shubman Gill</td>\n",
       "      <td>Draft Pick</td>\n",
       "      <td>BATTER</td>\n",
       "      <td>8.0</td>\n",
       "      <td>1040.0</td>\n",
       "      <td>KKR</td>\n",
       "      <td>Gujarat Titans</td>\n",
       "      <td>sold</td>\n",
       "      <td>Draft Pick</td>\n",
       "      <td>Pick</td>\n",
       "      <td>Draft</td>\n",
       "    </tr>\n",
       "    <tr>\n",
       "      <th>...</th>\n",
       "      <td>...</td>\n",
       "      <td>...</td>\n",
       "      <td>...</td>\n",
       "      <td>...</td>\n",
       "      <td>...</td>\n",
       "      <td>...</td>\n",
       "      <td>...</td>\n",
       "      <td>...</td>\n",
       "      <td>...</td>\n",
       "      <td>...</td>\n",
       "      <td>...</td>\n",
       "    </tr>\n",
       "    <tr>\n",
       "      <th>628</th>\n",
       "      <td>Sairaj Patil</td>\n",
       "      <td>20 Lakh</td>\n",
       "      <td>BATTER</td>\n",
       "      <td>0.0</td>\n",
       "      <td>0.0</td>\n",
       "      <td>Not Participated</td>\n",
       "      <td>Unsold</td>\n",
       "      <td>Unsold</td>\n",
       "      <td>From Auction</td>\n",
       "      <td>Lakh</td>\n",
       "      <td>20</td>\n",
       "    </tr>\n",
       "    <tr>\n",
       "      <th>629</th>\n",
       "      <td>Monu Singh</td>\n",
       "      <td>20 Lakh</td>\n",
       "      <td>BOWLER</td>\n",
       "      <td>0.0</td>\n",
       "      <td>0.0</td>\n",
       "      <td>Not Participated</td>\n",
       "      <td>Unsold</td>\n",
       "      <td>Unsold</td>\n",
       "      <td>From Auction</td>\n",
       "      <td>Lakh</td>\n",
       "      <td>20</td>\n",
       "    </tr>\n",
       "    <tr>\n",
       "      <th>630</th>\n",
       "      <td>Nivethan Radhakrishnan</td>\n",
       "      <td>20 Lakh</td>\n",
       "      <td>BOWLER</td>\n",
       "      <td>0.0</td>\n",
       "      <td>0.0</td>\n",
       "      <td>Not Participated</td>\n",
       "      <td>Unsold</td>\n",
       "      <td>Unsold</td>\n",
       "      <td>From Auction</td>\n",
       "      <td>Lakh</td>\n",
       "      <td>20</td>\n",
       "    </tr>\n",
       "    <tr>\n",
       "      <th>631</th>\n",
       "      <td>Lance Morris</td>\n",
       "      <td>20 Lakh</td>\n",
       "      <td>BOWLER</td>\n",
       "      <td>0.0</td>\n",
       "      <td>0.0</td>\n",
       "      <td>Not Participated</td>\n",
       "      <td>Unsold</td>\n",
       "      <td>Unsold</td>\n",
       "      <td>From Auction</td>\n",
       "      <td>Lakh</td>\n",
       "      <td>20</td>\n",
       "    </tr>\n",
       "    <tr>\n",
       "      <th>632</th>\n",
       "      <td>Aaron Hardie</td>\n",
       "      <td>20 Lakh</td>\n",
       "      <td>ALL-ROUNDER</td>\n",
       "      <td>0.0</td>\n",
       "      <td>0.0</td>\n",
       "      <td>Not Participated</td>\n",
       "      <td>Unsold</td>\n",
       "      <td>Unsold</td>\n",
       "      <td>From Auction</td>\n",
       "      <td>Lakh</td>\n",
       "      <td>20</td>\n",
       "    </tr>\n",
       "  </tbody>\n",
       "</table>\n",
       "<p>633 rows × 11 columns</p>\n",
       "</div>"
      ],
      "text/plain": [
       "                     Player  Base Price         TYPE  COST IN ₹ (CR.)  \\\n",
       "0               Rashid Khan  Draft Pick       BOWLER             15.0   \n",
       "1             Hardik Pandya  Draft Pick  ALL-ROUNDER             15.0   \n",
       "2           Lockie Ferguson        2 Cr       BOWLER             10.0   \n",
       "3             Rahul Tewatia     40 Lakh  ALL-ROUNDER              9.0   \n",
       "4              Shubman Gill  Draft Pick       BATTER              8.0   \n",
       "..                      ...         ...          ...              ...   \n",
       "628            Sairaj Patil     20 Lakh       BATTER              0.0   \n",
       "629              Monu Singh     20 Lakh       BOWLER              0.0   \n",
       "630  Nivethan Radhakrishnan     20 Lakh       BOWLER              0.0   \n",
       "631            Lance Morris     20 Lakh       BOWLER              0.0   \n",
       "632            Aaron Hardie     20 Lakh  ALL-ROUNDER              0.0   \n",
       "\n",
       "     Cost IN $ (000)     Previous Team            Team  status     retention  \\\n",
       "0             1950.0               SRH  Gujarat Titans    sold    Draft Pick   \n",
       "1             1950.0                MI  Gujarat Titans    sold    Draft Pick   \n",
       "2             1300.0               KKR  Gujarat Titans    sold  From Auction   \n",
       "3             1170.0                RR  Gujarat Titans    sold  From Auction   \n",
       "4             1040.0               KKR  Gujarat Titans    sold    Draft Pick   \n",
       "..               ...               ...             ...     ...           ...   \n",
       "628              0.0  Not Participated          Unsold  Unsold  From Auction   \n",
       "629              0.0  Not Participated          Unsold  Unsold  From Auction   \n",
       "630              0.0  Not Participated          Unsold  Unsold  From Auction   \n",
       "631              0.0  Not Participated          Unsold  Unsold  From Auction   \n",
       "632              0.0  Not Participated          Unsold  Unsold  From Auction   \n",
       "\n",
       "    base_price_unit base_price  \n",
       "0              Pick      Draft  \n",
       "1              Pick      Draft  \n",
       "2                Cr          2  \n",
       "3              Lakh         40  \n",
       "4              Pick      Draft  \n",
       "..              ...        ...  \n",
       "628            Lakh         20  \n",
       "629            Lakh         20  \n",
       "630            Lakh         20  \n",
       "631            Lakh         20  \n",
       "632            Lakh         20  \n",
       "\n",
       "[633 rows x 11 columns]"
      ]
     },
     "execution_count": 86,
     "metadata": {},
     "output_type": "execute_result"
    }
   ],
   "source": [
    "ipl"
   ]
  },
  {
   "cell_type": "code",
   "execution_count": null,
   "id": "1429a89e",
   "metadata": {},
   "outputs": [],
   "source": []
  },
  {
   "cell_type": "code",
   "execution_count": null,
   "id": "0dc0ce7e",
   "metadata": {},
   "outputs": [],
   "source": []
  }
 ],
 "metadata": {
  "kernelspec": {
   "display_name": "Python 3 (ipykernel)",
   "language": "python",
   "name": "python3"
  },
  "language_info": {
   "codemirror_mode": {
    "name": "ipython",
    "version": 3
   },
   "file_extension": ".py",
   "mimetype": "text/x-python",
   "name": "python",
   "nbconvert_exporter": "python",
   "pygments_lexer": "ipython3",
   "version": "3.9.13"
  }
 },
 "nbformat": 4,
 "nbformat_minor": 5
}
