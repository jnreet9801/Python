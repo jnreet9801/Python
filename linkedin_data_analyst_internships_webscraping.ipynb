{
 "cells": [
  {
   "cell_type": "code",
   "execution_count": 3,
   "id": "b6def861",
   "metadata": {},
   "outputs": [],
   "source": [
    "import numpy as np\n",
    "import pandas as pd\n",
    "import matplotlib.pyplot as plt\n",
    "import os\n",
    "\n",
    "from selenium import webdriver\n",
    "import time\n",
    "from selenium.webdriver.support.select import Select \n",
    "from selenium.webdriver.support.ui import WebDriverWait\n",
    "from selenium.webdriver.common.by import By\n",
    "from selenium.webdriver.support import expected_conditions as EC"
   ]
  },
  {
   "cell_type": "code",
   "execution_count": 43,
   "id": "be9f0518",
   "metadata": {},
   "outputs": [],
   "source": [
    "url1='https://www.linkedin.com/jobs/search/?keywords=Data%20Analyst&location=United%20States&locationId=&geoId=103644278&f_TPR=&f_WT=2&f_E=1&position=1&pageNum=0'"
   ]
  },
  {
   "cell_type": "code",
   "execution_count": 44,
   "id": "7abd0625",
   "metadata": {},
   "outputs": [
    {
     "name": "stderr",
     "output_type": "stream",
     "text": [
      "C:\\Users\\admin\\AppData\\Local\\Temp\\ipykernel_7416\\2706128239.py:1: DeprecationWarning: executable_path has been deprecated, please pass in a Service object\n",
      "  driver= webdriver.Chrome(executable_path='C:/Users/admin/Downloads/chromedriver-win32/chromedriver-win32/chromedriver.exe')\n"
     ]
    }
   ],
   "source": [
    "driver= webdriver.Chrome(executable_path='C:/Users/admin/Downloads/chromedriver-win32/chromedriver-win32/chromedriver.exe')\n",
    "driver.implicitly_wait(10)\n",
    "driver.get(url1)"
   ]
  },
  {
   "cell_type": "code",
   "execution_count": 45,
   "id": "3428a054",
   "metadata": {},
   "outputs": [
    {
     "name": "stderr",
     "output_type": "stream",
     "text": [
      "C:\\Users\\admin\\AppData\\Local\\Temp\\ipykernel_7416\\927841488.py:1: DeprecationWarning: find_elements_by_class_name is deprecated. Please use find_elements(by=By.CLASS_NAME, value=name) instead\n",
      "  y=driver.find_elements_by_class_name('results-context-header__job-count')[0].text\n"
     ]
    }
   ],
   "source": [
    "y=driver.find_elements_by_class_name('results-context-header__job-count')[0].text"
   ]
  },
  {
   "cell_type": "code",
   "execution_count": 47,
   "id": "ade51a8b",
   "metadata": {},
   "outputs": [
    {
     "data": {
      "text/plain": [
       "'151'"
      ]
     },
     "execution_count": 47,
     "metadata": {},
     "output_type": "execute_result"
    }
   ],
   "source": [
    "y"
   ]
  },
  {
   "cell_type": "code",
   "execution_count": 48,
   "id": "77c873c9",
   "metadata": {},
   "outputs": [],
   "source": [
    "y=pd.to_numeric(y)"
   ]
  },
  {
   "cell_type": "code",
   "execution_count": 50,
   "id": "f733a83d",
   "metadata": {},
   "outputs": [
    {
     "data": {
      "text/plain": [
       "numpy.int64"
      ]
     },
     "execution_count": 50,
     "metadata": {},
     "output_type": "execute_result"
    }
   ],
   "source": [
    "type(y)"
   ]
  },
  {
   "cell_type": "code",
   "execution_count": 51,
   "id": "1cdc9e21",
   "metadata": {},
   "outputs": [
    {
     "data": {
      "text/plain": [
       "151"
      ]
     },
     "execution_count": 51,
     "metadata": {},
     "output_type": "execute_result"
    }
   ],
   "source": [
    "y"
   ]
  },
  {
   "cell_type": "code",
   "execution_count": 52,
   "id": "54c05244",
   "metadata": {},
   "outputs": [
    {
     "name": "stderr",
     "output_type": "stream",
     "text": [
      "C:\\Users\\admin\\AppData\\Local\\Temp\\ipykernel_7416\\2861021687.py:7: DeprecationWarning: find_elements_by_xpath is deprecated. Please use find_elements(by=By.XPATH, value=xpath) instead\n",
      "  send=driver.find_elements_by_xpath(\"//button[@aria-label='See more jobs']\")\n"
     ]
    }
   ],
   "source": [
    "i = 2\n",
    "while i <= int((y+150)/25)+1: \n",
    "    driver.execute_script(\"window.scrollTo(0, document.body.scrollHeight);\")\n",
    "    i = i + 1\n",
    "    \n",
    "    try:\n",
    "        send=driver.find_elements_by_xpath(\"//button[@aria-label='See more jobs']\")\n",
    "        driver.execute_script(\"arguments[0].click();\", send)   \n",
    "        time.sleep(3)\n",
    "        \n",
    "    except:\n",
    "        pass\n",
    "        time.sleep(5)"
   ]
  },
  {
   "cell_type": "code",
   "execution_count": 53,
   "id": "45a53904",
   "metadata": {},
   "outputs": [],
   "source": [
    "companyname= []\n",
    "titlename= []\n",
    "location= []\n",
    "postedtime=[]"
   ]
  },
  {
   "cell_type": "code",
   "execution_count": 55,
   "id": "190a5596",
   "metadata": {},
   "outputs": [
    {
     "name": "stderr",
     "output_type": "stream",
     "text": [
      "C:\\Users\\admin\\AppData\\Local\\Temp\\ipykernel_7416\\465891235.py:3: DeprecationWarning: find_elements_by_class_name is deprecated. Please use find_elements(by=By.CLASS_NAME, value=name) instead\n",
      "  company=driver.find_elements_by_class_name('base-search-card__title')[i].text\n"
     ]
    }
   ],
   "source": [
    "try:\n",
    "    for i in range(y):\n",
    "        company=driver.find_elements_by_class_name('base-search-card__title')[i].text\n",
    "        companyname.append(company)\n",
    "        \n",
    "except IndexError:\n",
    "    print(\"no\")"
   ]
  },
  {
   "cell_type": "code",
   "execution_count": 56,
   "id": "9cf69087",
   "metadata": {},
   "outputs": [
    {
     "data": {
      "text/plain": [
       "['Data Analytics Intern',\n",
       " 'Data Science Intern, Analytics',\n",
       " 'Data Engineer Intern',\n",
       " 'Data Intelligence Intern',\n",
       " 'Process Insights & Analytics Intern',\n",
       " 'Data Operations Intern (Remote - USA)',\n",
       " 'Data Platforms Engineering Intern',\n",
       " 'Computer Vision / ML Engineer Intern',\n",
       " 'Software Engineer Intern - Database Technologies',\n",
       " 'AI Engineer Intern',\n",
       " 'Artificial Intelligence Intern',\n",
       " 'Lead Business Intelligence Developer/Analyst - CAESAR (Work from Home)',\n",
       " 'Azure Support Engineer Intern',\n",
       " 'Software Engineer Intern - Analytics Cloud',\n",
       " 'Remote!! Remote!! Remote!! Hot and Urgent requirement of Sr. Net Developer - 722510 withh Commonwealth of PA',\n",
       " 'Machine Learning Engineer Internship, Data Processing - US Remote',\n",
       " 'Generative AI Engineer Intern',\n",
       " 'Entry Level Trainee - Software Developer',\n",
       " 'Machine Learning Engineer Internship, Document AI - US Remote',\n",
       " 'Intern - Application Developer',\n",
       " 'Internal Systems Engineer',\n",
       " 'ML Engineer Internship, Improve hardware efficiency - US Remote',\n",
       " 'Software Engineer Intern - Security',\n",
       " 'Raymond James, 2024 Spring Associate - Marketing Data Insights - St. Petersburg, FL (Virtual or Hybrid) - Application via WayUp',\n",
       " 'ML Engineer Internship, Open benchmarks of AI hardware - US Remote',\n",
       " 'Machine Learning Engineer Internship, Tokenizers & Maintenance - US Remote',\n",
       " 'Infrastructure and DevOps Intern',\n",
       " 'IT Intern - DevOps and Infrastructure',\n",
       " 'UX Developer Intern',\n",
       " 'Security Engineer, Internal Detection and Response',\n",
       " 'Machine Learning Engineer Internship, Computer Vision - US Remote',\n",
       " 'Machine Learning Engineer Internship, Watermarking - US Remote',\n",
       " 'Remote -Hot and urgent requirement of SharePoint Power Apps Developer',\n",
       " 'Machine Learning Engineer Internship, Generation - US Remote',\n",
       " 'Full Stack Developer- Intern',\n",
       " 'Machine Learning Engineer Internship, Brrr/Nanotron - US Remote',\n",
       " 'Economic Research Analyst Intern',\n",
       " 'System Engineer internship 2024',\n",
       " 'Software Developer Intern - Packaged Systems',\n",
       " 'Machine Learning Engineer Internship, Quantization - US Remote',\n",
       " 'Machine Learning Engineer Internship, BigCode - US Remote',\n",
       " 'Intern, Site Reliability Engineer',\n",
       " 'Azure DevOps Engineer Associate Intern',\n",
       " 'Spring Intern, Financial Systems, Salesforce Software Engineer - Part Time',\n",
       " 'Summer 2024, Intern: Fluid Dynamics Data Scientist (Remote/Hybrid)',\n",
       " 'Software Engineer (AI & ML) - REMOTE!',\n",
       " 'IT Intern - AI Development',\n",
       " 'Advisor, School Aged Research, Evidence and Learning (P3)',\n",
       " 'Software Engineer (AI & ML) - REMOTE!',\n",
       " 'Software Development Internship',\n",
       " 'Software Engineer (AI & ML) - REMOTE!',\n",
       " 'Software Engineer (AI & ML) - REMOTE!',\n",
       " 'Special Projects Developer Intern',\n",
       " 'Data Science Intern',\n",
       " 'Software Engineer (AI & ML) - REMOTE!',\n",
       " 'Course Developer Intern, Deep Learning Institute - Summer 2024',\n",
       " 'Web Developer Internship',\n",
       " '2024 Student Internship (U.S.) - Industrial/Systems Engineer',\n",
       " 'Software Engineer Intern, Data Products',\n",
       " 'Software Engineer- Client Platforms Intern',\n",
       " 'GPGPU Physics Solver Intern',\n",
       " 'Reinforcement Learning Research Intern for Game AI',\n",
       " 'Trainee Embedded engineer IRC202703',\n",
       " '2024 Student Internship (U.S.) - Industrial/Systems Engineer',\n",
       " 'NYU Steinhardt, API Developer - Application via WayUp',\n",
       " 'Reinforcement Learning Research Intern for Game AI',\n",
       " 'Reinforcement Learning Research Intern for Game AI',\n",
       " 'Reinforcement Learning Research Intern for Game AI',\n",
       " 'Software Developer Intern',\n",
       " 'Raymond James, 2024 Spring Associate - Marketing Development - St. Petersburg, FL (Virtual or Hybrid) - Application via WayUp',\n",
       " 'Quantum Computing Software Intern',\n",
       " 'Business Analyst Intern - Remote | WFH',\n",
       " 'Intern - Site Reliability Engineer (SPRING)',\n",
       " 'Developer Internship',\n",
       " 'Quantum Computing Software Intern',\n",
       " 'Software Engineer Intern - Perks (Core Product)',\n",
       " 'SW Application Developer, Digital Marketing Internship Program - Remote | WFH',\n",
       " 'Volunteer Software Engineer (Unpaid)',\n",
       " 'Remote Front-End Developer Intern (React Native)',\n",
       " 'Intern - Site Relability Engineer (SUMMER)',\n",
       " 'Childhood Cancer Society, Software Engineering Team (Internship/Course Credit Eligible) - Application via WayUp',\n",
       " 'Software Engineer Intern',\n",
       " 'Software Engineering Internship Program (2024)',\n",
       " 'Product Owner, BigFuture Student',\n",
       " 'Software Engineering Intern',\n",
       " 'Software Engineer Intern - NetSuite',\n",
       " 'Machine Learning SW Engineer - Graduate Intern',\n",
       " 'Software Engineer Intern - Nitro Growth',\n",
       " 'Software Development Intern',\n",
       " 'Software Engineer Intern - Applications Development',\n",
       " 'Cloud Development Intern',\n",
       " 'Software Architecture Leader (M/F/D)',\n",
       " 'Software Engineer Intern - Global Industry Unit',\n",
       " 'Machine Learning Engineer Internship - Masters or PhD',\n",
       " 'Intern Software Engineer',\n",
       " 'Yahoo Summer Intern (US) - Sports, Finance, Mail & More!',\n",
       " 'Software Engineering Intern',\n",
       " 'Financial Analyst Internship (Remote)',\n",
       " 'Intern - Development Engineering (SPRING)',\n",
       " 'Intern - Development Engineering (SPRING)',\n",
       " 'Software Architecture Leader (M/F/D)',\n",
       " 'Software Engineering Intern - Dallas, TX',\n",
       " 'Software Engineer Intern - Corporate Architecture',\n",
       " 'Software Engineering Intern - Dallas, TX',\n",
       " 'Software Engineer Intern',\n",
       " 'Software Engineering Intern',\n",
       " 'NVIDIA 2024 Internships: Software Engineering Intern',\n",
       " 'Software Developer Intern - Summer 2024',\n",
       " 'NVIDIA 2024 Internships: Systems Software Engineering Intern',\n",
       " 'Business Analyst Intern (Summer 2024)',\n",
       " 'Infrastructure Software Engineering Intern',\n",
       " 'Backend Software Engineering Intern',\n",
       " 'Business Analyst Intern - Indonesia',\n",
       " 'Intern Engineer',\n",
       " 'Platform Software Engineering Intern',\n",
       " 'Platform Software Engineering Intern',\n",
       " '2024 Summer Internship: Software Engineer, Perception',\n",
       " 'Summer 2024 Software Engineering Intern',\n",
       " 'Mobile Software Engineering Intern',\n",
       " 'DOD Skillbridge - Software Development Engineer In Test Intern',\n",
       " 'Software Engineering Intern - Dallas, TX with Security Clearance',\n",
       " 'Software Engineering Intern - Dallas, TX with Security Clearance',\n",
       " 'Software Developer in Test Intern 4 Months - Winter 2024',\n",
       " 'TMG Data Analyst Intern (Remote in Madison, Wisconsin)',\n",
       " 'Customer Finance Internship (Data Analyst)',\n",
       " 'People and Talent Analytics Intern',\n",
       " 'Intern, Digital Analyst-Remote',\n",
       " 'Texas Student Data System (TSDS) Subject Matter Expert (Systems Analyst V)',\n",
       " 'Student Success - Remote | WFH',\n",
       " 'American Heart Association, Intern, Digital Analyst-Remote - Application via WayUp',\n",
       " 'Remote Summer Internship - Business Intelligence & Data Analytics',\n",
       " 'Quality Analyst Intern',\n",
       " 'Data Science Intern',\n",
       " '2024 Summer Internship - MIS - Remote',\n",
       " 'Data Science Intern',\n",
       " 'Remote Summer Internship - Customer Analytics and Insights',\n",
       " 'Data Science & Analytics Internships – Summer 2024',\n",
       " 'AIML Engineer - 2024 Summer Internship (US REMOTE)',\n",
       " 'Applications Software Engineering Summer Internship',\n",
       " 'Optum Enterprise Shared Services Internship - Remote or Eden Prairie, MN',\n",
       " 'Remote Summer Internship - Software Development Engineer',\n",
       " 'Federal Systems Engineering Intern (Summer Internship 2024)',\n",
       " 'Applications Software Engineering Summer Internship',\n",
       " 'Applications Software Engineering Summer Internship',\n",
       " 'Applications Software Engineering Summer Internship',\n",
       " 'Applications Software Engineering Summer Internship',\n",
       " 'Applications Software Engineering Summer Internship',\n",
       " 'Applications Software Engineering Summer Internship',\n",
       " 'Applications Software Engineering Summer Internship',\n",
       " 'Software Development Internship Summer 2024 (Remote)',\n",
       " 'Global Finance Internship (Remote & Hybrid)']"
      ]
     },
     "execution_count": 56,
     "metadata": {},
     "output_type": "execute_result"
    }
   ],
   "source": [
    "companyname"
   ]
  },
  {
   "cell_type": "code",
   "execution_count": 59,
   "id": "9f07b6c8",
   "metadata": {},
   "outputs": [
    {
     "data": {
      "text/plain": [
       "151"
      ]
     },
     "execution_count": 59,
     "metadata": {},
     "output_type": "execute_result"
    }
   ],
   "source": [
    "len(companyname)"
   ]
  },
  {
   "cell_type": "code",
   "execution_count": 57,
   "id": "bae6c258",
   "metadata": {},
   "outputs": [
    {
     "name": "stderr",
     "output_type": "stream",
     "text": [
      "C:\\Users\\admin\\AppData\\Local\\Temp\\ipykernel_7416\\2586112546.py:3: DeprecationWarning: find_elements_by_class_name is deprecated. Please use find_elements(by=By.CLASS_NAME, value=name) instead\n",
      "  title=driver.find_elements_by_class_name('base-search-card__subtitle')[i].text\n"
     ]
    }
   ],
   "source": [
    "try:\n",
    "    for i in range(y):\n",
    "        title=driver.find_elements_by_class_name('base-search-card__subtitle')[i].text\n",
    "        titlename.append(title)\n",
    "        \n",
    "except IndexError:\n",
    "    print(\"no\")"
   ]
  },
  {
   "cell_type": "code",
   "execution_count": 58,
   "id": "7b25a4be",
   "metadata": {},
   "outputs": [
    {
     "data": {
      "text/plain": [
       "['Greenlight',\n",
       " 'Discord',\n",
       " 'Discord',\n",
       " 'Bayer',\n",
       " 'Bayer',\n",
       " 'Enel North America',\n",
       " 'Intel Corporation',\n",
       " 'Bayer',\n",
       " 'Oracle',\n",
       " 'Foxit',\n",
       " 'RadicalX',\n",
       " 'Aegon',\n",
       " 'Vee',\n",
       " 'Oracle',\n",
       " 'IntelliX Software Inc',\n",
       " 'Hugging Face',\n",
       " 'Anika Systems',\n",
       " 'HireMeFast LLC - Secure More Interviews & Job Offers',\n",
       " 'Hugging Face',\n",
       " 'Acxiom',\n",
       " 'CDW',\n",
       " 'Hugging Face',\n",
       " 'Discord',\n",
       " 'WayUp',\n",
       " 'Hugging Face',\n",
       " 'Hugging Face',\n",
       " 'Intel Corporation',\n",
       " 'SelectQuote Insurance Services',\n",
       " 'Oracle',\n",
       " 'Meta',\n",
       " 'Hugging Face',\n",
       " 'Hugging Face',\n",
       " 'IntelliX Software Inc',\n",
       " 'Hugging Face',\n",
       " 'Bainbridge',\n",
       " 'Hugging Face',\n",
       " 'Glassdoor',\n",
       " 'Motorola Solutions',\n",
       " 'Ameritas',\n",
       " 'Hugging Face',\n",
       " 'Hugging Face',\n",
       " 'Yum! Brands',\n",
       " 'Vee',\n",
       " 'SiriusXM',\n",
       " 'RTX',\n",
       " 'CyberCoders',\n",
       " 'SelectQuote Insurance Services',\n",
       " 'Save the Children US',\n",
       " 'CyberCoders',\n",
       " 'AffiniPay',\n",
       " 'CyberCoders',\n",
       " 'CyberCoders',\n",
       " 'Vectra AI',\n",
       " 'Atmosfy',\n",
       " 'CyberCoders',\n",
       " 'NVIDIA',\n",
       " \"T'sarE\",\n",
       " 'Energy Jobline',\n",
       " 'Discord',\n",
       " 'Discord',\n",
       " 'Hexagon Manufacturing Intelligence',\n",
       " 'SonyAI',\n",
       " 'Energy Jobline',\n",
       " 'Bechtel Corporation',\n",
       " 'WayUp',\n",
       " 'SonyAI',\n",
       " 'SonyAI',\n",
       " 'SonyAI',\n",
       " 'Noetic Strategies, Inc.',\n",
       " 'WayUp',\n",
       " 'NVIDIA',\n",
       " 'Get It Recruit - Finance',\n",
       " 'Acxiom',\n",
       " 'Colony Brands, Inc.',\n",
       " 'NVIDIA',\n",
       " 'Discord',\n",
       " 'Get It Recruit - Marketing',\n",
       " 'Teamwyrk',\n",
       " 'BottleUp',\n",
       " 'Acxiom',\n",
       " 'WayUp',\n",
       " 'Hyperion Industries',\n",
       " 'Wikimedia Foundation',\n",
       " 'The College Board',\n",
       " 'Pax8',\n",
       " 'NetSuite',\n",
       " 'Intel Corporation',\n",
       " 'Discord',\n",
       " 'Sparq',\n",
       " 'Oracle',\n",
       " 'Hexagon Manufacturing',\n",
       " 'Agilent Technologies',\n",
       " 'Oracle',\n",
       " 'Torc Robotics',\n",
       " 'Granicus',\n",
       " 'Yahoo',\n",
       " 'Forcepoint',\n",
       " 'Fortrea',\n",
       " 'Acxiom',\n",
       " 'Acxiom',\n",
       " 'Agilent Technologies',\n",
       " 'Lockheed Martin',\n",
       " 'Oracle',\n",
       " 'Lockheed Martin',\n",
       " 'Fortra',\n",
       " 'Intel Corporation',\n",
       " 'NVIDIA',\n",
       " 'Thrivent',\n",
       " 'NVIDIA',\n",
       " 'Knowbl',\n",
       " 'AppLovin',\n",
       " 'AppLovin',\n",
       " 'BTS',\n",
       " 'General Dynamics Mission Systems',\n",
       " 'AppLovin',\n",
       " 'AppLovin',\n",
       " 'Latitude AI',\n",
       " 'Intradiem',\n",
       " 'AppLovin',\n",
       " 'Flashpoint',\n",
       " 'ClearanceJobs',\n",
       " 'ClearanceJobs',\n",
       " 'Ceridian',\n",
       " 'Molina Healthcare',\n",
       " 'Siemens Healthineers',\n",
       " 'Lumentum',\n",
       " 'American Heart Association',\n",
       " 'Texas Education Agency',\n",
       " 'Get It Recruit - Educational Services',\n",
       " 'WayUp',\n",
       " 'Lifeway Christian Resources',\n",
       " 'Lash Group',\n",
       " 'Oracle',\n",
       " 'Freeport-McMoRan',\n",
       " 'Ameritas',\n",
       " 'Lifeway Christian Resources',\n",
       " 'NBCUniversal',\n",
       " 'Motorola Solutions',\n",
       " 'HP',\n",
       " 'Optum',\n",
       " 'Lifeway Christian Resources',\n",
       " 'Motorola Solutions',\n",
       " 'HP',\n",
       " 'HP',\n",
       " 'HP',\n",
       " 'HP',\n",
       " 'HP',\n",
       " 'HP',\n",
       " 'HP',\n",
       " 'WebstaurantStore',\n",
       " 'International Justice Mission']"
      ]
     },
     "execution_count": 58,
     "metadata": {},
     "output_type": "execute_result"
    }
   ],
   "source": [
    "titlename"
   ]
  },
  {
   "cell_type": "code",
   "execution_count": 60,
   "id": "c7620aab",
   "metadata": {},
   "outputs": [
    {
     "data": {
      "text/plain": [
       "151"
      ]
     },
     "execution_count": 60,
     "metadata": {},
     "output_type": "execute_result"
    }
   ],
   "source": [
    "len(titlename)"
   ]
  },
  {
   "cell_type": "code",
   "execution_count": 61,
   "id": "88aea5c8",
   "metadata": {},
   "outputs": [
    {
     "name": "stderr",
     "output_type": "stream",
     "text": [
      "C:\\Users\\admin\\AppData\\Local\\Temp\\ipykernel_7416\\544236994.py:3: DeprecationWarning: find_elements_by_class_name is deprecated. Please use find_elements(by=By.CLASS_NAME, value=name) instead\n",
      "  loc=driver.find_elements_by_class_name('base-search-card__metadata')[i].text\n"
     ]
    }
   ],
   "source": [
    "try:\n",
    "    for i in range(y):\n",
    "        loc=driver.find_elements_by_class_name('base-search-card__metadata')[i].text\n",
    "        location.append(loc)\n",
    "        \n",
    "except IndexError:\n",
    "    print(\"no\")"
   ]
  },
  {
   "cell_type": "code",
   "execution_count": 63,
   "id": "1f0eced6",
   "metadata": {},
   "outputs": [
    {
     "data": {
      "text/plain": [
       "['Atlanta Metropolitan Area\\n3 weeks ago',\n",
       " 'San Francisco, CA\\n1 week ago',\n",
       " 'San Francisco, CA\\n1 week ago',\n",
       " 'United States\\nActively Hiring\\n3 months ago',\n",
       " 'United States\\nActively Hiring\\n1 month ago',\n",
       " 'United States\\n6 days ago',\n",
       " 'Arizona, United States\\nActively Hiring\\n1 week ago',\n",
       " 'United States\\nActively Hiring\\n1 month ago',\n",
       " 'United States\\nActively Hiring\\n4 days ago',\n",
       " 'Fremont, CA\\n1 week ago',\n",
       " 'New York, NY\\nActively Hiring\\n5 hours ago',\n",
       " 'United States\\n1 week ago',\n",
       " 'New York, NY\\n5 months ago',\n",
       " 'United States\\nActively Hiring\\n4 days ago',\n",
       " 'United States\\nActively Hiring\\n1 month ago',\n",
       " 'United States\\n1 week ago',\n",
       " 'Leesburg, VA\\n4 days ago',\n",
       " 'New York, NY\\n12 hours ago',\n",
       " 'United States\\n1 week ago',\n",
       " 'United States\\nActively Hiring\\n2 weeks ago',\n",
       " 'United States\\nActively Hiring\\n1 week ago',\n",
       " 'United States\\n1 week ago',\n",
       " 'San Francisco, CA\\n1 week ago',\n",
       " 'St Petersburg, FL\\nBe an early applicant\\n2 weeks ago',\n",
       " 'United States\\n1 week ago',\n",
       " 'United States\\n1 week ago',\n",
       " 'Arizona, United States\\nActively Hiring\\n2 weeks ago',\n",
       " 'United States\\n4 days ago',\n",
       " 'United States\\nActively Hiring\\n1 week ago',\n",
       " 'United States\\n$205,000 - $281,000\\nActively Hiring\\n2 weeks ago',\n",
       " 'United States\\n1 week ago',\n",
       " 'United States\\n1 week ago',\n",
       " 'United States\\nActively Hiring\\n1 month ago',\n",
       " 'United States\\n1 week ago',\n",
       " 'United States\\nActively Hiring\\n6 days ago',\n",
       " 'United States\\n1 week ago',\n",
       " 'San Francisco, CA\\n1 week ago',\n",
       " 'Illinois, United States\\nActively Hiring\\n2 weeks ago',\n",
       " 'United States\\n2 weeks ago',\n",
       " 'United States\\n1 week ago',\n",
       " 'United States\\n1 week ago',\n",
       " 'United States\\nActively Hiring\\n1 day ago',\n",
       " 'Charleston, SC\\n1 month ago',\n",
       " 'New York, United States\\nActively Hiring\\n4 days ago',\n",
       " 'United States\\nActively Hiring\\n3 weeks ago',\n",
       " 'Dallas, TX\\n$200,000 - $250,000\\nActively Hiring\\n1 week ago',\n",
       " 'United States\\n4 days ago',\n",
       " 'United States\\n2 weeks ago',\n",
       " 'Seattle, WA\\n$200,000 - $250,000\\nActively Hiring\\n1 week ago',\n",
       " 'Austin, TX\\n1 month ago',\n",
       " 'Phoenix, AZ\\n$200,000 - $250,000\\nActively Hiring\\n1 week ago',\n",
       " 'San Jose, CA\\n$200,000 - $250,000\\nActively Hiring\\n1 week ago',\n",
       " 'Austin, TX\\nActively Hiring\\n2 weeks ago',\n",
       " 'United States\\n1 month ago',\n",
       " 'Portland, OR\\n$200,000 - $250,000\\nActively Hiring\\n1 week ago',\n",
       " 'California, United States\\nActively Hiring\\n1 week ago',\n",
       " 'Rockford, IL\\nBe an early applicant\\n2 hours ago',\n",
       " 'United States\\nActively Hiring\\n1 week ago',\n",
       " 'San Francisco, CA\\n1 week ago',\n",
       " 'San Francisco, CA\\n2 weeks ago',\n",
       " 'United States\\nActively Hiring\\n2 weeks ago',\n",
       " 'New York, United States\\n1 month ago',\n",
       " 'West Lafayette, IN\\nActively Hiring\\n3 days ago',\n",
       " 'United States\\nActively Hiring\\n1 week ago',\n",
       " 'United States\\n6 months ago',\n",
       " 'San Jose, CA\\n1 month ago',\n",
       " 'Washington, United States\\nBe an early applicant\\n1 month ago',\n",
       " 'Washington, DC\\n1 month ago',\n",
       " 'Huntsville, AL\\n3 weeks ago',\n",
       " 'St Petersburg, FL\\n1 month ago',\n",
       " 'New York, United States\\nActively Hiring\\n1 week ago',\n",
       " 'Santa Clara, CA\\n15 hours ago',\n",
       " 'United States\\nActively Hiring\\n1 month ago',\n",
       " 'Monroe, WI\\n1 month ago',\n",
       " 'United States\\nActively Hiring\\n1 week ago',\n",
       " 'San Francisco, CA\\n2 weeks ago',\n",
       " 'Potomac, MD\\n3 weeks ago',\n",
       " 'United States\\nActively Hiring\\n12 hours ago',\n",
       " 'Washington DC-Baltimore Area\\nActively Hiring\\n1 day ago',\n",
       " 'United States\\nActively Hiring\\n1 week ago',\n",
       " 'United States\\n3 months ago',\n",
       " 'United States\\n$0 - $0\\nActively Hiring\\n6 days ago',\n",
       " 'New York, NY\\n1 week ago',\n",
       " 'United States\\n2 weeks ago',\n",
       " 'Colorado, United States\\nActively Hiring\\n1 week ago',\n",
       " 'United States\\nActively Hiring\\n3 days ago',\n",
       " 'Arizona, United States\\nActively Hiring\\n4 days ago',\n",
       " 'San Francisco, CA\\n1 week ago',\n",
       " 'Louisiana, United States\\n6 days ago',\n",
       " 'United States\\nActively Hiring\\n3 days ago',\n",
       " 'United States\\n2 weeks ago',\n",
       " 'Sacramento, CA\\nActively Hiring\\n2 weeks ago',\n",
       " 'United States\\nActively Hiring\\n3 days ago',\n",
       " 'United States\\nActively Hiring\\n1 week ago',\n",
       " 'Puerto Rico\\nActively Hiring\\n1 week ago',\n",
       " 'United States\\nActively Hiring\\n2 weeks ago',\n",
       " 'United States\\nActively Hiring\\n1 week ago',\n",
       " 'Durham, NC\\nActively Hiring\\n1 week ago',\n",
       " 'United States\\nActively Hiring\\n2 months ago',\n",
       " 'United States\\nActively Hiring\\n6 days ago',\n",
       " 'Santa Clara, CA\\nActively Hiring\\n2 weeks ago',\n",
       " 'Grand Prairie, TX\\nActively Hiring\\n2 months ago',\n",
       " 'United States\\nActively Hiring\\n4 days ago',\n",
       " 'Grand Prairie, TX\\nActively Hiring\\n1 month ago',\n",
       " 'United States\\n6 days ago',\n",
       " 'Arizona, United States\\nActively Hiring\\n2 days ago',\n",
       " 'United States\\nActively Hiring\\n21 hours ago',\n",
       " 'United States\\nActively Hiring\\n1 month ago',\n",
       " 'United States\\nActively Hiring\\n19 hours ago',\n",
       " 'Northville, MI\\n1 month ago',\n",
       " 'United States\\nActively Hiring\\n2 weeks ago',\n",
       " 'United States\\nActively Hiring\\n1 day ago',\n",
       " 'United States\\n1 month ago',\n",
       " 'Scottsdale, AZ\\nActively Hiring\\n3 weeks ago',\n",
       " 'United States\\nActively Hiring\\n1 day ago',\n",
       " 'United States\\nActively Hiring\\n4 days ago',\n",
       " 'Palo Alto, CA\\n2 weeks ago',\n",
       " 'United States\\n3 weeks ago',\n",
       " 'United States\\nActively Hiring\\n4 days ago',\n",
       " 'Washington, DC\\n1 week ago',\n",
       " 'Grand Prairie, TX\\n1 month ago',\n",
       " 'Grand Prairie, TX\\n1 month ago',\n",
       " 'Toronto, OH\\nActively Hiring\\n1 day ago',\n",
       " 'Madison, WI\\nActively Hiring\\n4 weeks ago',\n",
       " 'Walpole, MA\\nActively Hiring\\n1 month ago',\n",
       " 'California, United States\\nActively Hiring\\n3 days ago',\n",
       " 'Dallas, TX\\n1 month ago',\n",
       " 'Texas, United States\\n1 day ago',\n",
       " 'Albuquerque, NM\\nBe an early applicant\\n3 weeks ago',\n",
       " 'Dallas, TX\\nBe an early applicant\\n1 month ago',\n",
       " 'United States\\nActively Hiring\\n4 days ago',\n",
       " 'Pennsylvania, United States\\n3 weeks ago',\n",
       " 'United States\\nActively Hiring\\n3 days ago',\n",
       " 'Phoenix, AZ\\nActively Hiring\\n1 month ago',\n",
       " 'Lincoln, NE\\n3 months ago',\n",
       " 'United States\\nActively Hiring\\n4 days ago',\n",
       " 'Universal City, CA\\nActively Hiring\\n5 days ago',\n",
       " 'Illinois, United States\\nActively Hiring\\n6 days ago',\n",
       " 'New York, United States\\nActively Hiring\\n5 days ago',\n",
       " 'Eden Prairie, MN\\nActively Hiring\\n2 months ago',\n",
       " 'United States\\nActively Hiring\\n4 days ago',\n",
       " 'Maryland, United States\\nActively Hiring\\n1 day ago',\n",
       " 'Washington, United States\\nActively Hiring\\n5 days ago',\n",
       " 'California, United States\\nActively Hiring\\n5 days ago',\n",
       " 'Texas, United States\\nActively Hiring\\n5 days ago',\n",
       " 'Tennessee, United States\\nActively Hiring\\n4 days ago',\n",
       " 'Oregon, United States\\nActively Hiring\\n5 days ago',\n",
       " 'Massachusetts, United States\\nActively Hiring\\n5 days ago',\n",
       " 'Idaho, United States\\nActively Hiring\\n5 days ago',\n",
       " 'Lititz, PA\\nActively Hiring\\n1 week ago',\n",
       " 'Virginia, United States\\n4 days ago']"
      ]
     },
     "execution_count": 63,
     "metadata": {},
     "output_type": "execute_result"
    }
   ],
   "source": [
    "location"
   ]
  },
  {
   "cell_type": "code",
   "execution_count": 64,
   "id": "2fcac8d9",
   "metadata": {},
   "outputs": [
    {
     "data": {
      "text/plain": [
       "151"
      ]
     },
     "execution_count": 64,
     "metadata": {},
     "output_type": "execute_result"
    }
   ],
   "source": [
    "len(location)"
   ]
  },
  {
   "cell_type": "code",
   "execution_count": 65,
   "id": "fd0acfb0",
   "metadata": {},
   "outputs": [
    {
     "name": "stderr",
     "output_type": "stream",
     "text": [
      "C:\\Users\\admin\\AppData\\Local\\Temp\\ipykernel_7416\\1551537939.py:3: DeprecationWarning: find_elements_by_class_name is deprecated. Please use find_elements(by=By.CLASS_NAME, value=name) instead\n",
      "  post=driver.find_elements_by_class_name('job-search-card__listdate')[i].text\n"
     ]
    },
    {
     "name": "stdout",
     "output_type": "stream",
     "text": [
      "no\n"
     ]
    }
   ],
   "source": [
    "try:\n",
    "    for i in range(y):\n",
    "        post=driver.find_elements_by_class_name('job-search-card__listdate')[i].text\n",
    "        postedtime.append(post)\n",
    "        \n",
    "except IndexError:\n",
    "    print(\"no\")"
   ]
  },
  {
   "cell_type": "code",
   "execution_count": 66,
   "id": "147ad2fd",
   "metadata": {},
   "outputs": [
    {
     "data": {
      "text/plain": [
       "['3 weeks ago',\n",
       " '1 week ago',\n",
       " '1 week ago',\n",
       " '3 months ago',\n",
       " '1 month ago',\n",
       " '6 days ago',\n",
       " '1 week ago',\n",
       " '1 month ago',\n",
       " '4 days ago',\n",
       " '1 week ago',\n",
       " '1 week ago',\n",
       " '5 months ago',\n",
       " '4 days ago',\n",
       " '1 month ago',\n",
       " '1 week ago',\n",
       " '4 days ago',\n",
       " '1 week ago',\n",
       " '2 weeks ago',\n",
       " '1 week ago',\n",
       " '1 week ago',\n",
       " '1 week ago',\n",
       " '2 weeks ago',\n",
       " '1 week ago',\n",
       " '1 week ago',\n",
       " '2 weeks ago',\n",
       " '4 days ago',\n",
       " '1 week ago',\n",
       " '2 weeks ago',\n",
       " '1 week ago',\n",
       " '1 week ago',\n",
       " '1 month ago',\n",
       " '1 week ago',\n",
       " '6 days ago',\n",
       " '1 week ago',\n",
       " '1 week ago',\n",
       " '2 weeks ago',\n",
       " '2 weeks ago',\n",
       " '1 week ago',\n",
       " '1 week ago',\n",
       " '1 day ago',\n",
       " '1 month ago',\n",
       " '4 days ago',\n",
       " '3 weeks ago',\n",
       " '1 week ago',\n",
       " '4 days ago',\n",
       " '2 weeks ago',\n",
       " '1 week ago',\n",
       " '1 month ago',\n",
       " '1 week ago',\n",
       " '1 week ago',\n",
       " '2 weeks ago',\n",
       " '1 month ago',\n",
       " '1 week ago',\n",
       " '1 week ago',\n",
       " '1 week ago',\n",
       " '1 week ago',\n",
       " '2 weeks ago',\n",
       " '2 weeks ago',\n",
       " '1 month ago',\n",
       " '3 days ago',\n",
       " '1 week ago',\n",
       " '6 months ago',\n",
       " '1 month ago',\n",
       " '1 month ago',\n",
       " '1 month ago',\n",
       " '3 weeks ago',\n",
       " '1 month ago',\n",
       " '1 week ago',\n",
       " '1 month ago',\n",
       " '1 month ago',\n",
       " '1 week ago',\n",
       " '2 weeks ago',\n",
       " '3 weeks ago',\n",
       " '1 day ago',\n",
       " '1 week ago',\n",
       " '3 months ago',\n",
       " '6 days ago',\n",
       " '1 week ago',\n",
       " '2 weeks ago',\n",
       " '1 week ago',\n",
       " '3 days ago',\n",
       " '4 days ago',\n",
       " '1 week ago',\n",
       " '6 days ago',\n",
       " '3 days ago',\n",
       " '2 weeks ago',\n",
       " '2 weeks ago',\n",
       " '3 days ago',\n",
       " '1 week ago',\n",
       " '1 week ago',\n",
       " '2 weeks ago',\n",
       " '1 week ago',\n",
       " '1 week ago',\n",
       " '2 months ago',\n",
       " '6 days ago',\n",
       " '2 weeks ago',\n",
       " '2 months ago',\n",
       " '4 days ago',\n",
       " '1 month ago',\n",
       " '6 days ago',\n",
       " '2 days ago',\n",
       " '1 month ago',\n",
       " '1 month ago',\n",
       " '2 weeks ago',\n",
       " '1 day ago',\n",
       " '1 month ago',\n",
       " '3 weeks ago',\n",
       " '1 day ago',\n",
       " '4 days ago',\n",
       " '2 weeks ago',\n",
       " '3 weeks ago',\n",
       " '4 days ago',\n",
       " '1 week ago',\n",
       " '1 month ago',\n",
       " '1 month ago',\n",
       " '1 day ago',\n",
       " '4 weeks ago',\n",
       " '1 month ago',\n",
       " '3 days ago',\n",
       " '1 month ago',\n",
       " '1 day ago',\n",
       " '3 weeks ago',\n",
       " '1 month ago',\n",
       " '4 days ago',\n",
       " '3 weeks ago',\n",
       " '3 days ago',\n",
       " '1 month ago',\n",
       " '3 months ago',\n",
       " '4 days ago',\n",
       " '5 days ago',\n",
       " '6 days ago',\n",
       " '5 days ago',\n",
       " '2 months ago',\n",
       " '4 days ago',\n",
       " '1 day ago',\n",
       " '5 days ago',\n",
       " '5 days ago',\n",
       " '5 days ago',\n",
       " '4 days ago',\n",
       " '5 days ago',\n",
       " '5 days ago',\n",
       " '5 days ago',\n",
       " '1 week ago',\n",
       " '4 days ago']"
      ]
     },
     "execution_count": 66,
     "metadata": {},
     "output_type": "execute_result"
    }
   ],
   "source": [
    "postedtime"
   ]
  },
  {
   "cell_type": "code",
   "execution_count": 67,
   "id": "3b0c7ad6",
   "metadata": {},
   "outputs": [
    {
     "data": {
      "text/plain": [
       "144"
      ]
     },
     "execution_count": 67,
     "metadata": {},
     "output_type": "execute_result"
    }
   ],
   "source": [
    "len(postedtime)"
   ]
  },
  {
   "cell_type": "code",
   "execution_count": 68,
   "id": "29d03d71",
   "metadata": {},
   "outputs": [],
   "source": [
    "companyfinal=pd.DataFrame(companyname,columns=[\"company\"])\n",
    "titlefinal=pd.DataFrame(titlename,columns=[\"title\"])\n",
    "locationfinal=pd.DataFrame(location,columns=[\"location\"])\n",
    "postedfinal=pd.DataFrame(postedtime,columns=[\"postedtime\"])"
   ]
  },
  {
   "cell_type": "code",
   "execution_count": 69,
   "id": "a0cfba0f",
   "metadata": {},
   "outputs": [],
   "source": [
    "x=companyfinal.join([titlefinal,locationfinal,postedfinal])"
   ]
  },
  {
   "cell_type": "code",
   "execution_count": 70,
   "id": "cdd1f35b",
   "metadata": {},
   "outputs": [
    {
     "data": {
      "text/html": [
       "<div>\n",
       "<style scoped>\n",
       "    .dataframe tbody tr th:only-of-type {\n",
       "        vertical-align: middle;\n",
       "    }\n",
       "\n",
       "    .dataframe tbody tr th {\n",
       "        vertical-align: top;\n",
       "    }\n",
       "\n",
       "    .dataframe thead th {\n",
       "        text-align: right;\n",
       "    }\n",
       "</style>\n",
       "<table border=\"1\" class=\"dataframe\">\n",
       "  <thead>\n",
       "    <tr style=\"text-align: right;\">\n",
       "      <th></th>\n",
       "      <th>company</th>\n",
       "      <th>title</th>\n",
       "      <th>location</th>\n",
       "      <th>postedtime</th>\n",
       "    </tr>\n",
       "  </thead>\n",
       "  <tbody>\n",
       "    <tr>\n",
       "      <th>0</th>\n",
       "      <td>Data Analytics Intern</td>\n",
       "      <td>Greenlight</td>\n",
       "      <td>Atlanta Metropolitan Area\\n3 weeks ago</td>\n",
       "      <td>3 weeks ago</td>\n",
       "    </tr>\n",
       "    <tr>\n",
       "      <th>1</th>\n",
       "      <td>Data Science Intern, Analytics</td>\n",
       "      <td>Discord</td>\n",
       "      <td>San Francisco, CA\\n1 week ago</td>\n",
       "      <td>1 week ago</td>\n",
       "    </tr>\n",
       "    <tr>\n",
       "      <th>2</th>\n",
       "      <td>Data Engineer Intern</td>\n",
       "      <td>Discord</td>\n",
       "      <td>San Francisco, CA\\n1 week ago</td>\n",
       "      <td>1 week ago</td>\n",
       "    </tr>\n",
       "    <tr>\n",
       "      <th>3</th>\n",
       "      <td>Data Intelligence Intern</td>\n",
       "      <td>Bayer</td>\n",
       "      <td>United States\\nActively Hiring\\n3 months ago</td>\n",
       "      <td>3 months ago</td>\n",
       "    </tr>\n",
       "    <tr>\n",
       "      <th>4</th>\n",
       "      <td>Process Insights &amp; Analytics Intern</td>\n",
       "      <td>Bayer</td>\n",
       "      <td>United States\\nActively Hiring\\n1 month ago</td>\n",
       "      <td>1 month ago</td>\n",
       "    </tr>\n",
       "    <tr>\n",
       "      <th>...</th>\n",
       "      <td>...</td>\n",
       "      <td>...</td>\n",
       "      <td>...</td>\n",
       "      <td>...</td>\n",
       "    </tr>\n",
       "    <tr>\n",
       "      <th>146</th>\n",
       "      <td>Applications Software Engineering Summer Inter...</td>\n",
       "      <td>HP</td>\n",
       "      <td>Oregon, United States\\nActively Hiring\\n5 days...</td>\n",
       "      <td>NaN</td>\n",
       "    </tr>\n",
       "    <tr>\n",
       "      <th>147</th>\n",
       "      <td>Applications Software Engineering Summer Inter...</td>\n",
       "      <td>HP</td>\n",
       "      <td>Massachusetts, United States\\nActively Hiring\\...</td>\n",
       "      <td>NaN</td>\n",
       "    </tr>\n",
       "    <tr>\n",
       "      <th>148</th>\n",
       "      <td>Applications Software Engineering Summer Inter...</td>\n",
       "      <td>HP</td>\n",
       "      <td>Idaho, United States\\nActively Hiring\\n5 days ago</td>\n",
       "      <td>NaN</td>\n",
       "    </tr>\n",
       "    <tr>\n",
       "      <th>149</th>\n",
       "      <td>Software Development Internship Summer 2024 (R...</td>\n",
       "      <td>WebstaurantStore</td>\n",
       "      <td>Lititz, PA\\nActively Hiring\\n1 week ago</td>\n",
       "      <td>NaN</td>\n",
       "    </tr>\n",
       "    <tr>\n",
       "      <th>150</th>\n",
       "      <td>Global Finance Internship (Remote &amp; Hybrid)</td>\n",
       "      <td>International Justice Mission</td>\n",
       "      <td>Virginia, United States\\n4 days ago</td>\n",
       "      <td>NaN</td>\n",
       "    </tr>\n",
       "  </tbody>\n",
       "</table>\n",
       "<p>151 rows × 4 columns</p>\n",
       "</div>"
      ],
      "text/plain": [
       "                                               company  \\\n",
       "0                                Data Analytics Intern   \n",
       "1                       Data Science Intern, Analytics   \n",
       "2                                 Data Engineer Intern   \n",
       "3                             Data Intelligence Intern   \n",
       "4                  Process Insights & Analytics Intern   \n",
       "..                                                 ...   \n",
       "146  Applications Software Engineering Summer Inter...   \n",
       "147  Applications Software Engineering Summer Inter...   \n",
       "148  Applications Software Engineering Summer Inter...   \n",
       "149  Software Development Internship Summer 2024 (R...   \n",
       "150        Global Finance Internship (Remote & Hybrid)   \n",
       "\n",
       "                             title  \\\n",
       "0                       Greenlight   \n",
       "1                          Discord   \n",
       "2                          Discord   \n",
       "3                            Bayer   \n",
       "4                            Bayer   \n",
       "..                             ...   \n",
       "146                             HP   \n",
       "147                             HP   \n",
       "148                             HP   \n",
       "149               WebstaurantStore   \n",
       "150  International Justice Mission   \n",
       "\n",
       "                                              location    postedtime  \n",
       "0               Atlanta Metropolitan Area\\n3 weeks ago   3 weeks ago  \n",
       "1                        San Francisco, CA\\n1 week ago    1 week ago  \n",
       "2                        San Francisco, CA\\n1 week ago    1 week ago  \n",
       "3         United States\\nActively Hiring\\n3 months ago  3 months ago  \n",
       "4          United States\\nActively Hiring\\n1 month ago   1 month ago  \n",
       "..                                                 ...           ...  \n",
       "146  Oregon, United States\\nActively Hiring\\n5 days...           NaN  \n",
       "147  Massachusetts, United States\\nActively Hiring\\...           NaN  \n",
       "148  Idaho, United States\\nActively Hiring\\n5 days ago           NaN  \n",
       "149            Lititz, PA\\nActively Hiring\\n1 week ago           NaN  \n",
       "150                Virginia, United States\\n4 days ago           NaN  \n",
       "\n",
       "[151 rows x 4 columns]"
      ]
     },
     "execution_count": 70,
     "metadata": {},
     "output_type": "execute_result"
    }
   ],
   "source": [
    "x"
   ]
  },
  {
   "cell_type": "code",
   "execution_count": 72,
   "id": "1ae17d50",
   "metadata": {},
   "outputs": [],
   "source": [
    "x.to_csv('Downloads/dataanalystjobs.csv')"
   ]
  },
  {
   "cell_type": "code",
   "execution_count": null,
   "id": "2ad64140",
   "metadata": {},
   "outputs": [],
   "source": []
  }
 ],
 "metadata": {
  "kernelspec": {
   "display_name": "Python 3 (ipykernel)",
   "language": "python",
   "name": "python3"
  },
  "language_info": {
   "codemirror_mode": {
    "name": "ipython",
    "version": 3
   },
   "file_extension": ".py",
   "mimetype": "text/x-python",
   "name": "python",
   "nbconvert_exporter": "python",
   "pygments_lexer": "ipython3",
   "version": "3.9.13"
  }
 },
 "nbformat": 4,
 "nbformat_minor": 5
}
