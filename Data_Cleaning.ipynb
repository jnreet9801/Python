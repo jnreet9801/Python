{
 "cells": [
  {
   "cell_type": "code",
   "execution_count": 75,
   "id": "b50d4d13",
   "metadata": {},
   "outputs": [],
   "source": [
    "import pandas as pd\n",
    "import numpy as np\n",
    "import matplotlib.pyplot as plt\n",
    "import seaborn as sns\n",
    "%matplotlib inline"
   ]
  },
  {
   "cell_type": "code",
   "execution_count": 76,
   "id": "a4196b91",
   "metadata": {},
   "outputs": [],
   "source": [
    "path='Downloads/'\n",
    "df=pd.read_csv(path+'diabetes_unclean.csv')"
   ]
  },
  {
   "cell_type": "code",
   "execution_count": 77,
   "id": "7e6f1ad7",
   "metadata": {},
   "outputs": [
    {
     "data": {
      "text/html": [
       "<div>\n",
       "<style scoped>\n",
       "    .dataframe tbody tr th:only-of-type {\n",
       "        vertical-align: middle;\n",
       "    }\n",
       "\n",
       "    .dataframe tbody tr th {\n",
       "        vertical-align: top;\n",
       "    }\n",
       "\n",
       "    .dataframe thead th {\n",
       "        text-align: right;\n",
       "    }\n",
       "</style>\n",
       "<table border=\"1\" class=\"dataframe\">\n",
       "  <thead>\n",
       "    <tr style=\"text-align: right;\">\n",
       "      <th></th>\n",
       "      <th>ID</th>\n",
       "      <th>No_Pation</th>\n",
       "      <th>Gender</th>\n",
       "      <th>AGE</th>\n",
       "      <th>Urea</th>\n",
       "      <th>Cr</th>\n",
       "      <th>HbA1c</th>\n",
       "      <th>Chol</th>\n",
       "      <th>TG</th>\n",
       "      <th>HDL</th>\n",
       "      <th>LDL</th>\n",
       "      <th>VLDL</th>\n",
       "      <th>BMI</th>\n",
       "      <th>CLASS</th>\n",
       "    </tr>\n",
       "  </thead>\n",
       "  <tbody>\n",
       "    <tr>\n",
       "      <th>0</th>\n",
       "      <td>502</td>\n",
       "      <td>17975</td>\n",
       "      <td>F</td>\n",
       "      <td>50.0</td>\n",
       "      <td>4.7</td>\n",
       "      <td>46.0</td>\n",
       "      <td>4.9</td>\n",
       "      <td>4.2</td>\n",
       "      <td>0.9</td>\n",
       "      <td>2.4</td>\n",
       "      <td>1.4</td>\n",
       "      <td>0.5</td>\n",
       "      <td>24.0</td>\n",
       "      <td>N</td>\n",
       "    </tr>\n",
       "    <tr>\n",
       "      <th>1</th>\n",
       "      <td>735</td>\n",
       "      <td>34221</td>\n",
       "      <td>M</td>\n",
       "      <td>26.0</td>\n",
       "      <td>4.5</td>\n",
       "      <td>62.0</td>\n",
       "      <td>4.9</td>\n",
       "      <td>3.7</td>\n",
       "      <td>1.4</td>\n",
       "      <td>1.1</td>\n",
       "      <td>2.1</td>\n",
       "      <td>0.6</td>\n",
       "      <td>23.0</td>\n",
       "      <td>N</td>\n",
       "    </tr>\n",
       "    <tr>\n",
       "      <th>2</th>\n",
       "      <td>420</td>\n",
       "      <td>47975</td>\n",
       "      <td>F</td>\n",
       "      <td>50.0</td>\n",
       "      <td>4.7</td>\n",
       "      <td>46.0</td>\n",
       "      <td>4.9</td>\n",
       "      <td>4.2</td>\n",
       "      <td>0.9</td>\n",
       "      <td>2.4</td>\n",
       "      <td>1.4</td>\n",
       "      <td>0.5</td>\n",
       "      <td>24.0</td>\n",
       "      <td>N</td>\n",
       "    </tr>\n",
       "    <tr>\n",
       "      <th>3</th>\n",
       "      <td>680</td>\n",
       "      <td>87656</td>\n",
       "      <td>F</td>\n",
       "      <td>50.0</td>\n",
       "      <td>4.7</td>\n",
       "      <td>46.0</td>\n",
       "      <td>4.9</td>\n",
       "      <td>4.2</td>\n",
       "      <td>0.9</td>\n",
       "      <td>2.4</td>\n",
       "      <td>1.4</td>\n",
       "      <td>0.5</td>\n",
       "      <td>24.0</td>\n",
       "      <td>N</td>\n",
       "    </tr>\n",
       "    <tr>\n",
       "      <th>4</th>\n",
       "      <td>504</td>\n",
       "      <td>34223</td>\n",
       "      <td>M</td>\n",
       "      <td>33.0</td>\n",
       "      <td>7.1</td>\n",
       "      <td>46.0</td>\n",
       "      <td>4.9</td>\n",
       "      <td>4.9</td>\n",
       "      <td>1.0</td>\n",
       "      <td>0.8</td>\n",
       "      <td>2.0</td>\n",
       "      <td>0.4</td>\n",
       "      <td>21.0</td>\n",
       "      <td>N</td>\n",
       "    </tr>\n",
       "    <tr>\n",
       "      <th>...</th>\n",
       "      <td>...</td>\n",
       "      <td>...</td>\n",
       "      <td>...</td>\n",
       "      <td>...</td>\n",
       "      <td>...</td>\n",
       "      <td>...</td>\n",
       "      <td>...</td>\n",
       "      <td>...</td>\n",
       "      <td>...</td>\n",
       "      <td>...</td>\n",
       "      <td>...</td>\n",
       "      <td>...</td>\n",
       "      <td>...</td>\n",
       "      <td>...</td>\n",
       "    </tr>\n",
       "    <tr>\n",
       "      <th>1004</th>\n",
       "      <td>191</td>\n",
       "      <td>454316</td>\n",
       "      <td>M</td>\n",
       "      <td>55.0</td>\n",
       "      <td>NaN</td>\n",
       "      <td>62.0</td>\n",
       "      <td>6.8</td>\n",
       "      <td>5.3</td>\n",
       "      <td>2.0</td>\n",
       "      <td>1.0</td>\n",
       "      <td>3.5</td>\n",
       "      <td>0.9</td>\n",
       "      <td>30.1</td>\n",
       "      <td>Y</td>\n",
       "    </tr>\n",
       "    <tr>\n",
       "      <th>1005</th>\n",
       "      <td>192</td>\n",
       "      <td>454316</td>\n",
       "      <td>M</td>\n",
       "      <td>55.0</td>\n",
       "      <td>4.8</td>\n",
       "      <td>88.0</td>\n",
       "      <td>NaN</td>\n",
       "      <td>5.7</td>\n",
       "      <td>4.0</td>\n",
       "      <td>0.9</td>\n",
       "      <td>3.3</td>\n",
       "      <td>1.8</td>\n",
       "      <td>30.0</td>\n",
       "      <td>Y</td>\n",
       "    </tr>\n",
       "    <tr>\n",
       "      <th>1006</th>\n",
       "      <td>193</td>\n",
       "      <td>454316</td>\n",
       "      <td>M</td>\n",
       "      <td>62.0</td>\n",
       "      <td>6.3</td>\n",
       "      <td>82.0</td>\n",
       "      <td>6.7</td>\n",
       "      <td>5.3</td>\n",
       "      <td>2.0</td>\n",
       "      <td>1.0</td>\n",
       "      <td>3.5</td>\n",
       "      <td>NaN</td>\n",
       "      <td>30.1</td>\n",
       "      <td>Y</td>\n",
       "    </tr>\n",
       "    <tr>\n",
       "      <th>1007</th>\n",
       "      <td>194</td>\n",
       "      <td>454316</td>\n",
       "      <td>F</td>\n",
       "      <td>57.0</td>\n",
       "      <td>4.1</td>\n",
       "      <td>70.0</td>\n",
       "      <td>9.3</td>\n",
       "      <td>5.3</td>\n",
       "      <td>3.3</td>\n",
       "      <td>1.0</td>\n",
       "      <td>1.4</td>\n",
       "      <td>1.3</td>\n",
       "      <td>29.0</td>\n",
       "      <td>Y</td>\n",
       "    </tr>\n",
       "    <tr>\n",
       "      <th>1008</th>\n",
       "      <td>195</td>\n",
       "      <td>4543</td>\n",
       "      <td>f</td>\n",
       "      <td>55.0</td>\n",
       "      <td>4.1</td>\n",
       "      <td>34.0</td>\n",
       "      <td>13.9</td>\n",
       "      <td>5.4</td>\n",
       "      <td>1.6</td>\n",
       "      <td>1.6</td>\n",
       "      <td>3.1</td>\n",
       "      <td>0.7</td>\n",
       "      <td>33.0</td>\n",
       "      <td>Y</td>\n",
       "    </tr>\n",
       "  </tbody>\n",
       "</table>\n",
       "<p>1009 rows × 14 columns</p>\n",
       "</div>"
      ],
      "text/plain": [
       "       ID  No_Pation Gender   AGE  Urea    Cr  HbA1c  Chol   TG  HDL  LDL  \\\n",
       "0     502      17975      F  50.0   4.7  46.0    4.9   4.2  0.9  2.4  1.4   \n",
       "1     735      34221      M  26.0   4.5  62.0    4.9   3.7  1.4  1.1  2.1   \n",
       "2     420      47975      F  50.0   4.7  46.0    4.9   4.2  0.9  2.4  1.4   \n",
       "3     680      87656      F  50.0   4.7  46.0    4.9   4.2  0.9  2.4  1.4   \n",
       "4     504      34223      M  33.0   7.1  46.0    4.9   4.9  1.0  0.8  2.0   \n",
       "...   ...        ...    ...   ...   ...   ...    ...   ...  ...  ...  ...   \n",
       "1004  191     454316      M  55.0   NaN  62.0    6.8   5.3  2.0  1.0  3.5   \n",
       "1005  192     454316      M  55.0   4.8  88.0    NaN   5.7  4.0  0.9  3.3   \n",
       "1006  193     454316      M  62.0   6.3  82.0    6.7   5.3  2.0  1.0  3.5   \n",
       "1007  194     454316      F  57.0   4.1  70.0    9.3   5.3  3.3  1.0  1.4   \n",
       "1008  195       4543      f  55.0   4.1  34.0   13.9   5.4  1.6  1.6  3.1   \n",
       "\n",
       "      VLDL   BMI CLASS  \n",
       "0      0.5  24.0     N  \n",
       "1      0.6  23.0     N  \n",
       "2      0.5  24.0     N  \n",
       "3      0.5  24.0     N  \n",
       "4      0.4  21.0     N  \n",
       "...    ...   ...   ...  \n",
       "1004   0.9  30.1    Y   \n",
       "1005   1.8  30.0    Y   \n",
       "1006   NaN  30.1    Y   \n",
       "1007   1.3  29.0    Y   \n",
       "1008   0.7  33.0    Y   \n",
       "\n",
       "[1009 rows x 14 columns]"
      ]
     },
     "execution_count": 77,
     "metadata": {},
     "output_type": "execute_result"
    }
   ],
   "source": [
    "df"
   ]
  },
  {
   "cell_type": "code",
   "execution_count": 80,
   "id": "3372b01f",
   "metadata": {},
   "outputs": [
    {
     "data": {
      "text/plain": [
       "Index(['ID', 'No_Pation', 'Gender', 'AGE', 'Urea', 'Cr', 'HbA1c', 'Chol', 'TG',\n",
       "       'HDL', 'LDL', 'VLDL', 'BMI', 'CLASS'],\n",
       "      dtype='object')"
      ]
     },
     "execution_count": 80,
     "metadata": {},
     "output_type": "execute_result"
    }
   ],
   "source": [
    "df.columns"
   ]
  },
  {
   "cell_type": "code",
   "execution_count": 81,
   "id": "7608f44d",
   "metadata": {},
   "outputs": [],
   "source": [
    "df.rename(columns={'AGE':'Age'},inplace=True)"
   ]
  },
  {
   "cell_type": "code",
   "execution_count": 82,
   "id": "ad2a0249",
   "metadata": {},
   "outputs": [],
   "source": [
    "df.rename(columns={'No_Pation':'Patients_No.'},inplace=True)"
   ]
  },
  {
   "cell_type": "code",
   "execution_count": 84,
   "id": "09c220d7",
   "metadata": {},
   "outputs": [
    {
     "data": {
      "text/plain": [
       "(1009, 14)"
      ]
     },
     "execution_count": 84,
     "metadata": {},
     "output_type": "execute_result"
    }
   ],
   "source": [
    "df.shape"
   ]
  },
  {
   "cell_type": "code",
   "execution_count": 85,
   "id": "0ef404d5",
   "metadata": {},
   "outputs": [
    {
     "name": "stdout",
     "output_type": "stream",
     "text": [
      "<class 'pandas.core.frame.DataFrame'>\n",
      "RangeIndex: 1009 entries, 0 to 1008\n",
      "Data columns (total 14 columns):\n",
      " #   Column        Non-Null Count  Dtype  \n",
      "---  ------        --------------  -----  \n",
      " 0   ID            1009 non-null   int64  \n",
      " 1   Patients_No.  1009 non-null   int64  \n",
      " 2   Gender        1009 non-null   object \n",
      " 3   Age           1008 non-null   float64\n",
      " 4   Urea          1008 non-null   float64\n",
      " 5   Cr            1007 non-null   float64\n",
      " 6   HbA1c         1006 non-null   float64\n",
      " 7   Chol          1007 non-null   float64\n",
      " 8   TG            1007 non-null   float64\n",
      " 9   HDL           1008 non-null   float64\n",
      " 10  LDL           1007 non-null   float64\n",
      " 11  VLDL          1008 non-null   float64\n",
      " 12  BMI           1009 non-null   float64\n",
      " 13  CLASS         1009 non-null   object \n",
      "dtypes: float64(10), int64(2), object(2)\n",
      "memory usage: 110.5+ KB\n"
     ]
    }
   ],
   "source": [
    "df.info()"
   ]
  },
  {
   "cell_type": "code",
   "execution_count": 86,
   "id": "79f6f1db",
   "metadata": {},
   "outputs": [
    {
     "data": {
      "text/plain": [
       "ID              0\n",
       "Patients_No.    0\n",
       "Gender          0\n",
       "Age             1\n",
       "Urea            1\n",
       "Cr              2\n",
       "HbA1c           3\n",
       "Chol            2\n",
       "TG              2\n",
       "HDL             1\n",
       "LDL             2\n",
       "VLDL            1\n",
       "BMI             0\n",
       "CLASS           0\n",
       "dtype: int64"
      ]
     },
     "execution_count": 86,
     "metadata": {},
     "output_type": "execute_result"
    }
   ],
   "source": [
    "df.isnull().sum()"
   ]
  },
  {
   "cell_type": "code",
   "execution_count": 106,
   "id": "bf69d813",
   "metadata": {},
   "outputs": [],
   "source": [
    "mean_value=df['HbA1c'].mean()"
   ]
  },
  {
   "cell_type": "code",
   "execution_count": 108,
   "id": "6e149f75",
   "metadata": {},
   "outputs": [],
   "source": [
    "df['HbA1c'].fillna(mean_value,inplace=True)"
   ]
  },
  {
   "cell_type": "code",
   "execution_count": 109,
   "id": "33710ea8",
   "metadata": {},
   "outputs": [
    {
     "data": {
      "text/plain": [
       "ID              0\n",
       "Patients_No.    0\n",
       "Gender          0\n",
       "Age             1\n",
       "Urea            1\n",
       "Cr              2\n",
       "HbA1c           0\n",
       "Chol            2\n",
       "TG              2\n",
       "HDL             1\n",
       "LDL             2\n",
       "VLDL            1\n",
       "BMI             0\n",
       "CLASS           0\n",
       "dtype: int64"
      ]
     },
     "execution_count": 109,
     "metadata": {},
     "output_type": "execute_result"
    }
   ],
   "source": [
    "df.isnull().sum()"
   ]
  },
  {
   "cell_type": "code",
   "execution_count": 113,
   "id": "a80157de",
   "metadata": {},
   "outputs": [
    {
     "data": {
      "text/html": [
       "<div>\n",
       "<style scoped>\n",
       "    .dataframe tbody tr th:only-of-type {\n",
       "        vertical-align: middle;\n",
       "    }\n",
       "\n",
       "    .dataframe tbody tr th {\n",
       "        vertical-align: top;\n",
       "    }\n",
       "\n",
       "    .dataframe thead th {\n",
       "        text-align: right;\n",
       "    }\n",
       "</style>\n",
       "<table border=\"1\" class=\"dataframe\">\n",
       "  <thead>\n",
       "    <tr style=\"text-align: right;\">\n",
       "      <th></th>\n",
       "      <th>ID</th>\n",
       "      <th>Patients_No.</th>\n",
       "      <th>Gender</th>\n",
       "      <th>Age</th>\n",
       "      <th>Urea</th>\n",
       "      <th>Cr</th>\n",
       "      <th>HbA1c</th>\n",
       "      <th>Chol</th>\n",
       "      <th>TG</th>\n",
       "      <th>HDL</th>\n",
       "      <th>LDL</th>\n",
       "      <th>VLDL</th>\n",
       "      <th>BMI</th>\n",
       "      <th>CLASS</th>\n",
       "    </tr>\n",
       "  </thead>\n",
       "  <tbody>\n",
       "    <tr>\n",
       "      <th>962</th>\n",
       "      <td>155</td>\n",
       "      <td>45376</td>\n",
       "      <td>F</td>\n",
       "      <td>35.0</td>\n",
       "      <td>5.0</td>\n",
       "      <td>79.0</td>\n",
       "      <td>7.3</td>\n",
       "      <td>NaN</td>\n",
       "      <td>2.0</td>\n",
       "      <td>1.4</td>\n",
       "      <td>0.9</td>\n",
       "      <td>1.3</td>\n",
       "      <td>27.0</td>\n",
       "      <td>Y</td>\n",
       "    </tr>\n",
       "    <tr>\n",
       "      <th>983</th>\n",
       "      <td>185</td>\n",
       "      <td>454316</td>\n",
       "      <td>M</td>\n",
       "      <td>64.0</td>\n",
       "      <td>8.8</td>\n",
       "      <td>106.0</td>\n",
       "      <td>8.5</td>\n",
       "      <td>NaN</td>\n",
       "      <td>2.1</td>\n",
       "      <td>1.2</td>\n",
       "      <td>4.0</td>\n",
       "      <td>1.2</td>\n",
       "      <td>32.0</td>\n",
       "      <td>Y</td>\n",
       "    </tr>\n",
       "  </tbody>\n",
       "</table>\n",
       "</div>"
      ],
      "text/plain": [
       "      ID  Patients_No. Gender   Age  Urea     Cr  HbA1c  Chol   TG  HDL  LDL  \\\n",
       "962  155         45376      F  35.0   5.0   79.0    7.3   NaN  2.0  1.4  0.9   \n",
       "983  185        454316      M  64.0   8.8  106.0    8.5   NaN  2.1  1.2  4.0   \n",
       "\n",
       "     VLDL   BMI CLASS  \n",
       "962   1.3  27.0     Y  \n",
       "983   1.2  32.0     Y  "
      ]
     },
     "execution_count": 113,
     "metadata": {},
     "output_type": "execute_result"
    }
   ],
   "source": [
    "df[df['Chol'].isnull()]"
   ]
  },
  {
   "cell_type": "code",
   "execution_count": 115,
   "id": "8deab920",
   "metadata": {},
   "outputs": [],
   "source": [
    "mean_value_chol=df['Chol'].mean()"
   ]
  },
  {
   "cell_type": "code",
   "execution_count": 116,
   "id": "241af869",
   "metadata": {},
   "outputs": [],
   "source": [
    "df['Chol'].fillna(mean_value_chol,inplace=True)"
   ]
  },
  {
   "cell_type": "code",
   "execution_count": 117,
   "id": "0b2062f7",
   "metadata": {},
   "outputs": [
    {
     "data": {
      "text/plain": [
       "ID              0\n",
       "Patients_No.    0\n",
       "Gender          0\n",
       "Age             1\n",
       "Urea            1\n",
       "Cr              2\n",
       "HbA1c           0\n",
       "Chol            0\n",
       "TG              2\n",
       "HDL             1\n",
       "LDL             2\n",
       "VLDL            1\n",
       "BMI             0\n",
       "CLASS           0\n",
       "dtype: int64"
      ]
     },
     "execution_count": 117,
     "metadata": {},
     "output_type": "execute_result"
    }
   ],
   "source": [
    "df.isnull().sum()"
   ]
  },
  {
   "cell_type": "code",
   "execution_count": 118,
   "id": "69ad005c",
   "metadata": {},
   "outputs": [
    {
     "data": {
      "text/html": [
       "<div>\n",
       "<style scoped>\n",
       "    .dataframe tbody tr th:only-of-type {\n",
       "        vertical-align: middle;\n",
       "    }\n",
       "\n",
       "    .dataframe tbody tr th {\n",
       "        vertical-align: top;\n",
       "    }\n",
       "\n",
       "    .dataframe thead th {\n",
       "        text-align: right;\n",
       "    }\n",
       "</style>\n",
       "<table border=\"1\" class=\"dataframe\">\n",
       "  <thead>\n",
       "    <tr style=\"text-align: right;\">\n",
       "      <th></th>\n",
       "      <th>ID</th>\n",
       "      <th>Patients_No.</th>\n",
       "      <th>Gender</th>\n",
       "      <th>Age</th>\n",
       "      <th>Urea</th>\n",
       "      <th>Cr</th>\n",
       "      <th>HbA1c</th>\n",
       "      <th>Chol</th>\n",
       "      <th>TG</th>\n",
       "      <th>HDL</th>\n",
       "      <th>LDL</th>\n",
       "      <th>VLDL</th>\n",
       "      <th>BMI</th>\n",
       "      <th>CLASS</th>\n",
       "    </tr>\n",
       "  </thead>\n",
       "  <tbody>\n",
       "    <tr>\n",
       "      <th>1004</th>\n",
       "      <td>191</td>\n",
       "      <td>454316</td>\n",
       "      <td>M</td>\n",
       "      <td>55.0</td>\n",
       "      <td>NaN</td>\n",
       "      <td>62.0</td>\n",
       "      <td>6.8</td>\n",
       "      <td>5.3</td>\n",
       "      <td>2.0</td>\n",
       "      <td>1.0</td>\n",
       "      <td>3.5</td>\n",
       "      <td>0.9</td>\n",
       "      <td>30.1</td>\n",
       "      <td>Y</td>\n",
       "    </tr>\n",
       "  </tbody>\n",
       "</table>\n",
       "</div>"
      ],
      "text/plain": [
       "       ID  Patients_No. Gender   Age  Urea    Cr  HbA1c  Chol   TG  HDL  LDL  \\\n",
       "1004  191        454316      M  55.0   NaN  62.0    6.8   5.3  2.0  1.0  3.5   \n",
       "\n",
       "      VLDL   BMI CLASS  \n",
       "1004   0.9  30.1    Y   "
      ]
     },
     "execution_count": 118,
     "metadata": {},
     "output_type": "execute_result"
    }
   ],
   "source": [
    "df[df['Urea'].isnull()]"
   ]
  },
  {
   "cell_type": "code",
   "execution_count": 119,
   "id": "0d4ed274",
   "metadata": {},
   "outputs": [
    {
     "data": {
      "text/plain": [
       "0       4.7\n",
       "1       4.5\n",
       "2       4.7\n",
       "3       4.7\n",
       "4       7.1\n",
       "       ... \n",
       "1004    NaN\n",
       "1005    4.8\n",
       "1006    6.3\n",
       "1007    4.1\n",
       "1008    4.1\n",
       "Name: Urea, Length: 1009, dtype: float64"
      ]
     },
     "execution_count": 119,
     "metadata": {},
     "output_type": "execute_result"
    }
   ],
   "source": [
    "df['Urea']"
   ]
  },
  {
   "cell_type": "code",
   "execution_count": 120,
   "id": "781d63df",
   "metadata": {},
   "outputs": [],
   "source": [
    "mean_value_urea=df['Urea'].mean()\n",
    "df['Urea'].fillna(mean_value_urea,inplace=True)"
   ]
  },
  {
   "cell_type": "code",
   "execution_count": 122,
   "id": "6c58535b",
   "metadata": {},
   "outputs": [],
   "source": [
    "mean_value_cr=df['Cr'].mean()\n",
    "df['Cr'].fillna(mean_value_cr,inplace=True)"
   ]
  },
  {
   "cell_type": "code",
   "execution_count": 125,
   "id": "fcb20d96",
   "metadata": {},
   "outputs": [],
   "source": [
    "mean_value_tg=df['TG'].mean()\n",
    "df['TG'].fillna(mean_value_tg,inplace=True)"
   ]
  },
  {
   "cell_type": "code",
   "execution_count": 127,
   "id": "80f431e3",
   "metadata": {},
   "outputs": [
    {
     "data": {
      "text/plain": [
       "ID              0\n",
       "Patients_No.    0\n",
       "Gender          0\n",
       "Age             1\n",
       "Urea            0\n",
       "Cr              0\n",
       "HbA1c           0\n",
       "Chol            0\n",
       "TG              0\n",
       "HDL             1\n",
       "LDL             2\n",
       "VLDL            1\n",
       "BMI             0\n",
       "CLASS           0\n",
       "dtype: int64"
      ]
     },
     "execution_count": 127,
     "metadata": {},
     "output_type": "execute_result"
    }
   ],
   "source": [
    "df.isnull().sum()"
   ]
  },
  {
   "cell_type": "code",
   "execution_count": 128,
   "id": "4c62e4e6",
   "metadata": {},
   "outputs": [
    {
     "data": {
      "text/plain": [
       "0       2.4\n",
       "1       1.1\n",
       "2       2.4\n",
       "3       2.4\n",
       "4       0.8\n",
       "       ... \n",
       "1004    1.0\n",
       "1005    0.9\n",
       "1006    1.0\n",
       "1007    1.0\n",
       "1008    1.6\n",
       "Name: HDL, Length: 1009, dtype: float64"
      ]
     },
     "execution_count": 128,
     "metadata": {},
     "output_type": "execute_result"
    }
   ],
   "source": [
    "df['HDL']"
   ]
  },
  {
   "cell_type": "code",
   "execution_count": 129,
   "id": "ce84d013",
   "metadata": {},
   "outputs": [],
   "source": [
    "mean_value_hdl=df['HDL'].mean()\n",
    "df['HDL'].fillna(mean_value_hdl,inplace=True)"
   ]
  },
  {
   "cell_type": "code",
   "execution_count": 130,
   "id": "a4d05bb4",
   "metadata": {},
   "outputs": [
    {
     "data": {
      "text/plain": [
       "0       1.4\n",
       "1       2.1\n",
       "2       1.4\n",
       "3       1.4\n",
       "4       2.0\n",
       "       ... \n",
       "1004    3.5\n",
       "1005    3.3\n",
       "1006    3.5\n",
       "1007    1.4\n",
       "1008    3.1\n",
       "Name: LDL, Length: 1009, dtype: float64"
      ]
     },
     "execution_count": 130,
     "metadata": {},
     "output_type": "execute_result"
    }
   ],
   "source": [
    "df['LDL']"
   ]
  },
  {
   "cell_type": "code",
   "execution_count": 131,
   "id": "d28d3845",
   "metadata": {},
   "outputs": [],
   "source": [
    "mean_value_ldl=df['LDL'].mean()\n",
    "df['LDL'].fillna(mean_value_ldl,inplace=True)"
   ]
  },
  {
   "cell_type": "code",
   "execution_count": 132,
   "id": "2b23a027",
   "metadata": {},
   "outputs": [
    {
     "data": {
      "text/plain": [
       "0       0.5\n",
       "1       0.6\n",
       "2       0.5\n",
       "3       0.5\n",
       "4       0.4\n",
       "       ... \n",
       "1004    0.9\n",
       "1005    1.8\n",
       "1006    NaN\n",
       "1007    1.3\n",
       "1008    0.7\n",
       "Name: VLDL, Length: 1009, dtype: float64"
      ]
     },
     "execution_count": 132,
     "metadata": {},
     "output_type": "execute_result"
    }
   ],
   "source": [
    "df['VLDL']"
   ]
  },
  {
   "cell_type": "code",
   "execution_count": 133,
   "id": "a1758ada",
   "metadata": {},
   "outputs": [],
   "source": [
    "mean_value_vldl=df['VLDL'].mean()\n",
    "df['VLDL'].fillna(mean_value_vldl,inplace=True)"
   ]
  },
  {
   "cell_type": "code",
   "execution_count": 134,
   "id": "8d5e7034",
   "metadata": {},
   "outputs": [
    {
     "data": {
      "text/plain": [
       "ID              0\n",
       "Patients_No.    0\n",
       "Gender          0\n",
       "Age             1\n",
       "Urea            0\n",
       "Cr              0\n",
       "HbA1c           0\n",
       "Chol            0\n",
       "TG              0\n",
       "HDL             0\n",
       "LDL             0\n",
       "VLDL            0\n",
       "BMI             0\n",
       "CLASS           0\n",
       "dtype: int64"
      ]
     },
     "execution_count": 134,
     "metadata": {},
     "output_type": "execute_result"
    }
   ],
   "source": [
    "df.isnull().sum()"
   ]
  },
  {
   "cell_type": "code",
   "execution_count": 137,
   "id": "19cc0133",
   "metadata": {},
   "outputs": [
    {
     "data": {
      "text/html": [
       "<div>\n",
       "<style scoped>\n",
       "    .dataframe tbody tr th:only-of-type {\n",
       "        vertical-align: middle;\n",
       "    }\n",
       "\n",
       "    .dataframe tbody tr th {\n",
       "        vertical-align: top;\n",
       "    }\n",
       "\n",
       "    .dataframe thead th {\n",
       "        text-align: right;\n",
       "    }\n",
       "</style>\n",
       "<table border=\"1\" class=\"dataframe\">\n",
       "  <thead>\n",
       "    <tr style=\"text-align: right;\">\n",
       "      <th></th>\n",
       "      <th>ID</th>\n",
       "      <th>Patients_No.</th>\n",
       "      <th>Gender</th>\n",
       "      <th>Age</th>\n",
       "      <th>Urea</th>\n",
       "      <th>Cr</th>\n",
       "      <th>HbA1c</th>\n",
       "      <th>Chol</th>\n",
       "      <th>TG</th>\n",
       "      <th>HDL</th>\n",
       "      <th>LDL</th>\n",
       "      <th>VLDL</th>\n",
       "      <th>BMI</th>\n",
       "      <th>CLASS</th>\n",
       "    </tr>\n",
       "  </thead>\n",
       "  <tbody>\n",
       "    <tr>\n",
       "      <th>979</th>\n",
       "      <td>177</td>\n",
       "      <td>45364</td>\n",
       "      <td>F</td>\n",
       "      <td>NaN</td>\n",
       "      <td>4.6</td>\n",
       "      <td>70.0</td>\n",
       "      <td>9.6</td>\n",
       "      <td>4.1</td>\n",
       "      <td>1.8</td>\n",
       "      <td>1.0</td>\n",
       "      <td>2.3</td>\n",
       "      <td>0.8</td>\n",
       "      <td>30.0</td>\n",
       "      <td>Y</td>\n",
       "    </tr>\n",
       "  </tbody>\n",
       "</table>\n",
       "</div>"
      ],
      "text/plain": [
       "      ID  Patients_No. Gender  Age  Urea    Cr  HbA1c  Chol   TG  HDL  LDL  \\\n",
       "979  177         45364      F  NaN   4.6  70.0    9.6   4.1  1.8  1.0  2.3   \n",
       "\n",
       "     VLDL   BMI CLASS  \n",
       "979   0.8  30.0     Y  "
      ]
     },
     "execution_count": 137,
     "metadata": {},
     "output_type": "execute_result"
    }
   ],
   "source": [
    "df[df['Age'].isnull()]"
   ]
  },
  {
   "cell_type": "code",
   "execution_count": 142,
   "id": "175f159d",
   "metadata": {},
   "outputs": [],
   "source": [
    "df=df[-(df['Age'].isnull())]"
   ]
  },
  {
   "cell_type": "code",
   "execution_count": 143,
   "id": "d7789a25",
   "metadata": {},
   "outputs": [
    {
     "data": {
      "text/plain": [
       "(1008, 14)"
      ]
     },
     "execution_count": 143,
     "metadata": {},
     "output_type": "execute_result"
    }
   ],
   "source": [
    "df.shape"
   ]
  },
  {
   "cell_type": "code",
   "execution_count": 144,
   "id": "ad437a43",
   "metadata": {},
   "outputs": [
    {
     "data": {
      "text/plain": [
       "ID              0\n",
       "Patients_No.    0\n",
       "Gender          0\n",
       "Age             0\n",
       "Urea            0\n",
       "Cr              0\n",
       "HbA1c           0\n",
       "Chol            0\n",
       "TG              0\n",
       "HDL             0\n",
       "LDL             0\n",
       "VLDL            0\n",
       "BMI             0\n",
       "CLASS           0\n",
       "dtype: int64"
      ]
     },
     "execution_count": 144,
     "metadata": {},
     "output_type": "execute_result"
    }
   ],
   "source": [
    "df.isnull().sum()"
   ]
  },
  {
   "cell_type": "code",
   "execution_count": 150,
   "id": "1a01464c",
   "metadata": {},
   "outputs": [
    {
     "data": {
      "text/plain": [
       "dtype('float64')"
      ]
     },
     "execution_count": 150,
     "metadata": {},
     "output_type": "execute_result"
    }
   ],
   "source": [
    "df['Age'].dtype"
   ]
  },
  {
   "cell_type": "code",
   "execution_count": 151,
   "id": "1625a8cd",
   "metadata": {},
   "outputs": [
    {
     "name": "stderr",
     "output_type": "stream",
     "text": [
      "C:\\Users\\admin\\AppData\\Local\\Temp\\ipykernel_10528\\3445387578.py:1: SettingWithCopyWarning: \n",
      "A value is trying to be set on a copy of a slice from a DataFrame.\n",
      "Try using .loc[row_indexer,col_indexer] = value instead\n",
      "\n",
      "See the caveats in the documentation: https://pandas.pydata.org/pandas-docs/stable/user_guide/indexing.html#returning-a-view-versus-a-copy\n",
      "  df['Age']=df['Age'].astype(int)\n"
     ]
    }
   ],
   "source": [
    "df['Age']=df['Age'].astype(int)"
   ]
  },
  {
   "cell_type": "code",
   "execution_count": 152,
   "id": "72f3eacc",
   "metadata": {},
   "outputs": [
    {
     "data": {
      "text/plain": [
       "0       50\n",
       "1       26\n",
       "2       50\n",
       "3       50\n",
       "4       33\n",
       "        ..\n",
       "1004    55\n",
       "1005    55\n",
       "1006    62\n",
       "1007    57\n",
       "1008    55\n",
       "Name: Age, Length: 1008, dtype: int32"
      ]
     },
     "execution_count": 152,
     "metadata": {},
     "output_type": "execute_result"
    }
   ],
   "source": [
    "df['Age']"
   ]
  },
  {
   "cell_type": "code",
   "execution_count": 157,
   "id": "65dde21d",
   "metadata": {},
   "outputs": [
    {
     "data": {
      "text/html": [
       "<div>\n",
       "<style scoped>\n",
       "    .dataframe tbody tr th:only-of-type {\n",
       "        vertical-align: middle;\n",
       "    }\n",
       "\n",
       "    .dataframe tbody tr th {\n",
       "        vertical-align: top;\n",
       "    }\n",
       "\n",
       "    .dataframe thead th {\n",
       "        text-align: right;\n",
       "    }\n",
       "</style>\n",
       "<table border=\"1\" class=\"dataframe\">\n",
       "  <thead>\n",
       "    <tr style=\"text-align: right;\">\n",
       "      <th></th>\n",
       "      <th>ID</th>\n",
       "      <th>Patients_No.</th>\n",
       "      <th>Gender</th>\n",
       "      <th>Age</th>\n",
       "      <th>Urea</th>\n",
       "      <th>Cr</th>\n",
       "      <th>HbA1c</th>\n",
       "      <th>Chol</th>\n",
       "      <th>TG</th>\n",
       "      <th>HDL</th>\n",
       "      <th>LDL</th>\n",
       "      <th>VLDL</th>\n",
       "      <th>BMI</th>\n",
       "      <th>CLASS</th>\n",
       "    </tr>\n",
       "  </thead>\n",
       "  <tbody>\n",
       "    <tr>\n",
       "      <th>0</th>\n",
       "      <td>502</td>\n",
       "      <td>17975</td>\n",
       "      <td>F</td>\n",
       "      <td>50</td>\n",
       "      <td>4.700000</td>\n",
       "      <td>46.0</td>\n",
       "      <td>4.900000</td>\n",
       "      <td>4.2</td>\n",
       "      <td>0.9</td>\n",
       "      <td>2.4</td>\n",
       "      <td>1.4</td>\n",
       "      <td>0.500000</td>\n",
       "      <td>24.0</td>\n",
       "      <td>N</td>\n",
       "    </tr>\n",
       "    <tr>\n",
       "      <th>1</th>\n",
       "      <td>735</td>\n",
       "      <td>34221</td>\n",
       "      <td>M</td>\n",
       "      <td>26</td>\n",
       "      <td>4.500000</td>\n",
       "      <td>62.0</td>\n",
       "      <td>4.900000</td>\n",
       "      <td>3.7</td>\n",
       "      <td>1.4</td>\n",
       "      <td>1.1</td>\n",
       "      <td>2.1</td>\n",
       "      <td>0.600000</td>\n",
       "      <td>23.0</td>\n",
       "      <td>N</td>\n",
       "    </tr>\n",
       "    <tr>\n",
       "      <th>2</th>\n",
       "      <td>420</td>\n",
       "      <td>47975</td>\n",
       "      <td>F</td>\n",
       "      <td>50</td>\n",
       "      <td>4.700000</td>\n",
       "      <td>46.0</td>\n",
       "      <td>4.900000</td>\n",
       "      <td>4.2</td>\n",
       "      <td>0.9</td>\n",
       "      <td>2.4</td>\n",
       "      <td>1.4</td>\n",
       "      <td>0.500000</td>\n",
       "      <td>24.0</td>\n",
       "      <td>N</td>\n",
       "    </tr>\n",
       "    <tr>\n",
       "      <th>3</th>\n",
       "      <td>680</td>\n",
       "      <td>87656</td>\n",
       "      <td>F</td>\n",
       "      <td>50</td>\n",
       "      <td>4.700000</td>\n",
       "      <td>46.0</td>\n",
       "      <td>4.900000</td>\n",
       "      <td>4.2</td>\n",
       "      <td>0.9</td>\n",
       "      <td>2.4</td>\n",
       "      <td>1.4</td>\n",
       "      <td>0.500000</td>\n",
       "      <td>24.0</td>\n",
       "      <td>N</td>\n",
       "    </tr>\n",
       "    <tr>\n",
       "      <th>4</th>\n",
       "      <td>504</td>\n",
       "      <td>34223</td>\n",
       "      <td>M</td>\n",
       "      <td>33</td>\n",
       "      <td>7.100000</td>\n",
       "      <td>46.0</td>\n",
       "      <td>4.900000</td>\n",
       "      <td>4.9</td>\n",
       "      <td>1.0</td>\n",
       "      <td>0.8</td>\n",
       "      <td>2.0</td>\n",
       "      <td>0.400000</td>\n",
       "      <td>21.0</td>\n",
       "      <td>N</td>\n",
       "    </tr>\n",
       "    <tr>\n",
       "      <th>...</th>\n",
       "      <td>...</td>\n",
       "      <td>...</td>\n",
       "      <td>...</td>\n",
       "      <td>...</td>\n",
       "      <td>...</td>\n",
       "      <td>...</td>\n",
       "      <td>...</td>\n",
       "      <td>...</td>\n",
       "      <td>...</td>\n",
       "      <td>...</td>\n",
       "      <td>...</td>\n",
       "      <td>...</td>\n",
       "      <td>...</td>\n",
       "      <td>...</td>\n",
       "    </tr>\n",
       "    <tr>\n",
       "      <th>1004</th>\n",
       "      <td>191</td>\n",
       "      <td>454316</td>\n",
       "      <td>M</td>\n",
       "      <td>55</td>\n",
       "      <td>5.131094</td>\n",
       "      <td>62.0</td>\n",
       "      <td>6.800000</td>\n",
       "      <td>5.3</td>\n",
       "      <td>2.0</td>\n",
       "      <td>1.0</td>\n",
       "      <td>3.5</td>\n",
       "      <td>0.900000</td>\n",
       "      <td>30.1</td>\n",
       "      <td>Y</td>\n",
       "    </tr>\n",
       "    <tr>\n",
       "      <th>1005</th>\n",
       "      <td>192</td>\n",
       "      <td>454316</td>\n",
       "      <td>M</td>\n",
       "      <td>55</td>\n",
       "      <td>4.800000</td>\n",
       "      <td>88.0</td>\n",
       "      <td>8.284155</td>\n",
       "      <td>5.7</td>\n",
       "      <td>4.0</td>\n",
       "      <td>0.9</td>\n",
       "      <td>3.3</td>\n",
       "      <td>1.800000</td>\n",
       "      <td>30.0</td>\n",
       "      <td>Y</td>\n",
       "    </tr>\n",
       "    <tr>\n",
       "      <th>1006</th>\n",
       "      <td>193</td>\n",
       "      <td>454316</td>\n",
       "      <td>M</td>\n",
       "      <td>62</td>\n",
       "      <td>6.300000</td>\n",
       "      <td>82.0</td>\n",
       "      <td>6.700000</td>\n",
       "      <td>5.3</td>\n",
       "      <td>2.0</td>\n",
       "      <td>1.0</td>\n",
       "      <td>3.5</td>\n",
       "      <td>1.850595</td>\n",
       "      <td>30.1</td>\n",
       "      <td>Y</td>\n",
       "    </tr>\n",
       "    <tr>\n",
       "      <th>1007</th>\n",
       "      <td>194</td>\n",
       "      <td>454316</td>\n",
       "      <td>F</td>\n",
       "      <td>57</td>\n",
       "      <td>4.100000</td>\n",
       "      <td>70.0</td>\n",
       "      <td>9.300000</td>\n",
       "      <td>5.3</td>\n",
       "      <td>3.3</td>\n",
       "      <td>1.0</td>\n",
       "      <td>1.4</td>\n",
       "      <td>1.300000</td>\n",
       "      <td>29.0</td>\n",
       "      <td>Y</td>\n",
       "    </tr>\n",
       "    <tr>\n",
       "      <th>1008</th>\n",
       "      <td>195</td>\n",
       "      <td>4543</td>\n",
       "      <td>f</td>\n",
       "      <td>55</td>\n",
       "      <td>4.100000</td>\n",
       "      <td>34.0</td>\n",
       "      <td>13.900000</td>\n",
       "      <td>5.4</td>\n",
       "      <td>1.6</td>\n",
       "      <td>1.6</td>\n",
       "      <td>3.1</td>\n",
       "      <td>0.700000</td>\n",
       "      <td>33.0</td>\n",
       "      <td>Y</td>\n",
       "    </tr>\n",
       "  </tbody>\n",
       "</table>\n",
       "<p>1008 rows × 14 columns</p>\n",
       "</div>"
      ],
      "text/plain": [
       "       ID  Patients_No. Gender  Age      Urea    Cr      HbA1c  Chol   TG  \\\n",
       "0     502         17975      F   50  4.700000  46.0   4.900000   4.2  0.9   \n",
       "1     735         34221      M   26  4.500000  62.0   4.900000   3.7  1.4   \n",
       "2     420         47975      F   50  4.700000  46.0   4.900000   4.2  0.9   \n",
       "3     680         87656      F   50  4.700000  46.0   4.900000   4.2  0.9   \n",
       "4     504         34223      M   33  7.100000  46.0   4.900000   4.9  1.0   \n",
       "...   ...           ...    ...  ...       ...   ...        ...   ...  ...   \n",
       "1004  191        454316      M   55  5.131094  62.0   6.800000   5.3  2.0   \n",
       "1005  192        454316      M   55  4.800000  88.0   8.284155   5.7  4.0   \n",
       "1006  193        454316      M   62  6.300000  82.0   6.700000   5.3  2.0   \n",
       "1007  194        454316      F   57  4.100000  70.0   9.300000   5.3  3.3   \n",
       "1008  195          4543      f   55  4.100000  34.0  13.900000   5.4  1.6   \n",
       "\n",
       "      HDL  LDL      VLDL   BMI CLASS  \n",
       "0     2.4  1.4  0.500000  24.0     N  \n",
       "1     1.1  2.1  0.600000  23.0     N  \n",
       "2     2.4  1.4  0.500000  24.0     N  \n",
       "3     2.4  1.4  0.500000  24.0     N  \n",
       "4     0.8  2.0  0.400000  21.0     N  \n",
       "...   ...  ...       ...   ...   ...  \n",
       "1004  1.0  3.5  0.900000  30.1    Y   \n",
       "1005  0.9  3.3  1.800000  30.0    Y   \n",
       "1006  1.0  3.5  1.850595  30.1    Y   \n",
       "1007  1.0  1.4  1.300000  29.0    Y   \n",
       "1008  1.6  3.1  0.700000  33.0    Y   \n",
       "\n",
       "[1008 rows x 14 columns]"
      ]
     },
     "execution_count": 157,
     "metadata": {},
     "output_type": "execute_result"
    }
   ],
   "source": [
    "df"
   ]
  },
  {
   "cell_type": "code",
   "execution_count": 162,
   "id": "d29ca4bc",
   "metadata": {},
   "outputs": [
    {
     "data": {
      "text/plain": [
       "M    570\n",
       "F    436\n",
       "f      2\n",
       "Name: Gender, dtype: int64"
      ]
     },
     "execution_count": 162,
     "metadata": {},
     "output_type": "execute_result"
    }
   ],
   "source": [
    "df['Gender'].value_counts()"
   ]
  },
  {
   "cell_type": "code",
   "execution_count": 165,
   "id": "bcfe09c1",
   "metadata": {},
   "outputs": [
    {
     "name": "stderr",
     "output_type": "stream",
     "text": [
      "C:\\Users\\admin\\AppData\\Local\\Temp\\ipykernel_10528\\1669107137.py:1: SettingWithCopyWarning: \n",
      "A value is trying to be set on a copy of a slice from a DataFrame\n",
      "\n",
      "See the caveats in the documentation: https://pandas.pydata.org/pandas-docs/stable/user_guide/indexing.html#returning-a-view-versus-a-copy\n",
      "  df.replace({'f':'F'},inplace=True)\n"
     ]
    }
   ],
   "source": [
    "df.replace({'f':'F'},inplace=True)"
   ]
  },
  {
   "cell_type": "code",
   "execution_count": 166,
   "id": "d678d46f",
   "metadata": {},
   "outputs": [
    {
     "data": {
      "text/plain": [
       "M    570\n",
       "F    438\n",
       "Name: Gender, dtype: int64"
      ]
     },
     "execution_count": 166,
     "metadata": {},
     "output_type": "execute_result"
    }
   ],
   "source": [
    "df['Gender'].value_counts()"
   ]
  },
  {
   "cell_type": "code",
   "execution_count": 167,
   "id": "5185ca11",
   "metadata": {},
   "outputs": [
    {
     "data": {
      "text/plain": [
       "<AxesSubplot:xlabel='Gender', ylabel='count'>"
      ]
     },
     "execution_count": 167,
     "metadata": {},
     "output_type": "execute_result"
    },
    {
     "data": {
      "image/png": "[encoded data removed]",
      "text/plain": [
       "<Figure size 640x480 with 1 Axes>"
      ]
     },
     "metadata": {},
     "output_type": "display_data"
    }
   ],
   "source": [
    "sns.countplot(data=df,x='Gender')"
   ]
  },
  {
   "cell_type": "code",
   "execution_count": 173,
   "id": "f381279e",
   "metadata": {},
   "outputs": [
    {
     "data": {
      "text/plain": [
       "<AxesSubplot:xlabel='Gender', ylabel='Urea'>"
      ]
     },
     "execution_count": 173,
     "metadata": {},
     "output_type": "execute_result"
    },
    {
     "data": {
      "image/png": "[encoded data removed]",
      "text/plain": [
       "<Figure size 640x480 with 1 Axes>"
      ]
     },
     "metadata": {},
     "output_type": "display_data"
    }
   ],
   "source": [
    "sns.barplot(data=df,x='Gender',y='Urea',label=label)"
   ]
  },
  {
   "cell_type": "code",
   "execution_count": 175,
   "id": "fcfb8951",
   "metadata": {},
   "outputs": [
    {
     "data": {
      "text/plain": [
       "Index(['ID', 'Patients_No.', 'Gender', 'Age', 'Urea', 'Cr', 'HbA1c', 'Chol',\n",
       "       'TG', 'HDL', 'LDL', 'VLDL', 'BMI', 'CLASS'],\n",
       "      dtype='object')"
      ]
     },
     "execution_count": 175,
     "metadata": {},
     "output_type": "execute_result"
    }
   ],
   "source": [
    "df.columns"
   ]
  },
  {
   "cell_type": "code",
   "execution_count": 177,
   "id": "9afcace2",
   "metadata": {},
   "outputs": [
    {
     "data": {
      "text/plain": [
       "Y     839\n",
       "N     102\n",
       "P      53\n",
       "Y      13\n",
       "N       1\n",
       "Name: CLASS, dtype: int64"
      ]
     },
     "execution_count": 177,
     "metadata": {},
     "output_type": "execute_result"
    }
   ],
   "source": [
    "df['CLASS'].value_counts()"
   ]
  },
  {
   "cell_type": "code",
   "execution_count": 180,
   "id": "aeccf530",
   "metadata": {},
   "outputs": [
    {
     "data": {
      "text/plain": [
       "array(['N', 'N ', 'P', 'Y', 'Y '], dtype=object)"
      ]
     },
     "execution_count": 180,
     "metadata": {},
     "output_type": "execute_result"
    }
   ],
   "source": [
    "df['CLASS'].unique()"
   ]
  },
  {
   "cell_type": "code",
   "execution_count": 182,
   "id": "a8de9f03",
   "metadata": {},
   "outputs": [
    {
     "name": "stderr",
     "output_type": "stream",
     "text": [
      "C:\\Users\\admin\\AppData\\Local\\Temp\\ipykernel_10528\\118747857.py:1: SettingWithCopyWarning: \n",
      "A value is trying to be set on a copy of a slice from a DataFrame.\n",
      "Try using .loc[row_indexer,col_indexer] = value instead\n",
      "\n",
      "See the caveats in the documentation: https://pandas.pydata.org/pandas-docs/stable/user_guide/indexing.html#returning-a-view-versus-a-copy\n",
      "  df['CLASS']=df['CLASS'].replace({'N ':'N'})\n"
     ]
    }
   ],
   "source": [
    "df['CLASS']=df['CLASS'].replace({'N ':'N'})"
   ]
  },
  {
   "cell_type": "code",
   "execution_count": 183,
   "id": "8d728a70",
   "metadata": {},
   "outputs": [
    {
     "name": "stderr",
     "output_type": "stream",
     "text": [
      "C:\\Users\\admin\\AppData\\Local\\Temp\\ipykernel_10528\\2219232345.py:1: SettingWithCopyWarning: \n",
      "A value is trying to be set on a copy of a slice from a DataFrame.\n",
      "Try using .loc[row_indexer,col_indexer] = value instead\n",
      "\n",
      "See the caveats in the documentation: https://pandas.pydata.org/pandas-docs/stable/user_guide/indexing.html#returning-a-view-versus-a-copy\n",
      "  df['CLASS']=df['CLASS'].replace({'Y ':'Y'})\n"
     ]
    }
   ],
   "source": [
    "df['CLASS']=df['CLASS'].replace({'Y ':'Y'})"
   ]
  },
  {
   "cell_type": "code",
   "execution_count": 184,
   "id": "e4c3ec38",
   "metadata": {},
   "outputs": [
    {
     "data": {
      "text/plain": [
       "array(['N', 'P', 'Y'], dtype=object)"
      ]
     },
     "execution_count": 184,
     "metadata": {},
     "output_type": "execute_result"
    }
   ],
   "source": [
    "df['CLASS'].unique()"
   ]
  },
  {
   "cell_type": "code",
   "execution_count": 188,
   "id": "054df2c0",
   "metadata": {},
   "outputs": [
    {
     "data": {
      "text/plain": [
       "Y    852\n",
       "N    103\n",
       "P     53\n",
       "Name: CLASS, dtype: int64"
      ]
     },
     "execution_count": 188,
     "metadata": {},
     "output_type": "execute_result"
    }
   ],
   "source": [
    "df['CLASS'].value_counts()"
   ]
  },
  {
   "cell_type": "code",
   "execution_count": 185,
   "id": "f0c0813c",
   "metadata": {},
   "outputs": [
    {
     "data": {
      "text/plain": [
       "<AxesSubplot:xlabel='CLASS', ylabel='count'>"
      ]
     },
     "execution_count": 185,
     "metadata": {},
     "output_type": "execute_result"
    },
    {
     "data": {
      "image/png": "[encoded data removed]",
      "text/plain": [
       "<Figure size 640x480 with 1 Axes>"
      ]
     },
     "metadata": {},
     "output_type": "display_data"
    }
   ],
   "source": [
    "sns.countplot(data=df,x='CLASS')"
   ]
  },
  {
   "cell_type": "code",
   "execution_count": 190,
   "id": "d3af725d",
   "metadata": {},
   "outputs": [
    {
     "data": {
      "text/html": [
       "<div>\n",
       "<style scoped>\n",
       "    .dataframe tbody tr th:only-of-type {\n",
       "        vertical-align: middle;\n",
       "    }\n",
       "\n",
       "    .dataframe tbody tr th {\n",
       "        vertical-align: top;\n",
       "    }\n",
       "\n",
       "    .dataframe thead th {\n",
       "        text-align: right;\n",
       "    }\n",
       "</style>\n",
       "<table border=\"1\" class=\"dataframe\">\n",
       "  <thead>\n",
       "    <tr style=\"text-align: right;\">\n",
       "      <th></th>\n",
       "      <th>ID</th>\n",
       "      <th>Patients_No.</th>\n",
       "      <th>Gender</th>\n",
       "      <th>Age</th>\n",
       "      <th>Urea</th>\n",
       "      <th>Cr</th>\n",
       "      <th>HbA1c</th>\n",
       "      <th>Chol</th>\n",
       "      <th>TG</th>\n",
       "      <th>HDL</th>\n",
       "      <th>LDL</th>\n",
       "      <th>VLDL</th>\n",
       "      <th>BMI</th>\n",
       "      <th>CLASS</th>\n",
       "    </tr>\n",
       "  </thead>\n",
       "  <tbody>\n",
       "    <tr>\n",
       "      <th>0</th>\n",
       "      <td>502</td>\n",
       "      <td>17975</td>\n",
       "      <td>F</td>\n",
       "      <td>50</td>\n",
       "      <td>4.700000</td>\n",
       "      <td>46.0</td>\n",
       "      <td>4.900000</td>\n",
       "      <td>4.2</td>\n",
       "      <td>0.9</td>\n",
       "      <td>2.4</td>\n",
       "      <td>1.4</td>\n",
       "      <td>0.500000</td>\n",
       "      <td>24.0</td>\n",
       "      <td>N</td>\n",
       "    </tr>\n",
       "    <tr>\n",
       "      <th>1</th>\n",
       "      <td>735</td>\n",
       "      <td>34221</td>\n",
       "      <td>M</td>\n",
       "      <td>26</td>\n",
       "      <td>4.500000</td>\n",
       "      <td>62.0</td>\n",
       "      <td>4.900000</td>\n",
       "      <td>3.7</td>\n",
       "      <td>1.4</td>\n",
       "      <td>1.1</td>\n",
       "      <td>2.1</td>\n",
       "      <td>0.600000</td>\n",
       "      <td>23.0</td>\n",
       "      <td>N</td>\n",
       "    </tr>\n",
       "    <tr>\n",
       "      <th>2</th>\n",
       "      <td>420</td>\n",
       "      <td>47975</td>\n",
       "      <td>F</td>\n",
       "      <td>50</td>\n",
       "      <td>4.700000</td>\n",
       "      <td>46.0</td>\n",
       "      <td>4.900000</td>\n",
       "      <td>4.2</td>\n",
       "      <td>0.9</td>\n",
       "      <td>2.4</td>\n",
       "      <td>1.4</td>\n",
       "      <td>0.500000</td>\n",
       "      <td>24.0</td>\n",
       "      <td>N</td>\n",
       "    </tr>\n",
       "    <tr>\n",
       "      <th>3</th>\n",
       "      <td>680</td>\n",
       "      <td>87656</td>\n",
       "      <td>F</td>\n",
       "      <td>50</td>\n",
       "      <td>4.700000</td>\n",
       "      <td>46.0</td>\n",
       "      <td>4.900000</td>\n",
       "      <td>4.2</td>\n",
       "      <td>0.9</td>\n",
       "      <td>2.4</td>\n",
       "      <td>1.4</td>\n",
       "      <td>0.500000</td>\n",
       "      <td>24.0</td>\n",
       "      <td>N</td>\n",
       "    </tr>\n",
       "    <tr>\n",
       "      <th>4</th>\n",
       "      <td>504</td>\n",
       "      <td>34223</td>\n",
       "      <td>M</td>\n",
       "      <td>33</td>\n",
       "      <td>7.100000</td>\n",
       "      <td>46.0</td>\n",
       "      <td>4.900000</td>\n",
       "      <td>4.9</td>\n",
       "      <td>1.0</td>\n",
       "      <td>0.8</td>\n",
       "      <td>2.0</td>\n",
       "      <td>0.400000</td>\n",
       "      <td>21.0</td>\n",
       "      <td>N</td>\n",
       "    </tr>\n",
       "    <tr>\n",
       "      <th>...</th>\n",
       "      <td>...</td>\n",
       "      <td>...</td>\n",
       "      <td>...</td>\n",
       "      <td>...</td>\n",
       "      <td>...</td>\n",
       "      <td>...</td>\n",
       "      <td>...</td>\n",
       "      <td>...</td>\n",
       "      <td>...</td>\n",
       "      <td>...</td>\n",
       "      <td>...</td>\n",
       "      <td>...</td>\n",
       "      <td>...</td>\n",
       "      <td>...</td>\n",
       "    </tr>\n",
       "    <tr>\n",
       "      <th>1004</th>\n",
       "      <td>191</td>\n",
       "      <td>454316</td>\n",
       "      <td>M</td>\n",
       "      <td>55</td>\n",
       "      <td>5.131094</td>\n",
       "      <td>62.0</td>\n",
       "      <td>6.800000</td>\n",
       "      <td>5.3</td>\n",
       "      <td>2.0</td>\n",
       "      <td>1.0</td>\n",
       "      <td>3.5</td>\n",
       "      <td>0.900000</td>\n",
       "      <td>30.1</td>\n",
       "      <td>Y</td>\n",
       "    </tr>\n",
       "    <tr>\n",
       "      <th>1005</th>\n",
       "      <td>192</td>\n",
       "      <td>454316</td>\n",
       "      <td>M</td>\n",
       "      <td>55</td>\n",
       "      <td>4.800000</td>\n",
       "      <td>88.0</td>\n",
       "      <td>8.284155</td>\n",
       "      <td>5.7</td>\n",
       "      <td>4.0</td>\n",
       "      <td>0.9</td>\n",
       "      <td>3.3</td>\n",
       "      <td>1.800000</td>\n",
       "      <td>30.0</td>\n",
       "      <td>Y</td>\n",
       "    </tr>\n",
       "    <tr>\n",
       "      <th>1006</th>\n",
       "      <td>193</td>\n",
       "      <td>454316</td>\n",
       "      <td>M</td>\n",
       "      <td>62</td>\n",
       "      <td>6.300000</td>\n",
       "      <td>82.0</td>\n",
       "      <td>6.700000</td>\n",
       "      <td>5.3</td>\n",
       "      <td>2.0</td>\n",
       "      <td>1.0</td>\n",
       "      <td>3.5</td>\n",
       "      <td>1.850595</td>\n",
       "      <td>30.1</td>\n",
       "      <td>Y</td>\n",
       "    </tr>\n",
       "    <tr>\n",
       "      <th>1007</th>\n",
       "      <td>194</td>\n",
       "      <td>454316</td>\n",
       "      <td>F</td>\n",
       "      <td>57</td>\n",
       "      <td>4.100000</td>\n",
       "      <td>70.0</td>\n",
       "      <td>9.300000</td>\n",
       "      <td>5.3</td>\n",
       "      <td>3.3</td>\n",
       "      <td>1.0</td>\n",
       "      <td>1.4</td>\n",
       "      <td>1.300000</td>\n",
       "      <td>29.0</td>\n",
       "      <td>Y</td>\n",
       "    </tr>\n",
       "    <tr>\n",
       "      <th>1008</th>\n",
       "      <td>195</td>\n",
       "      <td>4543</td>\n",
       "      <td>F</td>\n",
       "      <td>55</td>\n",
       "      <td>4.100000</td>\n",
       "      <td>34.0</td>\n",
       "      <td>13.900000</td>\n",
       "      <td>5.4</td>\n",
       "      <td>1.6</td>\n",
       "      <td>1.6</td>\n",
       "      <td>3.1</td>\n",
       "      <td>0.700000</td>\n",
       "      <td>33.0</td>\n",
       "      <td>Y</td>\n",
       "    </tr>\n",
       "  </tbody>\n",
       "</table>\n",
       "<p>1008 rows × 14 columns</p>\n",
       "</div>"
      ],
      "text/plain": [
       "       ID  Patients_No. Gender  Age      Urea    Cr      HbA1c  Chol   TG  \\\n",
       "0     502         17975      F   50  4.700000  46.0   4.900000   4.2  0.9   \n",
       "1     735         34221      M   26  4.500000  62.0   4.900000   3.7  1.4   \n",
       "2     420         47975      F   50  4.700000  46.0   4.900000   4.2  0.9   \n",
       "3     680         87656      F   50  4.700000  46.0   4.900000   4.2  0.9   \n",
       "4     504         34223      M   33  7.100000  46.0   4.900000   4.9  1.0   \n",
       "...   ...           ...    ...  ...       ...   ...        ...   ...  ...   \n",
       "1004  191        454316      M   55  5.131094  62.0   6.800000   5.3  2.0   \n",
       "1005  192        454316      M   55  4.800000  88.0   8.284155   5.7  4.0   \n",
       "1006  193        454316      M   62  6.300000  82.0   6.700000   5.3  2.0   \n",
       "1007  194        454316      F   57  4.100000  70.0   9.300000   5.3  3.3   \n",
       "1008  195          4543      F   55  4.100000  34.0  13.900000   5.4  1.6   \n",
       "\n",
       "      HDL  LDL      VLDL   BMI CLASS  \n",
       "0     2.4  1.4  0.500000  24.0     N  \n",
       "1     1.1  2.1  0.600000  23.0     N  \n",
       "2     2.4  1.4  0.500000  24.0     N  \n",
       "3     2.4  1.4  0.500000  24.0     N  \n",
       "4     0.8  2.0  0.400000  21.0     N  \n",
       "...   ...  ...       ...   ...   ...  \n",
       "1004  1.0  3.5  0.900000  30.1     Y  \n",
       "1005  0.9  3.3  1.800000  30.0     Y  \n",
       "1006  1.0  3.5  1.850595  30.1     Y  \n",
       "1007  1.0  1.4  1.300000  29.0     Y  \n",
       "1008  1.6  3.1  0.700000  33.0     Y  \n",
       "\n",
       "[1008 rows x 14 columns]"
      ]
     },
     "execution_count": 190,
     "metadata": {},
     "output_type": "execute_result"
    }
   ],
   "source": [
    "df"
   ]
  },
  {
   "cell_type": "code",
   "execution_count": 191,
   "id": "506cb575",
   "metadata": {},
   "outputs": [
    {
     "data": {
      "text/html": [
       "<div>\n",
       "<style scoped>\n",
       "    .dataframe tbody tr th:only-of-type {\n",
       "        vertical-align: middle;\n",
       "    }\n",
       "\n",
       "    .dataframe tbody tr th {\n",
       "        vertical-align: top;\n",
       "    }\n",
       "\n",
       "    .dataframe thead th {\n",
       "        text-align: right;\n",
       "    }\n",
       "</style>\n",
       "<table border=\"1\" class=\"dataframe\">\n",
       "  <thead>\n",
       "    <tr style=\"text-align: right;\">\n",
       "      <th></th>\n",
       "      <th>ID</th>\n",
       "      <th>Patients_No.</th>\n",
       "      <th>Gender</th>\n",
       "      <th>Age</th>\n",
       "      <th>Urea</th>\n",
       "      <th>Cr</th>\n",
       "      <th>HbA1c</th>\n",
       "      <th>Chol</th>\n",
       "      <th>TG</th>\n",
       "      <th>HDL</th>\n",
       "      <th>LDL</th>\n",
       "      <th>VLDL</th>\n",
       "      <th>BMI</th>\n",
       "      <th>CLASS</th>\n",
       "    </tr>\n",
       "  </thead>\n",
       "  <tbody>\n",
       "    <tr>\n",
       "      <th>273</th>\n",
       "      <td>1</td>\n",
       "      <td>34325</td>\n",
       "      <td>M</td>\n",
       "      <td>58</td>\n",
       "      <td>20.8</td>\n",
       "      <td>800.0</td>\n",
       "      <td>9.1</td>\n",
       "      <td>6.6</td>\n",
       "      <td>2.9</td>\n",
       "      <td>1.1</td>\n",
       "      <td>4.3</td>\n",
       "      <td>1.3</td>\n",
       "      <td>33.0</td>\n",
       "      <td>Y</td>\n",
       "    </tr>\n",
       "    <tr>\n",
       "      <th>846</th>\n",
       "      <td>1</td>\n",
       "      <td>34325</td>\n",
       "      <td>M</td>\n",
       "      <td>56</td>\n",
       "      <td>20.8</td>\n",
       "      <td>800.0</td>\n",
       "      <td>9.0</td>\n",
       "      <td>4.6</td>\n",
       "      <td>2.0</td>\n",
       "      <td>1.2</td>\n",
       "      <td>2.5</td>\n",
       "      <td>0.9</td>\n",
       "      <td>35.0</td>\n",
       "      <td>Y</td>\n",
       "    </tr>\n",
       "    <tr>\n",
       "      <th>847</th>\n",
       "      <td>2</td>\n",
       "      <td>44835</td>\n",
       "      <td>M</td>\n",
       "      <td>60</td>\n",
       "      <td>2.1</td>\n",
       "      <td>56.0</td>\n",
       "      <td>7.2</td>\n",
       "      <td>6.3</td>\n",
       "      <td>3.7</td>\n",
       "      <td>1.0</td>\n",
       "      <td>3.7</td>\n",
       "      <td>1.7</td>\n",
       "      <td>28.0</td>\n",
       "      <td>Y</td>\n",
       "    </tr>\n",
       "    <tr>\n",
       "      <th>541</th>\n",
       "      <td>2</td>\n",
       "      <td>44835</td>\n",
       "      <td>M</td>\n",
       "      <td>60</td>\n",
       "      <td>2.1</td>\n",
       "      <td>56.0</td>\n",
       "      <td>7.6</td>\n",
       "      <td>3.3</td>\n",
       "      <td>1.7</td>\n",
       "      <td>0.9</td>\n",
       "      <td>1.7</td>\n",
       "      <td>0.8</td>\n",
       "      <td>36.6</td>\n",
       "      <td>Y</td>\n",
       "    </tr>\n",
       "    <tr>\n",
       "      <th>848</th>\n",
       "      <td>3</td>\n",
       "      <td>41248</td>\n",
       "      <td>M</td>\n",
       "      <td>53</td>\n",
       "      <td>4.2</td>\n",
       "      <td>55.0</td>\n",
       "      <td>8.0</td>\n",
       "      <td>5.0</td>\n",
       "      <td>2.5</td>\n",
       "      <td>1.3</td>\n",
       "      <td>2.3</td>\n",
       "      <td>1.6</td>\n",
       "      <td>30.0</td>\n",
       "      <td>Y</td>\n",
       "    </tr>\n",
       "    <tr>\n",
       "      <th>...</th>\n",
       "      <td>...</td>\n",
       "      <td>...</td>\n",
       "      <td>...</td>\n",
       "      <td>...</td>\n",
       "      <td>...</td>\n",
       "      <td>...</td>\n",
       "      <td>...</td>\n",
       "      <td>...</td>\n",
       "      <td>...</td>\n",
       "      <td>...</td>\n",
       "      <td>...</td>\n",
       "      <td>...</td>\n",
       "      <td>...</td>\n",
       "      <td>...</td>\n",
       "    </tr>\n",
       "    <tr>\n",
       "      <th>654</th>\n",
       "      <td>796</td>\n",
       "      <td>34514</td>\n",
       "      <td>M</td>\n",
       "      <td>51</td>\n",
       "      <td>3.7</td>\n",
       "      <td>58.0</td>\n",
       "      <td>9.0</td>\n",
       "      <td>6.2</td>\n",
       "      <td>1.5</td>\n",
       "      <td>1.6</td>\n",
       "      <td>1.7</td>\n",
       "      <td>1.5</td>\n",
       "      <td>35.0</td>\n",
       "      <td>Y</td>\n",
       "    </tr>\n",
       "    <tr>\n",
       "      <th>717</th>\n",
       "      <td>797</td>\n",
       "      <td>34515</td>\n",
       "      <td>M</td>\n",
       "      <td>56</td>\n",
       "      <td>4.2</td>\n",
       "      <td>70.0</td>\n",
       "      <td>6.9</td>\n",
       "      <td>4.2</td>\n",
       "      <td>2.6</td>\n",
       "      <td>1.8</td>\n",
       "      <td>4.0</td>\n",
       "      <td>1.5</td>\n",
       "      <td>31.0</td>\n",
       "      <td>Y</td>\n",
       "    </tr>\n",
       "    <tr>\n",
       "      <th>479</th>\n",
       "      <td>798</td>\n",
       "      <td>34516</td>\n",
       "      <td>M</td>\n",
       "      <td>60</td>\n",
       "      <td>2.7</td>\n",
       "      <td>35.0</td>\n",
       "      <td>9.0</td>\n",
       "      <td>4.4</td>\n",
       "      <td>2.0</td>\n",
       "      <td>0.6</td>\n",
       "      <td>3.0</td>\n",
       "      <td>0.9</td>\n",
       "      <td>27.0</td>\n",
       "      <td>Y</td>\n",
       "    </tr>\n",
       "    <tr>\n",
       "      <th>48</th>\n",
       "      <td>799</td>\n",
       "      <td>34517</td>\n",
       "      <td>F</td>\n",
       "      <td>44</td>\n",
       "      <td>3.0</td>\n",
       "      <td>39.0</td>\n",
       "      <td>5.5</td>\n",
       "      <td>9.5</td>\n",
       "      <td>1.7</td>\n",
       "      <td>1.3</td>\n",
       "      <td>2.5</td>\n",
       "      <td>0.6</td>\n",
       "      <td>21.0</td>\n",
       "      <td>N</td>\n",
       "    </tr>\n",
       "    <tr>\n",
       "      <th>740</th>\n",
       "      <td>800</td>\n",
       "      <td>34518</td>\n",
       "      <td>F</td>\n",
       "      <td>52</td>\n",
       "      <td>4.7</td>\n",
       "      <td>34.0</td>\n",
       "      <td>9.9</td>\n",
       "      <td>5.1</td>\n",
       "      <td>4.5</td>\n",
       "      <td>0.6</td>\n",
       "      <td>2.7</td>\n",
       "      <td>2.0</td>\n",
       "      <td>26.0</td>\n",
       "      <td>Y</td>\n",
       "    </tr>\n",
       "  </tbody>\n",
       "</table>\n",
       "<p>1008 rows × 14 columns</p>\n",
       "</div>"
      ],
      "text/plain": [
       "      ID  Patients_No. Gender  Age  Urea     Cr  HbA1c  Chol   TG  HDL  LDL  \\\n",
       "273    1         34325      M   58  20.8  800.0    9.1   6.6  2.9  1.1  4.3   \n",
       "846    1         34325      M   56  20.8  800.0    9.0   4.6  2.0  1.2  2.5   \n",
       "847    2         44835      M   60   2.1   56.0    7.2   6.3  3.7  1.0  3.7   \n",
       "541    2         44835      M   60   2.1   56.0    7.6   3.3  1.7  0.9  1.7   \n",
       "848    3         41248      M   53   4.2   55.0    8.0   5.0  2.5  1.3  2.3   \n",
       "..   ...           ...    ...  ...   ...    ...    ...   ...  ...  ...  ...   \n",
       "654  796         34514      M   51   3.7   58.0    9.0   6.2  1.5  1.6  1.7   \n",
       "717  797         34515      M   56   4.2   70.0    6.9   4.2  2.6  1.8  4.0   \n",
       "479  798         34516      M   60   2.7   35.0    9.0   4.4  2.0  0.6  3.0   \n",
       "48   799         34517      F   44   3.0   39.0    5.5   9.5  1.7  1.3  2.5   \n",
       "740  800         34518      F   52   4.7   34.0    9.9   5.1  4.5  0.6  2.7   \n",
       "\n",
       "     VLDL   BMI CLASS  \n",
       "273   1.3  33.0     Y  \n",
       "846   0.9  35.0     Y  \n",
       "847   1.7  28.0     Y  \n",
       "541   0.8  36.6     Y  \n",
       "848   1.6  30.0     Y  \n",
       "..    ...   ...   ...  \n",
       "654   1.5  35.0     Y  \n",
       "717   1.5  31.0     Y  \n",
       "479   0.9  27.0     Y  \n",
       "48    0.6  21.0     N  \n",
       "740   2.0  26.0     Y  \n",
       "\n",
       "[1008 rows x 14 columns]"
      ]
     },
     "execution_count": 191,
     "metadata": {},
     "output_type": "execute_result"
    }
   ],
   "source": [
    "df.sort_values(['ID'])"
   ]
  },
  {
   "cell_type": "code",
   "execution_count": null,
   "id": "048eaf5b",
   "metadata": {},
   "outputs": [],
   "source": []
  }
 ],
 "metadata": {
  "kernelspec": {
   "display_name": "Python 3 (ipykernel)",
   "language": "python",
   "name": "python3"
  },
  "language_info": {
   "codemirror_mode": {
    "name": "ipython",
    "version": 3
   },
   "file_extension": ".py",
   "mimetype": "text/x-python",
   "name": "python",
   "nbconvert_exporter": "python",
   "pygments_lexer": "ipython3",
   "version": "3.9.13"
  }
 },
 "nbformat": 4,
 "nbformat_minor": 5
}
